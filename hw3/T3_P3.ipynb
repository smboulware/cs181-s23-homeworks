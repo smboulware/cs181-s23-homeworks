{
 "cells": [
  {
   "attachments": {},
   "cell_type": "markdown",
   "metadata": {},
   "source": [
    "# **CS 181 HW3 Problem 3**\n",
    "---\n",
    "\n",
    "This problem serves as an introduction to building and training machine learning models with PyTorch. This notebook seems long, so here is a breakdown:\n",
    "- **0) Why PyTorch?** Explains what PyTorch is.\n",
    "- **1) Initializing tensors**  Explains how we initialize tensors.\n",
    "- **2) Gradients**  Explains how gradients work.\n",
    "- **3) MNIST**  Introduces you to a very famous toy dataset.\n",
    "- **4) Creating a neural network**  Here you create the parameters and architecture of your models from scratch.\n",
    "- **5) Training a neural network**  Here you create a training loop from scratch.\n",
    "\n",
    "Parts **0-3** are an introdution to PyTorch. The only deliverables you need to complete are clearly labelled in pars **4-5**. This suffices to replacing `'not implemented'`."
   ]
  },
  {
   "attachments": {},
   "cell_type": "markdown",
   "metadata": {},
   "source": [
    "To account for version issues (i.e. if you think your code is right, but you're not getting the right plot), try the following. In your terminal:\n",
    "\n",
    "1. Create a new environment with `python -m venv venv`\n",
    "2. Activate that environment with `source venv/bin/activate`\n",
    "3. Make sure the interpreter in the top right corner of your VSCode (or whatever u use to run ur code is venv).\n",
    "4. If you get a \"install kernel\" message, press it.\n",
    "5. Run `pip install -r requirements.txt`\n",
    "6. Run the remainder of this notebook."
   ]
  },
  {
   "cell_type": "code",
   "execution_count": 1,
   "metadata": {},
   "outputs": [],
   "source": [
    "import torch\n",
    "import torchvision\n",
    "import matplotlib.pyplot as plt\n",
    "from tqdm import tqdm\n",
    "import numpy as np\n",
    "\n",
    "from T3_P3_TestCases import test_forward_pass\n",
    "\n",
    "%matplotlib inline\n",
    "%config InlineBackend.figure_format = 'svg'"
   ]
  },
  {
   "cell_type": "markdown",
   "metadata": {},
   "source": [
    "<br>\n",
    "<br>"
   ]
  },
  {
   "cell_type": "markdown",
   "metadata": {},
   "source": [
    "## **0) Why PyTorch?**"
   ]
  },
  {
   "cell_type": "markdown",
   "metadata": {},
   "source": [
    "PyTorch is an open source machine learning framework based on the Torch library. It is currently by far the most popular library for implementing machine learning projects. Unlike in NumPy, PyTorch allows you to perform tensor operations on the GPU. This, alongside dynamic auto-differentiation, makes PyTorch extremely performative and flexible. Learning to use PyTorch will mean you are able to prototype, train, and test production-quality models for work or research.\n",
    "\n",
    "All the building blocks for machine learning architectures (activation functions, loss functions, neural network layers, etc) are written for you. Exploring everything PyTorch offers takes patience. If you want to and dive further into deep learning, we highly encourage you to read through the [D2L (d2l.ai)](https://d2l.ai/) course, which gives tutorials on how to write even the most state of the art deep learning models from scratch."
   ]
  },
  {
   "cell_type": "markdown",
   "metadata": {},
   "source": [
    "## **1) Initializing tensors**"
   ]
  },
  {
   "cell_type": "markdown",
   "metadata": {},
   "source": [
    "Initializing tensors in PyTorch is analagous to initializing arrays in NumPy. (This is because `torch.Tensor` is a wrapper of `numpy.ndarray`). Below we initialize a tensor with all $0$'s, one with all $1$'s, and one with all random numbers."
   ]
  },
  {
   "cell_type": "code",
   "execution_count": 2,
   "metadata": {},
   "outputs": [
    {
     "name": "stdout",
     "output_type": "stream",
     "text": [
      "Zeroes:\n",
      "tensor([[0., 0.],\n",
      "        [0., 0.],\n",
      "        [0., 0.]])\n",
      "\n",
      "Ones:\n",
      "tensor([[1., 1.],\n",
      "        [1., 1.],\n",
      "        [1., 1.]])\n",
      "\n",
      "Random:\n",
      "tensor([[-0.9984, -2.4075],\n",
      "        [ 0.3678, -0.0423],\n",
      "        [-0.2766, -0.0995]])\n"
     ]
    }
   ],
   "source": [
    "n, d = 3, 2\n",
    "\n",
    "zeroes = torch.zeros(size=(n, d))\n",
    "print(f'Zeroes:\\n{zeroes}')\n",
    "\n",
    "ones = torch.ones(size=(n, d))\n",
    "print(f'\\nOnes:\\n{ones}')\n",
    "\n",
    "rand = torch.randn(size=(n, d))\n",
    "print(f'\\nRandom:\\n{rand}')\n"
   ]
  },
  {
   "cell_type": "markdown",
   "metadata": {},
   "source": [
    "It seems that `torch.randn` initializes a tensor according to some unknown random distribution. Let's sleuthe out what that distribution might be! First, we can sample this distribution by randomly initializing `n` many $48 \\times 64$ matrices (let's call them \"images\"):"
   ]
  },
  {
   "cell_type": "code",
   "execution_count": 3,
   "metadata": {},
   "outputs": [
    {
     "name": "stdout",
     "output_type": "stream",
     "text": [
      "Images shape:\t\ttorch.Size([3, 48, 64])\n",
      "First image shape:\ttorch.Size([48, 64])\n",
      "Second image shape:\ttorch.Size([48, 64])\n",
      "Third image shape:\ttorch.Size([48, 64])\n"
     ]
    }
   ],
   "source": [
    "height, width = 48, 64\n",
    "images = torch.randn(size=(n, height, width))\n",
    "\n",
    "print(f'Images shape:\\t\\t{images.shape}')\n",
    "print(f'First image shape:\\t{images[0].shape}')\n",
    "print(f'Second image shape:\\t{images[1].shape}')\n",
    "print(f'Third image shape:\\t{images[2].shape}')"
   ]
  },
  {
   "cell_type": "markdown",
   "metadata": {},
   "source": [
    "Notice that the shape of `images` is `(3, 48, 64)`, meaning $3\\times 48 \\times 64$. This tensor has 3 axes, or dimensions. The first dimension indexes over all the individual images `images[0]`, `images[1]`, `images[2]`. The second dimension indexes over all the rows in a particular image. The third dimension indexes over the columns in a particular row. This means `images[0][5][2]`, or more cleanly `images[0,5,2]`, gives us the 2nd pixel on the 5th row of the 0th image.\n",
    "\n",
    "Now that we understand the shape of this `images` object we created, we can visualize the distribution of `torch.randn` by plotting a histogram of the pixel values for each image. To do this, let's flatten our collection of images by flattening the last two dimensions. Since each image is $48 \\times 64$, it has $3072$ pixels. Hence, we should see the result `flattened_images` to have the shape `(3, 3072)` and we do.\n",
    "\n",
    "Interesting! We can visually tell that `torch.randn` samples from the standard normal distribution $\\mathcal N(0, 1)$."
   ]
  },
  {
   "cell_type": "code",
   "execution_count": 4,
   "metadata": {},
   "outputs": [
    {
     "name": "stdout",
     "output_type": "stream",
     "text": [
      "Flattened images shape:\ttorch.Size([3, 3072])\n"
     ]
    },
    {
     "data": {
      "text/plain": [
       "[]"
      ]
     },
     "execution_count": 4,
     "metadata": {},
     "output_type": "execute_result"
    },
    {
     "data": {
      "image/svg+xml": "<?xml version=\"1.0\" encoding=\"utf-8\" standalone=\"no\"?>\n<!DOCTYPE svg PUBLIC \"-//W3C//DTD SVG 1.1//EN\"\n  \"http://www.w3.org/Graphics/SVG/1.1/DTD/svg11.dtd\">\n<svg xmlns:xlink=\"http://www.w3.org/1999/xlink\" width=\"397.6075pt\" height=\"312.30825pt\" viewBox=\"0 0 397.6075 312.30825\" xmlns=\"http://www.w3.org/2000/svg\" version=\"1.1\">\n <metadata>\n  <rdf:RDF xmlns:dc=\"http://purl.org/dc/elements/1.1/\" xmlns:cc=\"http://creativecommons.org/ns#\" xmlns:rdf=\"http://www.w3.org/1999/02/22-rdf-syntax-ns#\">\n   <cc:Work>\n    <dc:type rdf:resource=\"http://purl.org/dc/dcmitype/StillImage\"/>\n    <dc:date>2023-03-24T21:41:39.016565</dc:date>\n    <dc:format>image/svg+xml</dc:format>\n    <dc:creator>\n     <cc:Agent>\n      <dc:title>Matplotlib v3.6.3, https://matplotlib.org/</dc:title>\n     </cc:Agent>\n    </dc:creator>\n   </cc:Work>\n  </rdf:RDF>\n </metadata>\n <defs>\n  <style type=\"text/css\">*{stroke-linejoin: round; stroke-linecap: butt}</style>\n </defs>\n <g id=\"figure_1\">\n  <g id=\"patch_1\">\n   <path d=\"M 0 312.30825 \nL 397.6075 312.30825 \nL 397.6075 0 \nL 0 0 \nz\n\" style=\"fill: #ffffff\"/>\n  </g>\n  <g id=\"axes_1\">\n   <g id=\"patch_2\">\n    <path d=\"M 33.2875 288.430125 \nL 390.4075 288.430125 \nL 390.4075 22.318125 \nL 33.2875 22.318125 \nz\n\" style=\"fill: #ffffff\"/>\n   </g>\n   <g id=\"patch_3\">\n    <path d=\"M 49.520227 288.430125 \nL 58.354364 288.430125 \nL 58.354364 287.878569 \nL 49.520227 287.878569 \nz\n\" clip-path=\"url(#pcf4b208593)\" style=\"fill: #dc143c\"/>\n   </g>\n   <g id=\"patch_4\">\n    <path d=\"M 82.64824 288.430125 \nL 91.482377 288.430125 \nL 91.482377 282.638787 \nL 82.64824 282.638787 \nz\n\" clip-path=\"url(#pcf4b208593)\" style=\"fill: #dc143c\"/>\n   </g>\n   <g id=\"patch_5\">\n    <path d=\"M 115.776253 288.430125 \nL 124.610391 288.430125 \nL 124.610391 261.403879 \nL 115.776253 261.403879 \nz\n\" clip-path=\"url(#pcf4b208593)\" style=\"fill: #dc143c\"/>\n   </g>\n   <g id=\"patch_6\">\n    <path d=\"M 148.904271 288.430125 \nL 157.738409 288.430125 \nL 157.738409 191.63204 \nL 148.904271 191.63204 \nz\n\" clip-path=\"url(#pcf4b208593)\" style=\"fill: #dc143c\"/>\n   </g>\n   <g id=\"patch_7\">\n    <path d=\"M 182.032289 288.430125 \nL 190.866425 288.430125 \nL 190.866425 83.527056 \nL 182.032289 83.527056 \nz\n\" clip-path=\"url(#pcf4b208593)\" style=\"fill: #dc143c\"/>\n   </g>\n   <g id=\"patch_8\">\n    <path d=\"M 215.160302 288.430125 \nL 223.994439 288.430125 \nL 223.994439 39.678351 \nL 215.160302 39.678351 \nz\n\" clip-path=\"url(#pcf4b208593)\" style=\"fill: #dc143c\"/>\n   </g>\n   <g id=\"patch_9\">\n    <path d=\"M 248.288317 288.430125 \nL 257.122454 288.430125 \nL 257.122454 125.996871 \nL 248.288317 125.996871 \nz\n\" clip-path=\"url(#pcf4b208593)\" style=\"fill: #dc143c\"/>\n   </g>\n   <g id=\"patch_10\">\n    <path d=\"M 281.416332 288.430125 \nL 290.250469 288.430125 \nL 290.250469 204.869385 \nL 281.416332 204.869385 \nz\n\" clip-path=\"url(#pcf4b208593)\" style=\"fill: #dc143c\"/>\n   </g>\n   <g id=\"patch_11\">\n    <path d=\"M 314.544345 288.430125 \nL 323.378483 288.430125 \nL 323.378483 272.159222 \nL 314.544345 272.159222 \nz\n\" clip-path=\"url(#pcf4b208593)\" style=\"fill: #dc143c\"/>\n   </g>\n   <g id=\"patch_12\">\n    <path d=\"M 347.672363 288.430125 \nL 356.506499 288.430125 \nL 356.506499 287.327013 \nL 347.672363 287.327013 \nz\n\" clip-path=\"url(#pcf4b208593)\" style=\"fill: #dc143c\"/>\n   </g>\n   <g id=\"patch_13\">\n    <path d=\"M 58.354364 288.430125 \nL 67.188501 288.430125 \nL 67.188501 288.154347 \nL 58.354364 288.154347 \nz\n\" clip-path=\"url(#pcf4b208593)\" style=\"fill: #800080\"/>\n   </g>\n   <g id=\"patch_14\">\n    <path d=\"M 91.482377 288.430125 \nL 100.316513 288.430125 \nL 100.316513 284.017677 \nL 91.482377 284.017677 \nz\n\" clip-path=\"url(#pcf4b208593)\" style=\"fill: #800080\"/>\n   </g>\n   <g id=\"patch_15\">\n    <path d=\"M 124.610391 288.430125 \nL 133.444529 288.430125 \nL 133.444529 266.092105 \nL 124.610391 266.092105 \nz\n\" clip-path=\"url(#pcf4b208593)\" style=\"fill: #800080\"/>\n   </g>\n   <g id=\"patch_16\">\n    <path d=\"M 157.738409 288.430125 \nL 166.572547 288.430125 \nL 166.572547 199.905381 \nL 157.738409 199.905381 \nz\n\" clip-path=\"url(#pcf4b208593)\" style=\"fill: #800080\"/>\n   </g>\n   <g id=\"patch_17\">\n    <path d=\"M 190.866425 288.430125 \nL 199.700562 288.430125 \nL 199.700562 93.730843 \nL 190.866425 93.730843 \nz\n\" clip-path=\"url(#pcf4b208593)\" style=\"fill: #800080\"/>\n   </g>\n   <g id=\"patch_18\">\n    <path d=\"M 223.994439 288.430125 \nL 232.828576 288.430125 \nL 232.828576 34.990125 \nL 223.994439 34.990125 \nz\n\" clip-path=\"url(#pcf4b208593)\" style=\"fill: #800080\"/>\n   </g>\n   <g id=\"patch_19\">\n    <path d=\"M 257.122454 288.430125 \nL 265.956592 288.430125 \nL 265.956592 98.41907 \nL 257.122454 98.41907 \nz\n\" clip-path=\"url(#pcf4b208593)\" style=\"fill: #800080\"/>\n   </g>\n   <g id=\"patch_20\">\n    <path d=\"M 290.250469 288.430125 \nL 299.084605 288.430125 \nL 299.084605 217.003618 \nL 290.250469 217.003618 \nz\n\" clip-path=\"url(#pcf4b208593)\" style=\"fill: #800080\"/>\n   </g>\n   <g id=\"patch_21\">\n    <path d=\"M 323.378483 288.430125 \nL 332.212621 288.430125 \nL 332.212621 267.746774 \nL 323.378483 267.746774 \nz\n\" clip-path=\"url(#pcf4b208593)\" style=\"fill: #800080\"/>\n   </g>\n   <g id=\"patch_22\">\n    <path d=\"M 356.506499 288.430125 \nL 365.340636 288.430125 \nL 365.340636 287.051235 \nL 356.506499 287.051235 \nz\n\" clip-path=\"url(#pcf4b208593)\" style=\"fill: #800080\"/>\n   </g>\n   <g id=\"patch_23\">\n    <path d=\"M 67.188501 288.430125 \nL 76.022637 288.430125 \nL 76.022637 287.878569 \nL 67.188501 287.878569 \nz\n\" clip-path=\"url(#pcf4b208593)\" style=\"fill: #ff6347\"/>\n   </g>\n   <g id=\"patch_24\">\n    <path d=\"M 100.316513 288.430125 \nL 109.15065 288.430125 \nL 109.15065 284.293455 \nL 100.316513 284.293455 \nz\n\" clip-path=\"url(#pcf4b208593)\" style=\"fill: #ff6347\"/>\n   </g>\n   <g id=\"patch_25\">\n    <path d=\"M 133.444529 288.430125 \nL 142.278668 288.430125 \nL 142.278668 264.437437 \nL 133.444529 264.437437 \nz\n\" clip-path=\"url(#pcf4b208593)\" style=\"fill: #ff6347\"/>\n   </g>\n   <g id=\"patch_26\">\n    <path d=\"M 166.572547 288.430125 \nL 175.406685 288.430125 \nL 175.406685 203.214717 \nL 166.572547 203.214717 \nz\n\" clip-path=\"url(#pcf4b208593)\" style=\"fill: #ff6347\"/>\n   </g>\n   <g id=\"patch_27\">\n    <path d=\"M 199.700562 288.430125 \nL 208.534699 288.430125 \nL 208.534699 84.354391 \nL 199.700562 84.354391 \nz\n\" clip-path=\"url(#pcf4b208593)\" style=\"fill: #ff6347\"/>\n   </g>\n   <g id=\"patch_28\">\n    <path d=\"M 232.828576 288.430125 \nL 241.662714 288.430125 \nL 241.662714 40.781463 \nL 232.828576 40.781463 \nz\n\" clip-path=\"url(#pcf4b208593)\" style=\"fill: #ff6347\"/>\n   </g>\n   <g id=\"patch_29\">\n    <path d=\"M 265.956592 288.430125 \nL 274.790729 288.430125 \nL 274.790729 108.622856 \nL 265.956592 108.622856 \nz\n\" clip-path=\"url(#pcf4b208593)\" style=\"fill: #ff6347\"/>\n   </g>\n   <g id=\"patch_30\">\n    <path d=\"M 299.084605 288.430125 \nL 307.918742 288.430125 \nL 307.918742 207.627165 \nL 299.084605 207.627165 \nz\n\" clip-path=\"url(#pcf4b208593)\" style=\"fill: #ff6347\"/>\n   </g>\n   <g id=\"patch_31\">\n    <path d=\"M 332.212621 288.430125 \nL 341.046759 288.430125 \nL 341.046759 270.780332 \nL 332.212621 270.780332 \nz\n\" clip-path=\"url(#pcf4b208593)\" style=\"fill: #ff6347\"/>\n   </g>\n   <g id=\"patch_32\">\n    <path d=\"M 365.340636 288.430125 \nL 374.174773 288.430125 \nL 374.174773 285.120789 \nL 365.340636 285.120789 \nz\n\" clip-path=\"url(#pcf4b208593)\" style=\"fill: #ff6347\"/>\n   </g>\n   <g id=\"matplotlib.axis_1\">\n    <g id=\"xtick_1\">\n     <g id=\"line2d_1\">\n      <defs>\n       <path id=\"m41d855a9a7\" d=\"M 0 0 \nL 0 3.5 \n\" style=\"stroke: #000000; stroke-width: 0.8\"/>\n      </defs>\n      <g>\n       <use xlink:href=\"#m41d855a9a7\" x=\"52.429397\" y=\"288.430125\" style=\"stroke: #000000; stroke-width: 0.8\"/>\n      </g>\n     </g>\n     <g id=\"text_1\">\n      <!-- −4 -->\n      <g transform=\"translate(45.058303 303.028562) scale(0.1 -0.1)\">\n       <defs>\n        <path id=\"DejaVuSans-2212\" d=\"M 678 2272 \nL 4684 2272 \nL 4684 1741 \nL 678 1741 \nL 678 2272 \nz\n\" transform=\"scale(0.015625)\"/>\n        <path id=\"DejaVuSans-34\" d=\"M 2419 4116 \nL 825 1625 \nL 2419 1625 \nL 2419 4116 \nz\nM 2253 4666 \nL 3047 4666 \nL 3047 1625 \nL 3713 1625 \nL 3713 1100 \nL 3047 1100 \nL 3047 0 \nL 2419 0 \nL 2419 1100 \nL 313 1100 \nL 313 1709 \nL 2253 4666 \nz\n\" transform=\"scale(0.015625)\"/>\n       </defs>\n       <use xlink:href=\"#DejaVuSans-2212\"/>\n       <use xlink:href=\"#DejaVuSans-34\" x=\"83.789062\"/>\n      </g>\n     </g>\n    </g>\n    <g id=\"xtick_2\">\n     <g id=\"line2d_2\">\n      <g>\n       <use xlink:href=\"#m41d855a9a7\" x=\"95.888198\" y=\"288.430125\" style=\"stroke: #000000; stroke-width: 0.8\"/>\n      </g>\n     </g>\n     <g id=\"text_2\">\n      <!-- −3 -->\n      <g transform=\"translate(88.517104 303.028562) scale(0.1 -0.1)\">\n       <defs>\n        <path id=\"DejaVuSans-33\" d=\"M 2597 2516 \nQ 3050 2419 3304 2112 \nQ 3559 1806 3559 1356 \nQ 3559 666 3084 287 \nQ 2609 -91 1734 -91 \nQ 1441 -91 1130 -33 \nQ 819 25 488 141 \nL 488 750 \nQ 750 597 1062 519 \nQ 1375 441 1716 441 \nQ 2309 441 2620 675 \nQ 2931 909 2931 1356 \nQ 2931 1769 2642 2001 \nQ 2353 2234 1838 2234 \nL 1294 2234 \nL 1294 2753 \nL 1863 2753 \nQ 2328 2753 2575 2939 \nQ 2822 3125 2822 3475 \nQ 2822 3834 2567 4026 \nQ 2313 4219 1838 4219 \nQ 1578 4219 1281 4162 \nQ 984 4106 628 3988 \nL 628 4550 \nQ 988 4650 1302 4700 \nQ 1616 4750 1894 4750 \nQ 2613 4750 3031 4423 \nQ 3450 4097 3450 3541 \nQ 3450 3153 3228 2886 \nQ 3006 2619 2597 2516 \nz\n\" transform=\"scale(0.015625)\"/>\n       </defs>\n       <use xlink:href=\"#DejaVuSans-2212\"/>\n       <use xlink:href=\"#DejaVuSans-33\" x=\"83.789062\"/>\n      </g>\n     </g>\n    </g>\n    <g id=\"xtick_3\">\n     <g id=\"line2d_3\">\n      <g>\n       <use xlink:href=\"#m41d855a9a7\" x=\"139.346999\" y=\"288.430125\" style=\"stroke: #000000; stroke-width: 0.8\"/>\n      </g>\n     </g>\n     <g id=\"text_3\">\n      <!-- −2 -->\n      <g transform=\"translate(131.975905 303.028562) scale(0.1 -0.1)\">\n       <defs>\n        <path id=\"DejaVuSans-32\" d=\"M 1228 531 \nL 3431 531 \nL 3431 0 \nL 469 0 \nL 469 531 \nQ 828 903 1448 1529 \nQ 2069 2156 2228 2338 \nQ 2531 2678 2651 2914 \nQ 2772 3150 2772 3378 \nQ 2772 3750 2511 3984 \nQ 2250 4219 1831 4219 \nQ 1534 4219 1204 4116 \nQ 875 4013 500 3803 \nL 500 4441 \nQ 881 4594 1212 4672 \nQ 1544 4750 1819 4750 \nQ 2544 4750 2975 4387 \nQ 3406 4025 3406 3419 \nQ 3406 3131 3298 2873 \nQ 3191 2616 2906 2266 \nQ 2828 2175 2409 1742 \nQ 1991 1309 1228 531 \nz\n\" transform=\"scale(0.015625)\"/>\n       </defs>\n       <use xlink:href=\"#DejaVuSans-2212\"/>\n       <use xlink:href=\"#DejaVuSans-32\" x=\"83.789062\"/>\n      </g>\n     </g>\n    </g>\n    <g id=\"xtick_4\">\n     <g id=\"line2d_4\">\n      <g>\n       <use xlink:href=\"#m41d855a9a7\" x=\"182.8058\" y=\"288.430125\" style=\"stroke: #000000; stroke-width: 0.8\"/>\n      </g>\n     </g>\n     <g id=\"text_4\">\n      <!-- −1 -->\n      <g transform=\"translate(175.434706 303.028562) scale(0.1 -0.1)\">\n       <defs>\n        <path id=\"DejaVuSans-31\" d=\"M 794 531 \nL 1825 531 \nL 1825 4091 \nL 703 3866 \nL 703 4441 \nL 1819 4666 \nL 2450 4666 \nL 2450 531 \nL 3481 531 \nL 3481 0 \nL 794 0 \nL 794 531 \nz\n\" transform=\"scale(0.015625)\"/>\n       </defs>\n       <use xlink:href=\"#DejaVuSans-2212\"/>\n       <use xlink:href=\"#DejaVuSans-31\" x=\"83.789062\"/>\n      </g>\n     </g>\n    </g>\n    <g id=\"xtick_5\">\n     <g id=\"line2d_5\">\n      <g>\n       <use xlink:href=\"#m41d855a9a7\" x=\"226.264601\" y=\"288.430125\" style=\"stroke: #000000; stroke-width: 0.8\"/>\n      </g>\n     </g>\n     <g id=\"text_5\">\n      <!-- 0 -->\n      <g transform=\"translate(223.083351 303.028562) scale(0.1 -0.1)\">\n       <defs>\n        <path id=\"DejaVuSans-30\" d=\"M 2034 4250 \nQ 1547 4250 1301 3770 \nQ 1056 3291 1056 2328 \nQ 1056 1369 1301 889 \nQ 1547 409 2034 409 \nQ 2525 409 2770 889 \nQ 3016 1369 3016 2328 \nQ 3016 3291 2770 3770 \nQ 2525 4250 2034 4250 \nz\nM 2034 4750 \nQ 2819 4750 3233 4129 \nQ 3647 3509 3647 2328 \nQ 3647 1150 3233 529 \nQ 2819 -91 2034 -91 \nQ 1250 -91 836 529 \nQ 422 1150 422 2328 \nQ 422 3509 836 4129 \nQ 1250 4750 2034 4750 \nz\n\" transform=\"scale(0.015625)\"/>\n       </defs>\n       <use xlink:href=\"#DejaVuSans-30\"/>\n      </g>\n     </g>\n    </g>\n    <g id=\"xtick_6\">\n     <g id=\"line2d_6\">\n      <g>\n       <use xlink:href=\"#m41d855a9a7\" x=\"269.723403\" y=\"288.430125\" style=\"stroke: #000000; stroke-width: 0.8\"/>\n      </g>\n     </g>\n     <g id=\"text_6\">\n      <!-- 1 -->\n      <g transform=\"translate(266.542153 303.028562) scale(0.1 -0.1)\">\n       <use xlink:href=\"#DejaVuSans-31\"/>\n      </g>\n     </g>\n    </g>\n    <g id=\"xtick_7\">\n     <g id=\"line2d_7\">\n      <g>\n       <use xlink:href=\"#m41d855a9a7\" x=\"313.182204\" y=\"288.430125\" style=\"stroke: #000000; stroke-width: 0.8\"/>\n      </g>\n     </g>\n     <g id=\"text_7\">\n      <!-- 2 -->\n      <g transform=\"translate(310.000954 303.028562) scale(0.1 -0.1)\">\n       <use xlink:href=\"#DejaVuSans-32\"/>\n      </g>\n     </g>\n    </g>\n    <g id=\"xtick_8\">\n     <g id=\"line2d_8\">\n      <g>\n       <use xlink:href=\"#m41d855a9a7\" x=\"356.641005\" y=\"288.430125\" style=\"stroke: #000000; stroke-width: 0.8\"/>\n      </g>\n     </g>\n     <g id=\"text_8\">\n      <!-- 3 -->\n      <g transform=\"translate(353.459755 303.028562) scale(0.1 -0.1)\">\n       <use xlink:href=\"#DejaVuSans-33\"/>\n      </g>\n     </g>\n    </g>\n   </g>\n   <g id=\"matplotlib.axis_2\">\n    <g id=\"ytick_1\">\n     <g id=\"line2d_9\">\n      <defs>\n       <path id=\"me8a629270e\" d=\"M 0 0 \nL -3.5 0 \n\" style=\"stroke: #000000; stroke-width: 0.8\"/>\n      </defs>\n      <g>\n       <use xlink:href=\"#me8a629270e\" x=\"33.2875\" y=\"288.430125\" style=\"stroke: #000000; stroke-width: 0.8\"/>\n      </g>\n     </g>\n     <g id=\"text_9\">\n      <!-- 0 -->\n      <g transform=\"translate(19.925 292.229344) scale(0.1 -0.1)\">\n       <use xlink:href=\"#DejaVuSans-30\"/>\n      </g>\n     </g>\n    </g>\n    <g id=\"ytick_2\">\n     <g id=\"line2d_10\">\n      <g>\n       <use xlink:href=\"#me8a629270e\" x=\"33.2875\" y=\"233.274521\" style=\"stroke: #000000; stroke-width: 0.8\"/>\n      </g>\n     </g>\n     <g id=\"text_10\">\n      <!-- 200 -->\n      <g transform=\"translate(7.2 237.07374) scale(0.1 -0.1)\">\n       <use xlink:href=\"#DejaVuSans-32\"/>\n       <use xlink:href=\"#DejaVuSans-30\" x=\"63.623047\"/>\n       <use xlink:href=\"#DejaVuSans-30\" x=\"127.246094\"/>\n      </g>\n     </g>\n    </g>\n    <g id=\"ytick_3\">\n     <g id=\"line2d_11\">\n      <g>\n       <use xlink:href=\"#me8a629270e\" x=\"33.2875\" y=\"178.118917\" style=\"stroke: #000000; stroke-width: 0.8\"/>\n      </g>\n     </g>\n     <g id=\"text_11\">\n      <!-- 400 -->\n      <g transform=\"translate(7.2 181.918136) scale(0.1 -0.1)\">\n       <use xlink:href=\"#DejaVuSans-34\"/>\n       <use xlink:href=\"#DejaVuSans-30\" x=\"63.623047\"/>\n       <use xlink:href=\"#DejaVuSans-30\" x=\"127.246094\"/>\n      </g>\n     </g>\n    </g>\n    <g id=\"ytick_4\">\n     <g id=\"line2d_12\">\n      <g>\n       <use xlink:href=\"#me8a629270e\" x=\"33.2875\" y=\"122.963313\" style=\"stroke: #000000; stroke-width: 0.8\"/>\n      </g>\n     </g>\n     <g id=\"text_12\">\n      <!-- 600 -->\n      <g transform=\"translate(7.2 126.762532) scale(0.1 -0.1)\">\n       <defs>\n        <path id=\"DejaVuSans-36\" d=\"M 2113 2584 \nQ 1688 2584 1439 2293 \nQ 1191 2003 1191 1497 \nQ 1191 994 1439 701 \nQ 1688 409 2113 409 \nQ 2538 409 2786 701 \nQ 3034 994 3034 1497 \nQ 3034 2003 2786 2293 \nQ 2538 2584 2113 2584 \nz\nM 3366 4563 \nL 3366 3988 \nQ 3128 4100 2886 4159 \nQ 2644 4219 2406 4219 \nQ 1781 4219 1451 3797 \nQ 1122 3375 1075 2522 \nQ 1259 2794 1537 2939 \nQ 1816 3084 2150 3084 \nQ 2853 3084 3261 2657 \nQ 3669 2231 3669 1497 \nQ 3669 778 3244 343 \nQ 2819 -91 2113 -91 \nQ 1303 -91 875 529 \nQ 447 1150 447 2328 \nQ 447 3434 972 4092 \nQ 1497 4750 2381 4750 \nQ 2619 4750 2861 4703 \nQ 3103 4656 3366 4563 \nz\n\" transform=\"scale(0.015625)\"/>\n       </defs>\n       <use xlink:href=\"#DejaVuSans-36\"/>\n       <use xlink:href=\"#DejaVuSans-30\" x=\"63.623047\"/>\n       <use xlink:href=\"#DejaVuSans-30\" x=\"127.246094\"/>\n      </g>\n     </g>\n    </g>\n    <g id=\"ytick_5\">\n     <g id=\"line2d_13\">\n      <g>\n       <use xlink:href=\"#me8a629270e\" x=\"33.2875\" y=\"67.807709\" style=\"stroke: #000000; stroke-width: 0.8\"/>\n      </g>\n     </g>\n     <g id=\"text_13\">\n      <!-- 800 -->\n      <g transform=\"translate(7.2 71.606928) scale(0.1 -0.1)\">\n       <defs>\n        <path id=\"DejaVuSans-38\" d=\"M 2034 2216 \nQ 1584 2216 1326 1975 \nQ 1069 1734 1069 1313 \nQ 1069 891 1326 650 \nQ 1584 409 2034 409 \nQ 2484 409 2743 651 \nQ 3003 894 3003 1313 \nQ 3003 1734 2745 1975 \nQ 2488 2216 2034 2216 \nz\nM 1403 2484 \nQ 997 2584 770 2862 \nQ 544 3141 544 3541 \nQ 544 4100 942 4425 \nQ 1341 4750 2034 4750 \nQ 2731 4750 3128 4425 \nQ 3525 4100 3525 3541 \nQ 3525 3141 3298 2862 \nQ 3072 2584 2669 2484 \nQ 3125 2378 3379 2068 \nQ 3634 1759 3634 1313 \nQ 3634 634 3220 271 \nQ 2806 -91 2034 -91 \nQ 1263 -91 848 271 \nQ 434 634 434 1313 \nQ 434 1759 690 2068 \nQ 947 2378 1403 2484 \nz\nM 1172 3481 \nQ 1172 3119 1398 2916 \nQ 1625 2713 2034 2713 \nQ 2441 2713 2670 2916 \nQ 2900 3119 2900 3481 \nQ 2900 3844 2670 4047 \nQ 2441 4250 2034 4250 \nQ 1625 4250 1398 4047 \nQ 1172 3844 1172 3481 \nz\n\" transform=\"scale(0.015625)\"/>\n       </defs>\n       <use xlink:href=\"#DejaVuSans-38\"/>\n       <use xlink:href=\"#DejaVuSans-30\" x=\"63.623047\"/>\n       <use xlink:href=\"#DejaVuSans-30\" x=\"127.246094\"/>\n      </g>\n     </g>\n    </g>\n   </g>\n   <g id=\"patch_33\">\n    <path d=\"M 33.2875 288.430125 \nL 33.2875 22.318125 \n\" style=\"fill: none; stroke: #000000; stroke-width: 0.8; stroke-linejoin: miter; stroke-linecap: square\"/>\n   </g>\n   <g id=\"patch_34\">\n    <path d=\"M 390.4075 288.430125 \nL 390.4075 22.318125 \n\" style=\"fill: none; stroke: #000000; stroke-width: 0.8; stroke-linejoin: miter; stroke-linecap: square\"/>\n   </g>\n   <g id=\"patch_35\">\n    <path d=\"M 33.2875 288.430125 \nL 390.4075 288.430125 \n\" style=\"fill: none; stroke: #000000; stroke-width: 0.8; stroke-linejoin: miter; stroke-linecap: square\"/>\n   </g>\n   <g id=\"patch_36\">\n    <path d=\"M 33.2875 22.318125 \nL 390.4075 22.318125 \n\" style=\"fill: none; stroke: #000000; stroke-width: 0.8; stroke-linejoin: miter; stroke-linecap: square\"/>\n   </g>\n   <g id=\"text_14\">\n    <!-- Distribution of our 3 images -->\n    <g transform=\"translate(127.861563 16.318125) scale(0.12 -0.12)\">\n     <defs>\n      <path id=\"DejaVuSans-44\" d=\"M 1259 4147 \nL 1259 519 \nL 2022 519 \nQ 2988 519 3436 956 \nQ 3884 1394 3884 2338 \nQ 3884 3275 3436 3711 \nQ 2988 4147 2022 4147 \nL 1259 4147 \nz\nM 628 4666 \nL 1925 4666 \nQ 3281 4666 3915 4102 \nQ 4550 3538 4550 2338 \nQ 4550 1131 3912 565 \nQ 3275 0 1925 0 \nL 628 0 \nL 628 4666 \nz\n\" transform=\"scale(0.015625)\"/>\n      <path id=\"DejaVuSans-69\" d=\"M 603 3500 \nL 1178 3500 \nL 1178 0 \nL 603 0 \nL 603 3500 \nz\nM 603 4863 \nL 1178 4863 \nL 1178 4134 \nL 603 4134 \nL 603 4863 \nz\n\" transform=\"scale(0.015625)\"/>\n      <path id=\"DejaVuSans-73\" d=\"M 2834 3397 \nL 2834 2853 \nQ 2591 2978 2328 3040 \nQ 2066 3103 1784 3103 \nQ 1356 3103 1142 2972 \nQ 928 2841 928 2578 \nQ 928 2378 1081 2264 \nQ 1234 2150 1697 2047 \nL 1894 2003 \nQ 2506 1872 2764 1633 \nQ 3022 1394 3022 966 \nQ 3022 478 2636 193 \nQ 2250 -91 1575 -91 \nQ 1294 -91 989 -36 \nQ 684 19 347 128 \nL 347 722 \nQ 666 556 975 473 \nQ 1284 391 1588 391 \nQ 1994 391 2212 530 \nQ 2431 669 2431 922 \nQ 2431 1156 2273 1281 \nQ 2116 1406 1581 1522 \nL 1381 1569 \nQ 847 1681 609 1914 \nQ 372 2147 372 2553 \nQ 372 3047 722 3315 \nQ 1072 3584 1716 3584 \nQ 2034 3584 2315 3537 \nQ 2597 3491 2834 3397 \nz\n\" transform=\"scale(0.015625)\"/>\n      <path id=\"DejaVuSans-74\" d=\"M 1172 4494 \nL 1172 3500 \nL 2356 3500 \nL 2356 3053 \nL 1172 3053 \nL 1172 1153 \nQ 1172 725 1289 603 \nQ 1406 481 1766 481 \nL 2356 481 \nL 2356 0 \nL 1766 0 \nQ 1100 0 847 248 \nQ 594 497 594 1153 \nL 594 3053 \nL 172 3053 \nL 172 3500 \nL 594 3500 \nL 594 4494 \nL 1172 4494 \nz\n\" transform=\"scale(0.015625)\"/>\n      <path id=\"DejaVuSans-72\" d=\"M 2631 2963 \nQ 2534 3019 2420 3045 \nQ 2306 3072 2169 3072 \nQ 1681 3072 1420 2755 \nQ 1159 2438 1159 1844 \nL 1159 0 \nL 581 0 \nL 581 3500 \nL 1159 3500 \nL 1159 2956 \nQ 1341 3275 1631 3429 \nQ 1922 3584 2338 3584 \nQ 2397 3584 2469 3576 \nQ 2541 3569 2628 3553 \nL 2631 2963 \nz\n\" transform=\"scale(0.015625)\"/>\n      <path id=\"DejaVuSans-62\" d=\"M 3116 1747 \nQ 3116 2381 2855 2742 \nQ 2594 3103 2138 3103 \nQ 1681 3103 1420 2742 \nQ 1159 2381 1159 1747 \nQ 1159 1113 1420 752 \nQ 1681 391 2138 391 \nQ 2594 391 2855 752 \nQ 3116 1113 3116 1747 \nz\nM 1159 2969 \nQ 1341 3281 1617 3432 \nQ 1894 3584 2278 3584 \nQ 2916 3584 3314 3078 \nQ 3713 2572 3713 1747 \nQ 3713 922 3314 415 \nQ 2916 -91 2278 -91 \nQ 1894 -91 1617 61 \nQ 1341 213 1159 525 \nL 1159 0 \nL 581 0 \nL 581 4863 \nL 1159 4863 \nL 1159 2969 \nz\n\" transform=\"scale(0.015625)\"/>\n      <path id=\"DejaVuSans-75\" d=\"M 544 1381 \nL 544 3500 \nL 1119 3500 \nL 1119 1403 \nQ 1119 906 1312 657 \nQ 1506 409 1894 409 \nQ 2359 409 2629 706 \nQ 2900 1003 2900 1516 \nL 2900 3500 \nL 3475 3500 \nL 3475 0 \nL 2900 0 \nL 2900 538 \nQ 2691 219 2414 64 \nQ 2138 -91 1772 -91 \nQ 1169 -91 856 284 \nQ 544 659 544 1381 \nz\nM 1991 3584 \nL 1991 3584 \nz\n\" transform=\"scale(0.015625)\"/>\n      <path id=\"DejaVuSans-6f\" d=\"M 1959 3097 \nQ 1497 3097 1228 2736 \nQ 959 2375 959 1747 \nQ 959 1119 1226 758 \nQ 1494 397 1959 397 \nQ 2419 397 2687 759 \nQ 2956 1122 2956 1747 \nQ 2956 2369 2687 2733 \nQ 2419 3097 1959 3097 \nz\nM 1959 3584 \nQ 2709 3584 3137 3096 \nQ 3566 2609 3566 1747 \nQ 3566 888 3137 398 \nQ 2709 -91 1959 -91 \nQ 1206 -91 779 398 \nQ 353 888 353 1747 \nQ 353 2609 779 3096 \nQ 1206 3584 1959 3584 \nz\n\" transform=\"scale(0.015625)\"/>\n      <path id=\"DejaVuSans-6e\" d=\"M 3513 2113 \nL 3513 0 \nL 2938 0 \nL 2938 2094 \nQ 2938 2591 2744 2837 \nQ 2550 3084 2163 3084 \nQ 1697 3084 1428 2787 \nQ 1159 2491 1159 1978 \nL 1159 0 \nL 581 0 \nL 581 3500 \nL 1159 3500 \nL 1159 2956 \nQ 1366 3272 1645 3428 \nQ 1925 3584 2291 3584 \nQ 2894 3584 3203 3211 \nQ 3513 2838 3513 2113 \nz\n\" transform=\"scale(0.015625)\"/>\n      <path id=\"DejaVuSans-20\" transform=\"scale(0.015625)\"/>\n      <path id=\"DejaVuSans-66\" d=\"M 2375 4863 \nL 2375 4384 \nL 1825 4384 \nQ 1516 4384 1395 4259 \nQ 1275 4134 1275 3809 \nL 1275 3500 \nL 2222 3500 \nL 2222 3053 \nL 1275 3053 \nL 1275 0 \nL 697 0 \nL 697 3053 \nL 147 3053 \nL 147 3500 \nL 697 3500 \nL 697 3744 \nQ 697 4328 969 4595 \nQ 1241 4863 1831 4863 \nL 2375 4863 \nz\n\" transform=\"scale(0.015625)\"/>\n      <path id=\"DejaVuSans-6d\" d=\"M 3328 2828 \nQ 3544 3216 3844 3400 \nQ 4144 3584 4550 3584 \nQ 5097 3584 5394 3201 \nQ 5691 2819 5691 2113 \nL 5691 0 \nL 5113 0 \nL 5113 2094 \nQ 5113 2597 4934 2840 \nQ 4756 3084 4391 3084 \nQ 3944 3084 3684 2787 \nQ 3425 2491 3425 1978 \nL 3425 0 \nL 2847 0 \nL 2847 2094 \nQ 2847 2600 2669 2842 \nQ 2491 3084 2119 3084 \nQ 1678 3084 1418 2786 \nQ 1159 2488 1159 1978 \nL 1159 0 \nL 581 0 \nL 581 3500 \nL 1159 3500 \nL 1159 2956 \nQ 1356 3278 1631 3431 \nQ 1906 3584 2284 3584 \nQ 2666 3584 2933 3390 \nQ 3200 3197 3328 2828 \nz\n\" transform=\"scale(0.015625)\"/>\n      <path id=\"DejaVuSans-61\" d=\"M 2194 1759 \nQ 1497 1759 1228 1600 \nQ 959 1441 959 1056 \nQ 959 750 1161 570 \nQ 1363 391 1709 391 \nQ 2188 391 2477 730 \nQ 2766 1069 2766 1631 \nL 2766 1759 \nL 2194 1759 \nz\nM 3341 1997 \nL 3341 0 \nL 2766 0 \nL 2766 531 \nQ 2569 213 2275 61 \nQ 1981 -91 1556 -91 \nQ 1019 -91 701 211 \nQ 384 513 384 1019 \nQ 384 1609 779 1909 \nQ 1175 2209 1959 2209 \nL 2766 2209 \nL 2766 2266 \nQ 2766 2663 2505 2880 \nQ 2244 3097 1772 3097 \nQ 1472 3097 1187 3025 \nQ 903 2953 641 2809 \nL 641 3341 \nQ 956 3463 1253 3523 \nQ 1550 3584 1831 3584 \nQ 2591 3584 2966 3190 \nQ 3341 2797 3341 1997 \nz\n\" transform=\"scale(0.015625)\"/>\n      <path id=\"DejaVuSans-67\" d=\"M 2906 1791 \nQ 2906 2416 2648 2759 \nQ 2391 3103 1925 3103 \nQ 1463 3103 1205 2759 \nQ 947 2416 947 1791 \nQ 947 1169 1205 825 \nQ 1463 481 1925 481 \nQ 2391 481 2648 825 \nQ 2906 1169 2906 1791 \nz\nM 3481 434 \nQ 3481 -459 3084 -895 \nQ 2688 -1331 1869 -1331 \nQ 1566 -1331 1297 -1286 \nQ 1028 -1241 775 -1147 \nL 775 -588 \nQ 1028 -725 1275 -790 \nQ 1522 -856 1778 -856 \nQ 2344 -856 2625 -561 \nQ 2906 -266 2906 331 \nL 2906 616 \nQ 2728 306 2450 153 \nQ 2172 0 1784 0 \nQ 1141 0 747 490 \nQ 353 981 353 1791 \nQ 353 2603 747 3093 \nQ 1141 3584 1784 3584 \nQ 2172 3584 2450 3431 \nQ 2728 3278 2906 2969 \nL 2906 3500 \nL 3481 3500 \nL 3481 434 \nz\n\" transform=\"scale(0.015625)\"/>\n      <path id=\"DejaVuSans-65\" d=\"M 3597 1894 \nL 3597 1613 \nL 953 1613 \nQ 991 1019 1311 708 \nQ 1631 397 2203 397 \nQ 2534 397 2845 478 \nQ 3156 559 3463 722 \nL 3463 178 \nQ 3153 47 2828 -22 \nQ 2503 -91 2169 -91 \nQ 1331 -91 842 396 \nQ 353 884 353 1716 \nQ 353 2575 817 3079 \nQ 1281 3584 2069 3584 \nQ 2775 3584 3186 3129 \nQ 3597 2675 3597 1894 \nz\nM 3022 2063 \nQ 3016 2534 2758 2815 \nQ 2500 3097 2075 3097 \nQ 1594 3097 1305 2825 \nQ 1016 2553 972 2059 \nL 3022 2063 \nz\n\" transform=\"scale(0.015625)\"/>\n     </defs>\n     <use xlink:href=\"#DejaVuSans-44\"/>\n     <use xlink:href=\"#DejaVuSans-69\" x=\"77.001953\"/>\n     <use xlink:href=\"#DejaVuSans-73\" x=\"104.785156\"/>\n     <use xlink:href=\"#DejaVuSans-74\" x=\"156.884766\"/>\n     <use xlink:href=\"#DejaVuSans-72\" x=\"196.09375\"/>\n     <use xlink:href=\"#DejaVuSans-69\" x=\"237.207031\"/>\n     <use xlink:href=\"#DejaVuSans-62\" x=\"264.990234\"/>\n     <use xlink:href=\"#DejaVuSans-75\" x=\"328.466797\"/>\n     <use xlink:href=\"#DejaVuSans-74\" x=\"391.845703\"/>\n     <use xlink:href=\"#DejaVuSans-69\" x=\"431.054688\"/>\n     <use xlink:href=\"#DejaVuSans-6f\" x=\"458.837891\"/>\n     <use xlink:href=\"#DejaVuSans-6e\" x=\"520.019531\"/>\n     <use xlink:href=\"#DejaVuSans-20\" x=\"583.398438\"/>\n     <use xlink:href=\"#DejaVuSans-6f\" x=\"615.185547\"/>\n     <use xlink:href=\"#DejaVuSans-66\" x=\"676.367188\"/>\n     <use xlink:href=\"#DejaVuSans-20\" x=\"711.572266\"/>\n     <use xlink:href=\"#DejaVuSans-6f\" x=\"743.359375\"/>\n     <use xlink:href=\"#DejaVuSans-75\" x=\"804.541016\"/>\n     <use xlink:href=\"#DejaVuSans-72\" x=\"867.919922\"/>\n     <use xlink:href=\"#DejaVuSans-20\" x=\"909.033203\"/>\n     <use xlink:href=\"#DejaVuSans-33\" x=\"940.820312\"/>\n     <use xlink:href=\"#DejaVuSans-20\" x=\"1004.443359\"/>\n     <use xlink:href=\"#DejaVuSans-69\" x=\"1036.230469\"/>\n     <use xlink:href=\"#DejaVuSans-6d\" x=\"1064.013672\"/>\n     <use xlink:href=\"#DejaVuSans-61\" x=\"1161.425781\"/>\n     <use xlink:href=\"#DejaVuSans-67\" x=\"1222.705078\"/>\n     <use xlink:href=\"#DejaVuSans-65\" x=\"1286.181641\"/>\n     <use xlink:href=\"#DejaVuSans-73\" x=\"1347.705078\"/>\n    </g>\n   </g>\n  </g>\n </g>\n <defs>\n  <clipPath id=\"pcf4b208593\">\n   <rect x=\"33.2875\" y=\"22.318125\" width=\"357.12\" height=\"266.112\"/>\n  </clipPath>\n </defs>\n</svg>\n",
      "text/plain": [
       "<Figure size 640x480 with 1 Axes>"
      ]
     },
     "metadata": {},
     "output_type": "display_data"
    }
   ],
   "source": [
    "flattened_images = images.flatten(start_dim=1) # or images.reshape(n, -1)\n",
    "print(f'Flattened images shape:\\t{flattened_images.shape}')\n",
    "\n",
    "plt.title(f'Distribution of our {n} images')\n",
    "plt.hist(x=flattened_images, color=('crimson','purple','tomato'))\n",
    "plt.plot()"
   ]
  },
  {
   "cell_type": "markdown",
   "metadata": {},
   "source": [
    "## **2) Gradients**"
   ]
  },
  {
   "cell_type": "markdown",
   "metadata": {},
   "source": [
    "Numerical operations in PyTorch are almost identical to that in NumPy. However, PyTorch can automatically differentiate operations by backpropogating through a computational graph dynamically produced behind the scenes. This computational graph keeps tracks of the calculations a tensor was part of. It is our responsibility, however, to explicitly tell PyTorch\n",
    "1. which tensors require gradients,\n",
    "2. and when to backpropogate to produce a gradient.\n",
    "\n",
    "For 1. we just need to pass the `requires_grad=True` argument into any of the initialization methods above. However, the `torch.nn.Parameter` class will do this for you for tensors that already exist. We will use this wrapper because it is meant for tensors that represent neural network parameters which will be updated after backpropogation.\n",
    "\n",
    "For 2. we simply call the `.backward()` API."
   ]
  },
  {
   "cell_type": "code",
   "execution_count": 5,
   "metadata": {},
   "outputs": [
    {
     "name": "stdout",
     "output_type": "stream",
     "text": [
      "Gradient of f(x) at x = Parameter containing:\n",
      "tensor(1., requires_grad=True):\t3.0\n",
      "Is this gradient right?:\tTrue\n"
     ]
    }
   ],
   "source": [
    "f = lambda x: x**3       # define  f(x) = x^3\n",
    "df = lambda x: 3 * x**2  # define ∇f(x) = 3*x^2 as sanity check\n",
    "\n",
    "x = torch.tensor(1.0, requires_grad=True)  # initialize x = 1.0\n",
    "x = torch.nn.Parameter(torch.tensor(1.0))  # this also initializes x = 1.0\n",
    "\n",
    "y = f(x)      # calculate f(x)\n",
    "y.backward()  # backpropogate and calculate gradient of f(x) at x = 1.0\n",
    "print(f'Gradient of f(x) at x = {x}:\\t{x.grad}')\n",
    "print(f'Is this gradient right?:\\t{x.grad == df(x)}')"
   ]
  },
  {
   "cell_type": "markdown",
   "metadata": {},
   "source": [
    "We can even plot the function's derivative over a range to visualize it! Note that before passing our tensors into Matplotlib's `plot`, we must detach them from their gradient information. That is, we want only the underlying tensor. We can do this by `with torch.no_grad()`. If we do not do this, PyTorch will panic since Matplotlib will try to convert the tensor to a NumPy array but cannot because that tensor requires a gradient."
   ]
  },
  {
   "cell_type": "code",
   "execution_count": 6,
   "metadata": {},
   "outputs": [
    {
     "data": {
      "image/svg+xml": "<?xml version=\"1.0\" encoding=\"utf-8\" standalone=\"no\"?>\n<!DOCTYPE svg PUBLIC \"-//W3C//DTD SVG 1.1//EN\"\n  \"http://www.w3.org/Graphics/SVG/1.1/DTD/svg11.dtd\">\n<svg xmlns:xlink=\"http://www.w3.org/1999/xlink\" width=\"402.802812pt\" height=\"312.30825pt\" viewBox=\"0 0 402.802812 312.30825\" xmlns=\"http://www.w3.org/2000/svg\" version=\"1.1\">\n <metadata>\n  <rdf:RDF xmlns:dc=\"http://purl.org/dc/elements/1.1/\" xmlns:cc=\"http://creativecommons.org/ns#\" xmlns:rdf=\"http://www.w3.org/1999/02/22-rdf-syntax-ns#\">\n   <cc:Work>\n    <dc:type rdf:resource=\"http://purl.org/dc/dcmitype/StillImage\"/>\n    <dc:date>2023-03-24T21:41:40.530491</dc:date>\n    <dc:format>image/svg+xml</dc:format>\n    <dc:creator>\n     <cc:Agent>\n      <dc:title>Matplotlib v3.6.3, https://matplotlib.org/</dc:title>\n     </cc:Agent>\n    </dc:creator>\n   </cc:Work>\n  </rdf:RDF>\n </metadata>\n <defs>\n  <style type=\"text/css\">*{stroke-linejoin: round; stroke-linecap: butt}</style>\n </defs>\n <g id=\"figure_1\">\n  <g id=\"patch_1\">\n   <path d=\"M 0 312.30825 \nL 402.802812 312.30825 \nL 402.802812 0 \nL 0 0 \nz\n\" style=\"fill: #ffffff\"/>\n  </g>\n  <g id=\"axes_1\">\n   <g id=\"patch_2\">\n    <path d=\"M 38.482813 288.430125 \nL 395.602813 288.430125 \nL 395.602813 22.318125 \nL 38.482813 22.318125 \nz\n\" style=\"fill: #ffffff\"/>\n   </g>\n   <g id=\"matplotlib.axis_1\">\n    <g id=\"xtick_1\">\n     <g id=\"line2d_1\">\n      <defs>\n       <path id=\"m20c35bac51\" d=\"M 0 0 \nL 0 3.5 \n\" style=\"stroke: #000000; stroke-width: 0.8\"/>\n      </defs>\n      <g>\n       <use xlink:href=\"#m20c35bac51\" x=\"54.71554\" y=\"288.430125\" style=\"stroke: #000000; stroke-width: 0.8\"/>\n      </g>\n     </g>\n     <g id=\"text_1\">\n      <!-- −2.0 -->\n      <g transform=\"translate(42.574134 303.028562) scale(0.1 -0.1)\">\n       <defs>\n        <path id=\"DejaVuSans-2212\" d=\"M 678 2272 \nL 4684 2272 \nL 4684 1741 \nL 678 1741 \nL 678 2272 \nz\n\" transform=\"scale(0.015625)\"/>\n        <path id=\"DejaVuSans-32\" d=\"M 1228 531 \nL 3431 531 \nL 3431 0 \nL 469 0 \nL 469 531 \nQ 828 903 1448 1529 \nQ 2069 2156 2228 2338 \nQ 2531 2678 2651 2914 \nQ 2772 3150 2772 3378 \nQ 2772 3750 2511 3984 \nQ 2250 4219 1831 4219 \nQ 1534 4219 1204 4116 \nQ 875 4013 500 3803 \nL 500 4441 \nQ 881 4594 1212 4672 \nQ 1544 4750 1819 4750 \nQ 2544 4750 2975 4387 \nQ 3406 4025 3406 3419 \nQ 3406 3131 3298 2873 \nQ 3191 2616 2906 2266 \nQ 2828 2175 2409 1742 \nQ 1991 1309 1228 531 \nz\n\" transform=\"scale(0.015625)\"/>\n        <path id=\"DejaVuSans-2e\" d=\"M 684 794 \nL 1344 794 \nL 1344 0 \nL 684 0 \nL 684 794 \nz\n\" transform=\"scale(0.015625)\"/>\n        <path id=\"DejaVuSans-30\" d=\"M 2034 4250 \nQ 1547 4250 1301 3770 \nQ 1056 3291 1056 2328 \nQ 1056 1369 1301 889 \nQ 1547 409 2034 409 \nQ 2525 409 2770 889 \nQ 3016 1369 3016 2328 \nQ 3016 3291 2770 3770 \nQ 2525 4250 2034 4250 \nz\nM 2034 4750 \nQ 2819 4750 3233 4129 \nQ 3647 3509 3647 2328 \nQ 3647 1150 3233 529 \nQ 2819 -91 2034 -91 \nQ 1250 -91 836 529 \nQ 422 1150 422 2328 \nQ 422 3509 836 4129 \nQ 1250 4750 2034 4750 \nz\n\" transform=\"scale(0.015625)\"/>\n       </defs>\n       <use xlink:href=\"#DejaVuSans-2212\"/>\n       <use xlink:href=\"#DejaVuSans-32\" x=\"83.789062\"/>\n       <use xlink:href=\"#DejaVuSans-2e\" x=\"147.412109\"/>\n       <use xlink:href=\"#DejaVuSans-30\" x=\"179.199219\"/>\n      </g>\n     </g>\n    </g>\n    <g id=\"xtick_2\">\n     <g id=\"line2d_2\">\n      <g>\n       <use xlink:href=\"#m20c35bac51\" x=\"95.297358\" y=\"288.430125\" style=\"stroke: #000000; stroke-width: 0.8\"/>\n      </g>\n     </g>\n     <g id=\"text_2\">\n      <!-- −1.5 -->\n      <g transform=\"translate(83.155952 303.028562) scale(0.1 -0.1)\">\n       <defs>\n        <path id=\"DejaVuSans-31\" d=\"M 794 531 \nL 1825 531 \nL 1825 4091 \nL 703 3866 \nL 703 4441 \nL 1819 4666 \nL 2450 4666 \nL 2450 531 \nL 3481 531 \nL 3481 0 \nL 794 0 \nL 794 531 \nz\n\" transform=\"scale(0.015625)\"/>\n        <path id=\"DejaVuSans-35\" d=\"M 691 4666 \nL 3169 4666 \nL 3169 4134 \nL 1269 4134 \nL 1269 2991 \nQ 1406 3038 1543 3061 \nQ 1681 3084 1819 3084 \nQ 2600 3084 3056 2656 \nQ 3513 2228 3513 1497 \nQ 3513 744 3044 326 \nQ 2575 -91 1722 -91 \nQ 1428 -91 1123 -41 \nQ 819 9 494 109 \nL 494 744 \nQ 775 591 1075 516 \nQ 1375 441 1709 441 \nQ 2250 441 2565 725 \nQ 2881 1009 2881 1497 \nQ 2881 1984 2565 2268 \nQ 2250 2553 1709 2553 \nQ 1456 2553 1204 2497 \nQ 953 2441 691 2322 \nL 691 4666 \nz\n\" transform=\"scale(0.015625)\"/>\n       </defs>\n       <use xlink:href=\"#DejaVuSans-2212\"/>\n       <use xlink:href=\"#DejaVuSans-31\" x=\"83.789062\"/>\n       <use xlink:href=\"#DejaVuSans-2e\" x=\"147.412109\"/>\n       <use xlink:href=\"#DejaVuSans-35\" x=\"179.199219\"/>\n      </g>\n     </g>\n    </g>\n    <g id=\"xtick_3\">\n     <g id=\"line2d_3\">\n      <g>\n       <use xlink:href=\"#m20c35bac51\" x=\"135.879176\" y=\"288.430125\" style=\"stroke: #000000; stroke-width: 0.8\"/>\n      </g>\n     </g>\n     <g id=\"text_3\">\n      <!-- −1.0 -->\n      <g transform=\"translate(123.73777 303.028562) scale(0.1 -0.1)\">\n       <use xlink:href=\"#DejaVuSans-2212\"/>\n       <use xlink:href=\"#DejaVuSans-31\" x=\"83.789062\"/>\n       <use xlink:href=\"#DejaVuSans-2e\" x=\"147.412109\"/>\n       <use xlink:href=\"#DejaVuSans-30\" x=\"179.199219\"/>\n      </g>\n     </g>\n    </g>\n    <g id=\"xtick_4\">\n     <g id=\"line2d_4\">\n      <g>\n       <use xlink:href=\"#m20c35bac51\" x=\"176.460994\" y=\"288.430125\" style=\"stroke: #000000; stroke-width: 0.8\"/>\n      </g>\n     </g>\n     <g id=\"text_4\">\n      <!-- −0.5 -->\n      <g transform=\"translate(164.319588 303.028562) scale(0.1 -0.1)\">\n       <use xlink:href=\"#DejaVuSans-2212\"/>\n       <use xlink:href=\"#DejaVuSans-30\" x=\"83.789062\"/>\n       <use xlink:href=\"#DejaVuSans-2e\" x=\"147.412109\"/>\n       <use xlink:href=\"#DejaVuSans-35\" x=\"179.199219\"/>\n      </g>\n     </g>\n    </g>\n    <g id=\"xtick_5\">\n     <g id=\"line2d_5\">\n      <g>\n       <use xlink:href=\"#m20c35bac51\" x=\"217.042813\" y=\"288.430125\" style=\"stroke: #000000; stroke-width: 0.8\"/>\n      </g>\n     </g>\n     <g id=\"text_5\">\n      <!-- 0.0 -->\n      <g transform=\"translate(209.09125 303.028562) scale(0.1 -0.1)\">\n       <use xlink:href=\"#DejaVuSans-30\"/>\n       <use xlink:href=\"#DejaVuSans-2e\" x=\"63.623047\"/>\n       <use xlink:href=\"#DejaVuSans-30\" x=\"95.410156\"/>\n      </g>\n     </g>\n    </g>\n    <g id=\"xtick_6\">\n     <g id=\"line2d_6\">\n      <g>\n       <use xlink:href=\"#m20c35bac51\" x=\"257.624631\" y=\"288.430125\" style=\"stroke: #000000; stroke-width: 0.8\"/>\n      </g>\n     </g>\n     <g id=\"text_6\">\n      <!-- 0.5 -->\n      <g transform=\"translate(249.673068 303.028562) scale(0.1 -0.1)\">\n       <use xlink:href=\"#DejaVuSans-30\"/>\n       <use xlink:href=\"#DejaVuSans-2e\" x=\"63.623047\"/>\n       <use xlink:href=\"#DejaVuSans-35\" x=\"95.410156\"/>\n      </g>\n     </g>\n    </g>\n    <g id=\"xtick_7\">\n     <g id=\"line2d_7\">\n      <g>\n       <use xlink:href=\"#m20c35bac51\" x=\"298.206449\" y=\"288.430125\" style=\"stroke: #000000; stroke-width: 0.8\"/>\n      </g>\n     </g>\n     <g id=\"text_7\">\n      <!-- 1.0 -->\n      <g transform=\"translate(290.254886 303.028562) scale(0.1 -0.1)\">\n       <use xlink:href=\"#DejaVuSans-31\"/>\n       <use xlink:href=\"#DejaVuSans-2e\" x=\"63.623047\"/>\n       <use xlink:href=\"#DejaVuSans-30\" x=\"95.410156\"/>\n      </g>\n     </g>\n    </g>\n    <g id=\"xtick_8\">\n     <g id=\"line2d_8\">\n      <g>\n       <use xlink:href=\"#m20c35bac51\" x=\"338.788267\" y=\"288.430125\" style=\"stroke: #000000; stroke-width: 0.8\"/>\n      </g>\n     </g>\n     <g id=\"text_8\">\n      <!-- 1.5 -->\n      <g transform=\"translate(330.836705 303.028562) scale(0.1 -0.1)\">\n       <use xlink:href=\"#DejaVuSans-31\"/>\n       <use xlink:href=\"#DejaVuSans-2e\" x=\"63.623047\"/>\n       <use xlink:href=\"#DejaVuSans-35\" x=\"95.410156\"/>\n      </g>\n     </g>\n    </g>\n    <g id=\"xtick_9\">\n     <g id=\"line2d_9\">\n      <g>\n       <use xlink:href=\"#m20c35bac51\" x=\"379.370085\" y=\"288.430125\" style=\"stroke: #000000; stroke-width: 0.8\"/>\n      </g>\n     </g>\n     <g id=\"text_9\">\n      <!-- 2.0 -->\n      <g transform=\"translate(371.418523 303.028562) scale(0.1 -0.1)\">\n       <use xlink:href=\"#DejaVuSans-32\"/>\n       <use xlink:href=\"#DejaVuSans-2e\" x=\"63.623047\"/>\n       <use xlink:href=\"#DejaVuSans-30\" x=\"95.410156\"/>\n      </g>\n     </g>\n    </g>\n   </g>\n   <g id=\"matplotlib.axis_2\">\n    <g id=\"ytick_1\">\n     <g id=\"line2d_10\">\n      <defs>\n       <path id=\"m47d2e92766\" d=\"M 0 0 \nL -3.5 0 \n\" style=\"stroke: #000000; stroke-width: 0.8\"/>\n      </defs>\n      <g>\n       <use xlink:href=\"#m47d2e92766\" x=\"38.482813\" y=\"270.286125\" style=\"stroke: #000000; stroke-width: 0.8\"/>\n      </g>\n     </g>\n     <g id=\"text_10\">\n      <!-- −7.5 -->\n      <g transform=\"translate(7.2 274.085344) scale(0.1 -0.1)\">\n       <defs>\n        <path id=\"DejaVuSans-37\" d=\"M 525 4666 \nL 3525 4666 \nL 3525 4397 \nL 1831 0 \nL 1172 0 \nL 2766 4134 \nL 525 4134 \nL 525 4666 \nz\n\" transform=\"scale(0.015625)\"/>\n       </defs>\n       <use xlink:href=\"#DejaVuSans-2212\"/>\n       <use xlink:href=\"#DejaVuSans-37\" x=\"83.789062\"/>\n       <use xlink:href=\"#DejaVuSans-2e\" x=\"147.412109\"/>\n       <use xlink:href=\"#DejaVuSans-35\" x=\"179.199219\"/>\n      </g>\n     </g>\n    </g>\n    <g id=\"ytick_2\">\n     <g id=\"line2d_11\">\n      <g>\n       <use xlink:href=\"#m47d2e92766\" x=\"38.482813\" y=\"240.046125\" style=\"stroke: #000000; stroke-width: 0.8\"/>\n      </g>\n     </g>\n     <g id=\"text_11\">\n      <!-- −5.0 -->\n      <g transform=\"translate(7.2 243.845344) scale(0.1 -0.1)\">\n       <use xlink:href=\"#DejaVuSans-2212\"/>\n       <use xlink:href=\"#DejaVuSans-35\" x=\"83.789062\"/>\n       <use xlink:href=\"#DejaVuSans-2e\" x=\"147.412109\"/>\n       <use xlink:href=\"#DejaVuSans-30\" x=\"179.199219\"/>\n      </g>\n     </g>\n    </g>\n    <g id=\"ytick_3\">\n     <g id=\"line2d_12\">\n      <g>\n       <use xlink:href=\"#m47d2e92766\" x=\"38.482813\" y=\"209.806125\" style=\"stroke: #000000; stroke-width: 0.8\"/>\n      </g>\n     </g>\n     <g id=\"text_12\">\n      <!-- −2.5 -->\n      <g transform=\"translate(7.2 213.605344) scale(0.1 -0.1)\">\n       <use xlink:href=\"#DejaVuSans-2212\"/>\n       <use xlink:href=\"#DejaVuSans-32\" x=\"83.789062\"/>\n       <use xlink:href=\"#DejaVuSans-2e\" x=\"147.412109\"/>\n       <use xlink:href=\"#DejaVuSans-35\" x=\"179.199219\"/>\n      </g>\n     </g>\n    </g>\n    <g id=\"ytick_4\">\n     <g id=\"line2d_13\">\n      <g>\n       <use xlink:href=\"#m47d2e92766\" x=\"38.482813\" y=\"179.566125\" style=\"stroke: #000000; stroke-width: 0.8\"/>\n      </g>\n     </g>\n     <g id=\"text_13\">\n      <!-- 0.0 -->\n      <g transform=\"translate(15.579688 183.365344) scale(0.1 -0.1)\">\n       <use xlink:href=\"#DejaVuSans-30\"/>\n       <use xlink:href=\"#DejaVuSans-2e\" x=\"63.623047\"/>\n       <use xlink:href=\"#DejaVuSans-30\" x=\"95.410156\"/>\n      </g>\n     </g>\n    </g>\n    <g id=\"ytick_5\">\n     <g id=\"line2d_14\">\n      <g>\n       <use xlink:href=\"#m47d2e92766\" x=\"38.482813\" y=\"149.326125\" style=\"stroke: #000000; stroke-width: 0.8\"/>\n      </g>\n     </g>\n     <g id=\"text_14\">\n      <!-- 2.5 -->\n      <g transform=\"translate(15.579688 153.125344) scale(0.1 -0.1)\">\n       <use xlink:href=\"#DejaVuSans-32\"/>\n       <use xlink:href=\"#DejaVuSans-2e\" x=\"63.623047\"/>\n       <use xlink:href=\"#DejaVuSans-35\" x=\"95.410156\"/>\n      </g>\n     </g>\n    </g>\n    <g id=\"ytick_6\">\n     <g id=\"line2d_15\">\n      <g>\n       <use xlink:href=\"#m47d2e92766\" x=\"38.482813\" y=\"119.086125\" style=\"stroke: #000000; stroke-width: 0.8\"/>\n      </g>\n     </g>\n     <g id=\"text_15\">\n      <!-- 5.0 -->\n      <g transform=\"translate(15.579688 122.885344) scale(0.1 -0.1)\">\n       <use xlink:href=\"#DejaVuSans-35\"/>\n       <use xlink:href=\"#DejaVuSans-2e\" x=\"63.623047\"/>\n       <use xlink:href=\"#DejaVuSans-30\" x=\"95.410156\"/>\n      </g>\n     </g>\n    </g>\n    <g id=\"ytick_7\">\n     <g id=\"line2d_16\">\n      <g>\n       <use xlink:href=\"#m47d2e92766\" x=\"38.482813\" y=\"88.846125\" style=\"stroke: #000000; stroke-width: 0.8\"/>\n      </g>\n     </g>\n     <g id=\"text_16\">\n      <!-- 7.5 -->\n      <g transform=\"translate(15.579688 92.645344) scale(0.1 -0.1)\">\n       <use xlink:href=\"#DejaVuSans-37\"/>\n       <use xlink:href=\"#DejaVuSans-2e\" x=\"63.623047\"/>\n       <use xlink:href=\"#DejaVuSans-35\" x=\"95.410156\"/>\n      </g>\n     </g>\n    </g>\n    <g id=\"ytick_8\">\n     <g id=\"line2d_17\">\n      <g>\n       <use xlink:href=\"#m47d2e92766\" x=\"38.482813\" y=\"58.606125\" style=\"stroke: #000000; stroke-width: 0.8\"/>\n      </g>\n     </g>\n     <g id=\"text_17\">\n      <!-- 10.0 -->\n      <g transform=\"translate(9.217188 62.405344) scale(0.1 -0.1)\">\n       <use xlink:href=\"#DejaVuSans-31\"/>\n       <use xlink:href=\"#DejaVuSans-30\" x=\"63.623047\"/>\n       <use xlink:href=\"#DejaVuSans-2e\" x=\"127.246094\"/>\n       <use xlink:href=\"#DejaVuSans-30\" x=\"159.033203\"/>\n      </g>\n     </g>\n    </g>\n    <g id=\"ytick_9\">\n     <g id=\"line2d_18\">\n      <g>\n       <use xlink:href=\"#m47d2e92766\" x=\"38.482813\" y=\"28.366125\" style=\"stroke: #000000; stroke-width: 0.8\"/>\n      </g>\n     </g>\n     <g id=\"text_18\">\n      <!-- 12.5 -->\n      <g transform=\"translate(9.217188 32.165344) scale(0.1 -0.1)\">\n       <use xlink:href=\"#DejaVuSans-31\"/>\n       <use xlink:href=\"#DejaVuSans-32\" x=\"63.623047\"/>\n       <use xlink:href=\"#DejaVuSans-2e\" x=\"127.246094\"/>\n       <use xlink:href=\"#DejaVuSans-35\" x=\"159.033203\"/>\n      </g>\n     </g>\n    </g>\n   </g>\n   <g id=\"line2d_19\">\n    <path d=\"M 54.71554 276.334125 \nL 57.962082 270.643401 \nL 61.208634 265.180253 \nL 64.455177 259.940077 \nL 67.701719 254.918207 \nL 70.948271 250.109989 \nL 74.194813 245.510808 \nL 77.441356 241.115993 \nL 80.687898 236.920917 \nL 83.93444 232.920909 \nL 87.180992 229.111343 \nL 90.427535 225.487579 \nL 93.674077 222.044962 \nL 96.920629 218.778843 \nL 100.167171 215.684589 \nL 103.413714 212.757557 \nL 106.660266 209.993083 \nL 109.906808 207.386541 \nL 113.15336 204.933276 \nL 116.399903 202.62865 \nL 119.646445 200.468015 \nL 122.892997 198.446721 \nL 126.139539 196.560134 \nL 129.386082 194.803603 \nL 132.632634 193.172478 \nL 135.879181 191.662123 \nL 139.125723 190.267891 \nL 142.372271 188.985134 \nL 145.618813 187.80921 \nL 148.86536 186.735472 \nL 152.111907 185.759276 \nL 155.35845 184.875979 \nL 158.604992 184.080933 \nL 161.851539 183.369495 \nL 165.098082 182.73702 \nL 168.344629 182.178861 \nL 171.591171 181.690377 \nL 174.837718 181.26692 \nL 178.084265 180.903846 \nL 181.33081 180.596511 \nL 184.57735 180.340269 \nL 187.823895 180.130476 \nL 191.07044 179.962487 \nL 194.316987 179.831657 \nL 197.563532 179.73334 \nL 200.810077 179.662893 \nL 204.056623 179.61567 \nL 207.303168 179.587027 \nL 210.549718 179.572318 \nL 213.796263 179.566899 \nL 217.042809 179.566125 \nL 220.289354 179.565351 \nL 223.5359 179.559932 \nL 226.782445 179.545223 \nL 230.02899 179.51658 \nL 233.275536 179.469357 \nL 236.522086 179.39891 \nL 239.768631 179.300594 \nL 243.015176 179.169763 \nL 246.261723 179.001774 \nL 249.508268 178.791981 \nL 252.754812 178.535739 \nL 256.00136 178.228404 \nL 259.247902 177.865331 \nL 262.494454 177.441873 \nL 265.741001 176.953388 \nL 268.987543 176.39523 \nL 272.234091 175.762755 \nL 275.480633 175.051317 \nL 278.72718 174.25627 \nL 281.973727 173.372971 \nL 285.22027 172.396776 \nL 288.466812 171.32304 \nL 291.713359 170.147115 \nL 294.959902 168.864359 \nL 298.206449 167.470125 \nL 301.452991 165.959772 \nL 304.699543 164.328647 \nL 307.946086 162.572116 \nL 311.192628 160.685529 \nL 314.43918 158.664235 \nL 317.685722 156.5036 \nL 320.932274 154.198969 \nL 324.178817 151.745709 \nL 327.425359 149.139167 \nL 330.671911 146.374693 \nL 333.918454 143.447661 \nL 337.164996 140.353407 \nL 340.411538 137.087296 \nL 343.658081 133.644685 \nL 346.904633 130.020907 \nL 350.151175 126.211347 \nL 353.397717 122.21135 \nL 356.644269 118.016257 \nL 359.890812 113.621442 \nL 363.137354 109.022261 \nL 366.383906 104.214043 \nL 369.630448 99.192173 \nL 372.876991 93.951997 \nL 376.123543 88.488849 \nL 379.370085 82.798125 \n\" clip-path=\"url(#p48358f2d0b)\" style=\"fill: none; stroke: #000000; stroke-width: 1.5; stroke-linecap: square\"/>\n   </g>\n   <g id=\"line2d_20\">\n    <path d=\"M 54.71554 34.414125 \nL 57.962082 40.162141 \nL 61.208634 45.794038 \nL 64.455177 51.309818 \nL 67.701719 56.709469 \nL 70.948271 61.993013 \nL 74.194813 67.160417 \nL 77.441356 72.211703 \nL 80.687898 77.146859 \nL 83.93444 81.965909 \nL 87.180992 86.668841 \nL 90.427535 91.255644 \nL 93.674077 95.726318 \nL 96.920629 100.080885 \nL 100.167171 104.319323 \nL 103.413714 108.441632 \nL 106.660266 112.447835 \nL 109.906808 116.337908 \nL 113.15336 120.111869 \nL 116.399903 123.769695 \nL 119.646445 127.311403 \nL 122.892997 130.736999 \nL 126.139539 134.046457 \nL 129.386082 137.239798 \nL 132.632634 140.317026 \nL 135.879181 143.278131 \nL 139.125723 146.123103 \nL 142.372271 148.851964 \nL 145.618813 151.464698 \nL 148.86536 153.961314 \nL 152.111907 156.341807 \nL 155.35845 158.606176 \nL 158.604992 160.754425 \nL 161.851539 162.786552 \nL 165.098082 164.702558 \nL 168.344629 166.502444 \nL 171.591171 168.186206 \nL 174.837718 169.753848 \nL 178.084265 171.20537 \nL 181.33081 172.540768 \nL 184.57735 173.760043 \nL 187.823895 174.863197 \nL 191.07044 175.850231 \nL 194.316987 176.721144 \nL 197.563532 177.475935 \nL 200.810077 178.114603 \nL 204.056623 178.637151 \nL 207.303168 179.043577 \nL 210.549718 179.333882 \nL 213.796263 179.508064 \nL 217.042809 179.566125 \nL 220.289354 179.508064 \nL 223.5359 179.333882 \nL 226.782445 179.043578 \nL 230.02899 178.637153 \nL 233.275536 178.114606 \nL 236.522086 177.475936 \nL 239.768631 176.721146 \nL 243.015176 175.850234 \nL 246.261723 174.8632 \nL 249.508268 173.760045 \nL 252.754812 172.540768 \nL 256.00136 171.20537 \nL 259.247902 169.75385 \nL 262.494454 168.186206 \nL 265.741001 166.502442 \nL 268.987543 164.702558 \nL 272.234091 162.786551 \nL 275.480633 160.754425 \nL 278.72718 158.606173 \nL 281.973727 156.341801 \nL 285.22027 153.961308 \nL 288.466812 151.464698 \nL 291.713359 148.851961 \nL 294.959902 146.123103 \nL 298.206449 143.278125 \nL 301.452991 140.317026 \nL 304.699543 137.239798 \nL 307.946086 134.046457 \nL 311.192628 130.736999 \nL 314.43918 127.311403 \nL 317.685722 123.769695 \nL 320.932274 120.111857 \nL 324.178817 116.337908 \nL 327.425359 112.447835 \nL 330.671911 108.441632 \nL 333.918454 104.319323 \nL 337.164996 100.080885 \nL 340.411538 95.726329 \nL 343.658081 91.255656 \nL 346.904633 86.668841 \nL 350.151175 81.965921 \nL 353.397717 77.146882 \nL 356.644269 72.211703 \nL 359.890812 67.160417 \nL 363.137354 61.993013 \nL 366.383906 56.709469 \nL 369.630448 51.309818 \nL 372.876991 45.794038 \nL 376.123543 40.162141 \nL 379.370085 34.414125 \n\" clip-path=\"url(#p48358f2d0b)\" style=\"fill: none; stroke: #ff6347; stroke-width: 1.5; stroke-linecap: square\"/>\n   </g>\n   <g id=\"patch_3\">\n    <path d=\"M 38.482813 288.430125 \nL 38.482813 22.318125 \n\" style=\"fill: none; stroke: #000000; stroke-width: 0.8; stroke-linejoin: miter; stroke-linecap: square\"/>\n   </g>\n   <g id=\"patch_4\">\n    <path d=\"M 395.602813 288.430125 \nL 395.602813 22.318125 \n\" style=\"fill: none; stroke: #000000; stroke-width: 0.8; stroke-linejoin: miter; stroke-linecap: square\"/>\n   </g>\n   <g id=\"patch_5\">\n    <path d=\"M 38.482813 288.430125 \nL 395.602813 288.430125 \n\" style=\"fill: none; stroke: #000000; stroke-width: 0.8; stroke-linejoin: miter; stroke-linecap: square\"/>\n   </g>\n   <g id=\"patch_6\">\n    <path d=\"M 38.482813 22.318125 \nL 395.602813 22.318125 \n\" style=\"fill: none; stroke: #000000; stroke-width: 0.8; stroke-linejoin: miter; stroke-linecap: square\"/>\n   </g>\n   <g id=\"text_19\">\n    <!-- Plotting a function and its derivative -->\n    <g transform=\"translate(107.825938 16.318125) scale(0.12 -0.12)\">\n     <defs>\n      <path id=\"DejaVuSans-50\" d=\"M 1259 4147 \nL 1259 2394 \nL 2053 2394 \nQ 2494 2394 2734 2622 \nQ 2975 2850 2975 3272 \nQ 2975 3691 2734 3919 \nQ 2494 4147 2053 4147 \nL 1259 4147 \nz\nM 628 4666 \nL 2053 4666 \nQ 2838 4666 3239 4311 \nQ 3641 3956 3641 3272 \nQ 3641 2581 3239 2228 \nQ 2838 1875 2053 1875 \nL 1259 1875 \nL 1259 0 \nL 628 0 \nL 628 4666 \nz\n\" transform=\"scale(0.015625)\"/>\n      <path id=\"DejaVuSans-6c\" d=\"M 603 4863 \nL 1178 4863 \nL 1178 0 \nL 603 0 \nL 603 4863 \nz\n\" transform=\"scale(0.015625)\"/>\n      <path id=\"DejaVuSans-6f\" d=\"M 1959 3097 \nQ 1497 3097 1228 2736 \nQ 959 2375 959 1747 \nQ 959 1119 1226 758 \nQ 1494 397 1959 397 \nQ 2419 397 2687 759 \nQ 2956 1122 2956 1747 \nQ 2956 2369 2687 2733 \nQ 2419 3097 1959 3097 \nz\nM 1959 3584 \nQ 2709 3584 3137 3096 \nQ 3566 2609 3566 1747 \nQ 3566 888 3137 398 \nQ 2709 -91 1959 -91 \nQ 1206 -91 779 398 \nQ 353 888 353 1747 \nQ 353 2609 779 3096 \nQ 1206 3584 1959 3584 \nz\n\" transform=\"scale(0.015625)\"/>\n      <path id=\"DejaVuSans-74\" d=\"M 1172 4494 \nL 1172 3500 \nL 2356 3500 \nL 2356 3053 \nL 1172 3053 \nL 1172 1153 \nQ 1172 725 1289 603 \nQ 1406 481 1766 481 \nL 2356 481 \nL 2356 0 \nL 1766 0 \nQ 1100 0 847 248 \nQ 594 497 594 1153 \nL 594 3053 \nL 172 3053 \nL 172 3500 \nL 594 3500 \nL 594 4494 \nL 1172 4494 \nz\n\" transform=\"scale(0.015625)\"/>\n      <path id=\"DejaVuSans-69\" d=\"M 603 3500 \nL 1178 3500 \nL 1178 0 \nL 603 0 \nL 603 3500 \nz\nM 603 4863 \nL 1178 4863 \nL 1178 4134 \nL 603 4134 \nL 603 4863 \nz\n\" transform=\"scale(0.015625)\"/>\n      <path id=\"DejaVuSans-6e\" d=\"M 3513 2113 \nL 3513 0 \nL 2938 0 \nL 2938 2094 \nQ 2938 2591 2744 2837 \nQ 2550 3084 2163 3084 \nQ 1697 3084 1428 2787 \nQ 1159 2491 1159 1978 \nL 1159 0 \nL 581 0 \nL 581 3500 \nL 1159 3500 \nL 1159 2956 \nQ 1366 3272 1645 3428 \nQ 1925 3584 2291 3584 \nQ 2894 3584 3203 3211 \nQ 3513 2838 3513 2113 \nz\n\" transform=\"scale(0.015625)\"/>\n      <path id=\"DejaVuSans-67\" d=\"M 2906 1791 \nQ 2906 2416 2648 2759 \nQ 2391 3103 1925 3103 \nQ 1463 3103 1205 2759 \nQ 947 2416 947 1791 \nQ 947 1169 1205 825 \nQ 1463 481 1925 481 \nQ 2391 481 2648 825 \nQ 2906 1169 2906 1791 \nz\nM 3481 434 \nQ 3481 -459 3084 -895 \nQ 2688 -1331 1869 -1331 \nQ 1566 -1331 1297 -1286 \nQ 1028 -1241 775 -1147 \nL 775 -588 \nQ 1028 -725 1275 -790 \nQ 1522 -856 1778 -856 \nQ 2344 -856 2625 -561 \nQ 2906 -266 2906 331 \nL 2906 616 \nQ 2728 306 2450 153 \nQ 2172 0 1784 0 \nQ 1141 0 747 490 \nQ 353 981 353 1791 \nQ 353 2603 747 3093 \nQ 1141 3584 1784 3584 \nQ 2172 3584 2450 3431 \nQ 2728 3278 2906 2969 \nL 2906 3500 \nL 3481 3500 \nL 3481 434 \nz\n\" transform=\"scale(0.015625)\"/>\n      <path id=\"DejaVuSans-20\" transform=\"scale(0.015625)\"/>\n      <path id=\"DejaVuSans-61\" d=\"M 2194 1759 \nQ 1497 1759 1228 1600 \nQ 959 1441 959 1056 \nQ 959 750 1161 570 \nQ 1363 391 1709 391 \nQ 2188 391 2477 730 \nQ 2766 1069 2766 1631 \nL 2766 1759 \nL 2194 1759 \nz\nM 3341 1997 \nL 3341 0 \nL 2766 0 \nL 2766 531 \nQ 2569 213 2275 61 \nQ 1981 -91 1556 -91 \nQ 1019 -91 701 211 \nQ 384 513 384 1019 \nQ 384 1609 779 1909 \nQ 1175 2209 1959 2209 \nL 2766 2209 \nL 2766 2266 \nQ 2766 2663 2505 2880 \nQ 2244 3097 1772 3097 \nQ 1472 3097 1187 3025 \nQ 903 2953 641 2809 \nL 641 3341 \nQ 956 3463 1253 3523 \nQ 1550 3584 1831 3584 \nQ 2591 3584 2966 3190 \nQ 3341 2797 3341 1997 \nz\n\" transform=\"scale(0.015625)\"/>\n      <path id=\"DejaVuSans-66\" d=\"M 2375 4863 \nL 2375 4384 \nL 1825 4384 \nQ 1516 4384 1395 4259 \nQ 1275 4134 1275 3809 \nL 1275 3500 \nL 2222 3500 \nL 2222 3053 \nL 1275 3053 \nL 1275 0 \nL 697 0 \nL 697 3053 \nL 147 3053 \nL 147 3500 \nL 697 3500 \nL 697 3744 \nQ 697 4328 969 4595 \nQ 1241 4863 1831 4863 \nL 2375 4863 \nz\n\" transform=\"scale(0.015625)\"/>\n      <path id=\"DejaVuSans-75\" d=\"M 544 1381 \nL 544 3500 \nL 1119 3500 \nL 1119 1403 \nQ 1119 906 1312 657 \nQ 1506 409 1894 409 \nQ 2359 409 2629 706 \nQ 2900 1003 2900 1516 \nL 2900 3500 \nL 3475 3500 \nL 3475 0 \nL 2900 0 \nL 2900 538 \nQ 2691 219 2414 64 \nQ 2138 -91 1772 -91 \nQ 1169 -91 856 284 \nQ 544 659 544 1381 \nz\nM 1991 3584 \nL 1991 3584 \nz\n\" transform=\"scale(0.015625)\"/>\n      <path id=\"DejaVuSans-63\" d=\"M 3122 3366 \nL 3122 2828 \nQ 2878 2963 2633 3030 \nQ 2388 3097 2138 3097 \nQ 1578 3097 1268 2742 \nQ 959 2388 959 1747 \nQ 959 1106 1268 751 \nQ 1578 397 2138 397 \nQ 2388 397 2633 464 \nQ 2878 531 3122 666 \nL 3122 134 \nQ 2881 22 2623 -34 \nQ 2366 -91 2075 -91 \nQ 1284 -91 818 406 \nQ 353 903 353 1747 \nQ 353 2603 823 3093 \nQ 1294 3584 2113 3584 \nQ 2378 3584 2631 3529 \nQ 2884 3475 3122 3366 \nz\n\" transform=\"scale(0.015625)\"/>\n      <path id=\"DejaVuSans-64\" d=\"M 2906 2969 \nL 2906 4863 \nL 3481 4863 \nL 3481 0 \nL 2906 0 \nL 2906 525 \nQ 2725 213 2448 61 \nQ 2172 -91 1784 -91 \nQ 1150 -91 751 415 \nQ 353 922 353 1747 \nQ 353 2572 751 3078 \nQ 1150 3584 1784 3584 \nQ 2172 3584 2448 3432 \nQ 2725 3281 2906 2969 \nz\nM 947 1747 \nQ 947 1113 1208 752 \nQ 1469 391 1925 391 \nQ 2381 391 2643 752 \nQ 2906 1113 2906 1747 \nQ 2906 2381 2643 2742 \nQ 2381 3103 1925 3103 \nQ 1469 3103 1208 2742 \nQ 947 2381 947 1747 \nz\n\" transform=\"scale(0.015625)\"/>\n      <path id=\"DejaVuSans-73\" d=\"M 2834 3397 \nL 2834 2853 \nQ 2591 2978 2328 3040 \nQ 2066 3103 1784 3103 \nQ 1356 3103 1142 2972 \nQ 928 2841 928 2578 \nQ 928 2378 1081 2264 \nQ 1234 2150 1697 2047 \nL 1894 2003 \nQ 2506 1872 2764 1633 \nQ 3022 1394 3022 966 \nQ 3022 478 2636 193 \nQ 2250 -91 1575 -91 \nQ 1294 -91 989 -36 \nQ 684 19 347 128 \nL 347 722 \nQ 666 556 975 473 \nQ 1284 391 1588 391 \nQ 1994 391 2212 530 \nQ 2431 669 2431 922 \nQ 2431 1156 2273 1281 \nQ 2116 1406 1581 1522 \nL 1381 1569 \nQ 847 1681 609 1914 \nQ 372 2147 372 2553 \nQ 372 3047 722 3315 \nQ 1072 3584 1716 3584 \nQ 2034 3584 2315 3537 \nQ 2597 3491 2834 3397 \nz\n\" transform=\"scale(0.015625)\"/>\n      <path id=\"DejaVuSans-65\" d=\"M 3597 1894 \nL 3597 1613 \nL 953 1613 \nQ 991 1019 1311 708 \nQ 1631 397 2203 397 \nQ 2534 397 2845 478 \nQ 3156 559 3463 722 \nL 3463 178 \nQ 3153 47 2828 -22 \nQ 2503 -91 2169 -91 \nQ 1331 -91 842 396 \nQ 353 884 353 1716 \nQ 353 2575 817 3079 \nQ 1281 3584 2069 3584 \nQ 2775 3584 3186 3129 \nQ 3597 2675 3597 1894 \nz\nM 3022 2063 \nQ 3016 2534 2758 2815 \nQ 2500 3097 2075 3097 \nQ 1594 3097 1305 2825 \nQ 1016 2553 972 2059 \nL 3022 2063 \nz\n\" transform=\"scale(0.015625)\"/>\n      <path id=\"DejaVuSans-72\" d=\"M 2631 2963 \nQ 2534 3019 2420 3045 \nQ 2306 3072 2169 3072 \nQ 1681 3072 1420 2755 \nQ 1159 2438 1159 1844 \nL 1159 0 \nL 581 0 \nL 581 3500 \nL 1159 3500 \nL 1159 2956 \nQ 1341 3275 1631 3429 \nQ 1922 3584 2338 3584 \nQ 2397 3584 2469 3576 \nQ 2541 3569 2628 3553 \nL 2631 2963 \nz\n\" transform=\"scale(0.015625)\"/>\n      <path id=\"DejaVuSans-76\" d=\"M 191 3500 \nL 800 3500 \nL 1894 563 \nL 2988 3500 \nL 3597 3500 \nL 2284 0 \nL 1503 0 \nL 191 3500 \nz\n\" transform=\"scale(0.015625)\"/>\n     </defs>\n     <use xlink:href=\"#DejaVuSans-50\"/>\n     <use xlink:href=\"#DejaVuSans-6c\" x=\"60.302734\"/>\n     <use xlink:href=\"#DejaVuSans-6f\" x=\"88.085938\"/>\n     <use xlink:href=\"#DejaVuSans-74\" x=\"149.267578\"/>\n     <use xlink:href=\"#DejaVuSans-74\" x=\"188.476562\"/>\n     <use xlink:href=\"#DejaVuSans-69\" x=\"227.685547\"/>\n     <use xlink:href=\"#DejaVuSans-6e\" x=\"255.46875\"/>\n     <use xlink:href=\"#DejaVuSans-67\" x=\"318.847656\"/>\n     <use xlink:href=\"#DejaVuSans-20\" x=\"382.324219\"/>\n     <use xlink:href=\"#DejaVuSans-61\" x=\"414.111328\"/>\n     <use xlink:href=\"#DejaVuSans-20\" x=\"475.390625\"/>\n     <use xlink:href=\"#DejaVuSans-66\" x=\"507.177734\"/>\n     <use xlink:href=\"#DejaVuSans-75\" x=\"542.382812\"/>\n     <use xlink:href=\"#DejaVuSans-6e\" x=\"605.761719\"/>\n     <use xlink:href=\"#DejaVuSans-63\" x=\"669.140625\"/>\n     <use xlink:href=\"#DejaVuSans-74\" x=\"724.121094\"/>\n     <use xlink:href=\"#DejaVuSans-69\" x=\"763.330078\"/>\n     <use xlink:href=\"#DejaVuSans-6f\" x=\"791.113281\"/>\n     <use xlink:href=\"#DejaVuSans-6e\" x=\"852.294922\"/>\n     <use xlink:href=\"#DejaVuSans-20\" x=\"915.673828\"/>\n     <use xlink:href=\"#DejaVuSans-61\" x=\"947.460938\"/>\n     <use xlink:href=\"#DejaVuSans-6e\" x=\"1008.740234\"/>\n     <use xlink:href=\"#DejaVuSans-64\" x=\"1072.119141\"/>\n     <use xlink:href=\"#DejaVuSans-20\" x=\"1135.595703\"/>\n     <use xlink:href=\"#DejaVuSans-69\" x=\"1167.382812\"/>\n     <use xlink:href=\"#DejaVuSans-74\" x=\"1195.166016\"/>\n     <use xlink:href=\"#DejaVuSans-73\" x=\"1234.375\"/>\n     <use xlink:href=\"#DejaVuSans-20\" x=\"1286.474609\"/>\n     <use xlink:href=\"#DejaVuSans-64\" x=\"1318.261719\"/>\n     <use xlink:href=\"#DejaVuSans-65\" x=\"1381.738281\"/>\n     <use xlink:href=\"#DejaVuSans-72\" x=\"1443.261719\"/>\n     <use xlink:href=\"#DejaVuSans-69\" x=\"1484.375\"/>\n     <use xlink:href=\"#DejaVuSans-76\" x=\"1512.158203\"/>\n     <use xlink:href=\"#DejaVuSans-61\" x=\"1571.337891\"/>\n     <use xlink:href=\"#DejaVuSans-74\" x=\"1632.617188\"/>\n     <use xlink:href=\"#DejaVuSans-69\" x=\"1671.826172\"/>\n     <use xlink:href=\"#DejaVuSans-76\" x=\"1699.609375\"/>\n     <use xlink:href=\"#DejaVuSans-65\" x=\"1758.789062\"/>\n    </g>\n   </g>\n   <g id=\"legend_1\">\n    <g id=\"patch_7\">\n     <path d=\"M 332.602813 283.430125 \nL 388.602813 283.430125 \nQ 390.602813 283.430125 390.602813 281.430125 \nL 390.602813 253.073875 \nQ 390.602813 251.073875 388.602813 251.073875 \nL 332.602813 251.073875 \nQ 330.602813 251.073875 330.602813 253.073875 \nL 330.602813 281.430125 \nQ 330.602813 283.430125 332.602813 283.430125 \nz\n\" style=\"fill: #ffffff; opacity: 0.8; stroke: #cccccc; stroke-linejoin: miter\"/>\n    </g>\n    <g id=\"line2d_21\">\n     <path d=\"M 334.602813 259.172312 \nL 344.602813 259.172312 \nL 354.602813 259.172312 \n\" style=\"fill: none; stroke: #000000; stroke-width: 1.5; stroke-linecap: square\"/>\n    </g>\n    <g id=\"text_20\">\n     <!-- $f(x)$ -->\n     <g transform=\"translate(362.602813 262.672312) scale(0.1 -0.1)\">\n      <defs>\n       <path id=\"DejaVuSans-Oblique-66\" d=\"M 3059 4863 \nL 2969 4384 \nL 2419 4384 \nQ 2106 4384 1964 4261 \nQ 1822 4138 1753 3809 \nL 1691 3500 \nL 2638 3500 \nL 2553 3053 \nL 1606 3053 \nL 1013 0 \nL 434 0 \nL 1031 3053 \nL 481 3053 \nL 563 3500 \nL 1113 3500 \nL 1159 3744 \nQ 1278 4363 1576 4613 \nQ 1875 4863 2516 4863 \nL 3059 4863 \nz\n\" transform=\"scale(0.015625)\"/>\n       <path id=\"DejaVuSans-28\" d=\"M 1984 4856 \nQ 1566 4138 1362 3434 \nQ 1159 2731 1159 2009 \nQ 1159 1288 1364 580 \nQ 1569 -128 1984 -844 \nL 1484 -844 \nQ 1016 -109 783 600 \nQ 550 1309 550 2009 \nQ 550 2706 781 3412 \nQ 1013 4119 1484 4856 \nL 1984 4856 \nz\n\" transform=\"scale(0.015625)\"/>\n       <path id=\"DejaVuSans-Oblique-78\" d=\"M 3841 3500 \nL 2234 1784 \nL 3219 0 \nL 2559 0 \nL 1819 1388 \nL 531 0 \nL -166 0 \nL 1556 1844 \nL 641 3500 \nL 1300 3500 \nL 1972 2234 \nL 3144 3500 \nL 3841 3500 \nz\n\" transform=\"scale(0.015625)\"/>\n       <path id=\"DejaVuSans-29\" d=\"M 513 4856 \nL 1013 4856 \nQ 1481 4119 1714 3412 \nQ 1947 2706 1947 2009 \nQ 1947 1309 1714 600 \nQ 1481 -109 1013 -844 \nL 513 -844 \nQ 928 -128 1133 580 \nQ 1338 1288 1338 2009 \nQ 1338 2731 1133 3434 \nQ 928 4138 513 4856 \nz\n\" transform=\"scale(0.015625)\"/>\n      </defs>\n      <use xlink:href=\"#DejaVuSans-Oblique-66\" transform=\"translate(0 0.015625)\"/>\n      <use xlink:href=\"#DejaVuSans-28\" transform=\"translate(35.205078 0.015625)\"/>\n      <use xlink:href=\"#DejaVuSans-Oblique-78\" transform=\"translate(74.21875 0.015625)\"/>\n      <use xlink:href=\"#DejaVuSans-29\" transform=\"translate(133.398438 0.015625)\"/>\n     </g>\n    </g>\n    <g id=\"line2d_22\">\n     <path d=\"M 334.602813 273.850437 \nL 344.602813 273.850437 \nL 354.602813 273.850437 \n\" style=\"fill: none; stroke: #ff6347; stroke-width: 1.5; stroke-linecap: square\"/>\n    </g>\n    <g id=\"text_21\">\n     <!-- $\\nabla f(x)$ -->\n     <g transform=\"translate(362.602813 277.350437) scale(0.1 -0.1)\">\n      <defs>\n       <path id=\"DejaVuSans-2207\" d=\"M 2138 659 \nL 3444 4047 \nL 831 4047 \nL 2138 659 \nz\nM 1791 0 \nL -19 4603 \nL 4300 4603 \nL 2491 0 \nL 1791 0 \nz\n\" transform=\"scale(0.015625)\"/>\n      </defs>\n      <use xlink:href=\"#DejaVuSans-2207\" transform=\"translate(0 0.015625)\"/>\n      <use xlink:href=\"#DejaVuSans-Oblique-66\" transform=\"translate(66.894531 0.015625)\"/>\n      <use xlink:href=\"#DejaVuSans-28\" transform=\"translate(102.099609 0.015625)\"/>\n      <use xlink:href=\"#DejaVuSans-Oblique-78\" transform=\"translate(141.113281 0.015625)\"/>\n      <use xlink:href=\"#DejaVuSans-29\" transform=\"translate(200.292969 0.015625)\"/>\n     </g>\n    </g>\n   </g>\n  </g>\n </g>\n <defs>\n  <clipPath id=\"p48358f2d0b\">\n   <rect x=\"38.482813\" y=\"22.318125\" width=\"357.12\" height=\"266.112\"/>\n  </clipPath>\n </defs>\n</svg>\n",
      "text/plain": [
       "<Figure size 640x480 with 1 Axes>"
      ]
     },
     "metadata": {},
     "output_type": "display_data"
    }
   ],
   "source": [
    "x = torch.linspace(start=-2, end=2, steps=101, requires_grad=True)  # points spread across x-axis\n",
    "\n",
    "y = f(x)            # calculate y for every point on x-axis\n",
    "y.sum().backward()  # collapse y into single value in order to calculate the gradient at x value in parrelel\n",
    "\n",
    "with torch.no_grad():  # specify that we will not want to backpropogate on operations within this block\n",
    "  plt.plot(x, y, label='$f(x)$', c='k')\n",
    "  plt.plot(x, x.grad, label=r'$\\nabla f(x)$', c='tomato')\n",
    "plt.title('Plotting a function and its derivative')\n",
    "plt.legend()\n",
    "plt.show()\n"
   ]
  },
  {
   "cell_type": "markdown",
   "metadata": {},
   "source": [
    "In neural networks, `with torch.no_grad()` is very handy for using our network for prediction or once training is done.\n",
    "\n",
    "We can also zero out gradients. This is necessary to reset gradients after every round of gradient descent. (Pay attention, because you will be implementing gradient descent). Notice what happens if we don't zero out our gradient:"
   ]
  },
  {
   "cell_type": "code",
   "execution_count": 7,
   "metadata": {},
   "outputs": [
    {
     "name": "stdout",
     "output_type": "stream",
     "text": [
      "Gradient of f(x) at x = Parameter containing:\n",
      "tensor(1., requires_grad=True):\t3.0\n",
      "Gradient of f(x) at x = Parameter containing:\n",
      "tensor(1., requires_grad=True):\t6.0 (wrong)\n"
     ]
    }
   ],
   "source": [
    "x = torch.nn.Parameter(torch.tensor(1.0))\n",
    "\n",
    "y = f(x)\n",
    "y.backward()\n",
    "print(f'Gradient of f(x) at x = {x}:\\t{x.grad}')\n",
    "\n",
    "y = f(x)\n",
    "y.backward()\n",
    "print(f'Gradient of f(x) at x = {x}:\\t{x.grad} (wrong)')"
   ]
  },
  {
   "cell_type": "markdown",
   "metadata": {},
   "source": [
    "Now notice what happens if we do zero out our gradient:"
   ]
  },
  {
   "cell_type": "code",
   "execution_count": 8,
   "metadata": {},
   "outputs": [
    {
     "name": "stdout",
     "output_type": "stream",
     "text": [
      "Gradient of f(x) at x = Parameter containing:\n",
      "tensor(1., requires_grad=True):\t3.0\n",
      "Gradient after zero=ing:\t0.0\n",
      "Gradient of f(x) at x = Parameter containing:\n",
      "tensor(1., requires_grad=True):\t3.0 (right)\n"
     ]
    }
   ],
   "source": [
    "x = torch.nn.Parameter(torch.tensor(1.0))\n",
    "\n",
    "y = f(x)\n",
    "y.backward()\n",
    "print(f'Gradient of f(x) at x = {x}:\\t{x.grad}')\n",
    "\n",
    "x.grad.zero_()\n",
    "print(f'Gradient after zero=ing:\\t{x.grad}')\n",
    "\n",
    "y = f(x)\n",
    "y.backward()\n",
    "print(f'Gradient of f(x) at x = {x}:\\t{x.grad} (right)')\n"
   ]
  },
  {
   "attachments": {},
   "cell_type": "markdown",
   "metadata": {},
   "source": [
    "## **3) MNIST Dataset**\n"
   ]
  },
  {
   "attachments": {},
   "cell_type": "markdown",
   "metadata": {},
   "source": [
    "MNIST is an extremely popular (and non-trivial) example dataset. It consists of $28 \\times 28$ black-and-white images of handwritten single digits between 0 and 9. Our goal is to implement and train an MLP to classify these images from scratch.\n",
    "\n",
    "All the code in this part is written for you, but you should follow each line as you likely need to write these exact (or similar) lines of code multiple times in future research or work.\n",
    "\n",
    "We define a function below that\n",
    "1. downloads the MNIST training and test datasets,\n",
    "2. then wraps each dataset in a \"dataloader\":"
   ]
  },
  {
   "cell_type": "code",
   "execution_count": 9,
   "metadata": {},
   "outputs": [],
   "source": [
    "def load_mnist(batch_size):\n",
    "  trainset = torchvision.datasets.MNIST(root=\"./data\", train=True, transform=torchvision.transforms.ToTensor(), download=True)\n",
    "  testset = torchvision.datasets.MNIST(root=\"./data\", train=False, transform=torchvision.transforms.ToTensor(), download=True)\n",
    "  iter_from = lambda dataset: torch.utils.data.DataLoader(dataset, batch_size, shuffle=True, num_workers=2)\n",
    "  return iter_from(trainset), iter_from(testset), trainset, testset\n",
    "\n",
    "mnist_labels = ['0', '1', '2', '3', '4', '5', '6', '7', '8', '9']"
   ]
  },
  {
   "cell_type": "markdown",
   "metadata": {},
   "source": [
    "Let's see how both the dataset and an individual labelled datapoint looks:"
   ]
  },
  {
   "cell_type": "code",
   "execution_count": 10,
   "metadata": {},
   "outputs": [
    {
     "name": "stdout",
     "output_type": "stream",
     "text": [
      "Length of training dataset:\t60000\n",
      "Length of test dataset:\t\t10000\n",
      "First datapoint (x_1, y_1):\t(Image: shape (1, 28, 28), Label: 5 (5)),\n"
     ]
    }
   ],
   "source": [
    "train_iter, test_iter, train_set, test_set = load_mnist(batch_size=4)\n",
    "print(f'Length of training dataset:\\t{len(train_set)}')\n",
    "print(f'Length of test dataset:\\t\\t{len(test_set)}')\n",
    "\n",
    "x1, y1 = train_set[0]\n",
    "y1_text = mnist_labels[y1]\n",
    "print(f'First datapoint (x_1, y_1):\\t(Image: shape {tuple(x1.shape)}, Label: {y1} ({y1_text})),')"
   ]
  },
  {
   "attachments": {},
   "cell_type": "markdown",
   "metadata": {},
   "source": [
    "Notice that each image is $1\\times28\\times28$: this first dimension represents the different \"channels\" of the image. In this case, each image is black and white so there is only $1$ channel. However, in other datasets with colored images, we would see red, green, and blue channels: $3\\times28\\times28$. Another important thing to notice is that the labels are integers $$y_n \\in \\{0, \\ldots, 9\\}$$ where $y_n = i$ means the $n$-th image in the dataset corresponds to the clothing item `mnist_labels[i]`.\n",
    "\n",
    "What is the difference between a dataset and a dataloader? Recall that in a single epoch of stochastic gradient descent, we don't calculate loss on the entire dataset. Instead, within any particular epoch, we iterate over the entire dataset in batches. Dataloaders automatically shuffle and partition the dataset in such a way we can loop over them conviniently in every epoch. Let's look at a single mini batch of size $4$:"
   ]
  },
  {
   "cell_type": "code",
   "execution_count": 11,
   "metadata": {},
   "outputs": [
    {
     "name": "stdout",
     "output_type": "stream",
     "text": [
      "Shape of batch X:\t torch.Size([4, 1, 28, 28])\n",
      "Shape of datapoint x_i:\t torch.Size([1, 28, 28])\n"
     ]
    },
    {
     "data": {
      "image/svg+xml": "<?xml version=\"1.0\" encoding=\"utf-8\" standalone=\"no\"?>\n<!DOCTYPE svg PUBLIC \"-//W3C//DTD SVG 1.1//EN\"\n  \"http://www.w3.org/Graphics/SVG/1.1/DTD/svg11.dtd\">\n<svg xmlns:xlink=\"http://www.w3.org/1999/xlink\" width=\"460.8pt\" height=\"126.561603pt\" viewBox=\"0 0 460.8 126.561603\" xmlns=\"http://www.w3.org/2000/svg\" version=\"1.1\">\n <metadata>\n  <rdf:RDF xmlns:dc=\"http://purl.org/dc/elements/1.1/\" xmlns:cc=\"http://creativecommons.org/ns#\" xmlns:rdf=\"http://www.w3.org/1999/02/22-rdf-syntax-ns#\">\n   <cc:Work>\n    <dc:type rdf:resource=\"http://purl.org/dc/dcmitype/StillImage\"/>\n    <dc:date>2023-03-24T21:41:46.686903</dc:date>\n    <dc:format>image/svg+xml</dc:format>\n    <dc:creator>\n     <cc:Agent>\n      <dc:title>Matplotlib v3.6.3, https://matplotlib.org/</dc:title>\n     </cc:Agent>\n    </dc:creator>\n   </cc:Work>\n  </rdf:RDF>\n </metadata>\n <defs>\n  <style type=\"text/css\">*{stroke-linejoin: round; stroke-linecap: butt}</style>\n </defs>\n <g id=\"figure_1\">\n  <g id=\"patch_1\">\n   <path d=\"M 0 126.561603 \nL 460.8 126.561603 \nL 460.8 0 \nL 0 0 \nz\n\" style=\"fill: #ffffff\"/>\n  </g>\n  <g id=\"axes_1\">\n   <g clip-path=\"url(#p5248582b3a)\">\n    <image xlink:href=\"data:image/png;base64,\niVBORw0KGgoAAAANSUhEUgAAABwAAAAcCAYAAAByDd+UAAAB1klEQVR4nO2WvYrqUBSF9xYSBEURjATyAjaC+FOZF0glQSxEBH0Ke+3SiVXANwgoYuEDCILYaacSrGxEVDAI/rBucWHgjjITxfE2s7p9Fnt9bM6GcxgA6I3yvBP2C/z/wMViQclk8n1A0zTJcZy7nuM4lM1maTwefx0Cl5rNZpBlGZVK5a7faDTAzOh2u1/muAZ2Oh0wM+bz+Y13uVyQSqXg9Xq/zXENVFUV0WgUh8PhxjNNE8yMUqn0GuBgMAARQdf1G2+73UJRFBAR+v3+t1mulma5XBIRUT6fv/F0XafVakXM7CbK3dJUq1X4/X7sdrt/zpvNJgRBADPD5/Pdvd/PcgXUNA2apn3U1+sVlmVBkiQEg0EwM2q1mpsod0DDMBCJRDCZTAAAlmWBmaEoClqtFpgZo9HodUDbtkFEkCQJgUAARAQigm3bSCQSkGUZ6/X6dUDg7+rHYjHE43GUy2VMp1MAQDgcRrFYdBvjHggAx+MRp9Ppo+71ehAEAe12+2eAn5VOpyGKImzbfg+QiFAoFB7qefo9NAyDiIhyudxjjc9Mdj6fkclkQETYbDY/P+F+v6fhcPhM63NfDI/HQ6Iovg8YCoWoXq+TqqoPgxn4/Qi/Vn8ANh1B2RCW9kIAAAAASUVORK5CYII=\" id=\"image261b349714\" transform=\"matrix(3.5 0 0 3.5 7.2 21.361603)\" style=\"image-rendering:crisp-edges;image-rendering:pixelated\" width=\"28\" height=\"28\"/>\n   </g>\n   <g id=\"text_1\">\n    <!-- 4 -->\n    <g transform=\"translate(51.904239 16.318125) scale(0.12 -0.12)\">\n     <defs>\n      <path id=\"DejaVuSans-34\" d=\"M 2419 4116 \nL 825 1625 \nL 2419 1625 \nL 2419 4116 \nz\nM 2253 4666 \nL 3047 4666 \nL 3047 1625 \nL 3713 1625 \nL 3713 1100 \nL 3047 1100 \nL 3047 0 \nL 2419 0 \nL 2419 1100 \nL 313 1100 \nL 313 1709 \nL 2253 4666 \nz\n\" transform=\"scale(0.015625)\"/>\n     </defs>\n     <use xlink:href=\"#DejaVuSans-34\"/>\n    </g>\n   </g>\n  </g>\n  <g id=\"axes_2\">\n   <g clip-path=\"url(#p8b563dbaca)\">\n    <image xlink:href=\"data:image/png;base64,\niVBORw0KGgoAAAANSUhEUgAAABwAAAAcCAYAAAByDd+UAAACZElEQVR4nO2UO0srURSF155MRsKQELtpDBObEIvEKvgDhlhHbAYfELAJJMTG2j7+AQWJj0YEG0EIJFjZxkIsnIgWQkgggpUGQoplcxluMI+RK17k3gVTzDmb8+2z9tlbSBLfKOU7Yf8GUP1McK1WQ6PRQLVaRTqdBgBks1nouu79EHrU6ekpdV2niFBECIAiQsMwmE6n+fz87OkcT8CbmxuGQiEGAgFmMhn30zTNTcA0Te7v738N8O7ujqZp0rbtgfXr62vu7u5yfn6eIsJgMDgR6tnSh4eHkXudTodLS0sMh8OMRqNj7fUM9CLLsigiPD4+Hhnzc/vQcRw0Gg34fD74/f7RgV9l59bWFkWE8Xh8bNzQxq/X62i322i1Wnh5eYFt2zBNc2TSe3t7ODk5gWEYODs7G2/FsCxWVlaoaRpVVaWIUNd15nI5lsvlD7GFQoGqqjISiXBnZ2eiEx+A2WyWiqJQRJjJZLi4uOg2t9/vZy6X49HREQ8PDxmNRt2kLi8vJ8KGAgFwbW2NjuOw1+vx9fWVjuOwWCy64N9Hm2mavLq6Yrfb9QQc+krD4TBisRg0TYOu6zAMA8lkcmhJ3t7e0Gw20e/3x9duVA03NjYYiURoWRZLpRIty2IqlRqYmQsLC0ylUq6dIkLbtnl7ezvxhvLLRlf39/c4ODjA+fn5QGKrq6uYm5tDIpHA7OwsAODi4gL1eh3lchnNZhPT09NYXl7G5uYmFEVBLBbz9ko/q6enJ25vb3NmZoaBQIAiwqmpKa6vr0++4Z+qUqng8fHR/c/n8wP7Xw6cpJ87vP8D/xrwHZ3sQ3KcdN0JAAAAAElFTkSuQmCC\" id=\"image2647ef8c1c\" transform=\"matrix(3.5 0 0 3.5 123.652174 21.361603)\" style=\"image-rendering:crisp-edges;image-rendering:pixelated\" width=\"28\" height=\"28\"/>\n   </g>\n   <g id=\"text_2\">\n    <!-- 2 -->\n    <g transform=\"translate(168.356413 16.318125) scale(0.12 -0.12)\">\n     <defs>\n      <path id=\"DejaVuSans-32\" d=\"M 1228 531 \nL 3431 531 \nL 3431 0 \nL 469 0 \nL 469 531 \nQ 828 903 1448 1529 \nQ 2069 2156 2228 2338 \nQ 2531 2678 2651 2914 \nQ 2772 3150 2772 3378 \nQ 2772 3750 2511 3984 \nQ 2250 4219 1831 4219 \nQ 1534 4219 1204 4116 \nQ 875 4013 500 3803 \nL 500 4441 \nQ 881 4594 1212 4672 \nQ 1544 4750 1819 4750 \nQ 2544 4750 2975 4387 \nQ 3406 4025 3406 3419 \nQ 3406 3131 3298 2873 \nQ 3191 2616 2906 2266 \nQ 2828 2175 2409 1742 \nQ 1991 1309 1228 531 \nz\n\" transform=\"scale(0.015625)\"/>\n     </defs>\n     <use xlink:href=\"#DejaVuSans-32\"/>\n    </g>\n   </g>\n  </g>\n  <g id=\"axes_3\">\n   <g clip-path=\"url(#p3a85479685)\">\n    <image xlink:href=\"data:image/png;base64,\niVBORw0KGgoAAAANSUhEUgAAABwAAAAcCAYAAAByDd+UAAABXUlEQVR4nO3VoY7CQBAG4H/OkJAKTLEoSEqw1S0JpopHwGAwaFQ1FnwFCgGGPkIrqzE1KAxBIFr9n7kjuTsuGe42qxizSWc7X3ZnuxWShMV4s4m9wBdoB7zdbkjTFGEYQkQgIhgOh6jrWleAT8Rut2O73aaIMAxDbrdbHg4HOo7DxWKhqqECq6ribDYjAI5GIx6Pxy/5brfL+XxuDhyPx3Qch0mS/MidTic2Gg3u93tzYK/X42azeZgry5Iiol6h+tC4rvvweZZlAADP81R1VCDJe+HvUdc1SKpB1ZZOp1O2Wq2HffI8j4PBQLWdpLKHl8uFrusSAH3f52Qy4Wq1YhAEBMAoisyCJHk+nxnH8f07BHAfl8ulefDXAgDX67V6vpG7NM9z9VwjYFVVdsEgCOyARVEAAJrNph3wer0CAPr9vh3w8x/Y6XTsgCLy9Dv/Ap/pnRHwLyEft4W1eAcAVEnveiBOpgAAAABJRU5ErkJggg==\" id=\"image2753556700\" transform=\"matrix(3.5 0 0 3.5 240.104348 21.361603)\" style=\"image-rendering:crisp-edges;image-rendering:pixelated\" width=\"28\" height=\"28\"/>\n   </g>\n   <g id=\"text_3\">\n    <!-- 9 -->\n    <g transform=\"translate(284.808587 16.318125) scale(0.12 -0.12)\">\n     <defs>\n      <path id=\"DejaVuSans-39\" d=\"M 703 97 \nL 703 672 \nQ 941 559 1184 500 \nQ 1428 441 1663 441 \nQ 2288 441 2617 861 \nQ 2947 1281 2994 2138 \nQ 2813 1869 2534 1725 \nQ 2256 1581 1919 1581 \nQ 1219 1581 811 2004 \nQ 403 2428 403 3163 \nQ 403 3881 828 4315 \nQ 1253 4750 1959 4750 \nQ 2769 4750 3195 4129 \nQ 3622 3509 3622 2328 \nQ 3622 1225 3098 567 \nQ 2575 -91 1691 -91 \nQ 1453 -91 1209 -44 \nQ 966 3 703 97 \nz\nM 1959 2075 \nQ 2384 2075 2632 2365 \nQ 2881 2656 2881 3163 \nQ 2881 3666 2632 3958 \nQ 2384 4250 1959 4250 \nQ 1534 4250 1286 3958 \nQ 1038 3666 1038 3163 \nQ 1038 2656 1286 2365 \nQ 1534 2075 1959 2075 \nz\n\" transform=\"scale(0.015625)\"/>\n     </defs>\n     <use xlink:href=\"#DejaVuSans-39\"/>\n    </g>\n   </g>\n  </g>\n  <g id=\"axes_4\">\n   <g clip-path=\"url(#peede407fef)\">\n    <image xlink:href=\"data:image/png;base64,\niVBORw0KGgoAAAANSUhEUgAAABwAAAAcCAYAAAByDd+UAAABRUlEQVR4nO2WMYrCQBiF3/9jGbBQBINoGkvB1sJiLuAJPICNFpYBeyubdB4jXS6QO8Qy6YRAIFi/bSR1/uxu2AVfNc2bjze8+WeEJNGjtE/YB/g3gcfjEaqK0+nUDzCOY4gI8jz/feD1esXz+QQA7Pf7Vp7Bd4BhGEJETJ7/UZq6ruGcA0mQxHQ6xXK5bGdmB+V5TlWliFBVmSRJa2+nhFEUNevxeAzf99ubremyLONisWgSHg4Hk98MTNOUqkpVpXOOdV2b/OZrcT6fwfeLtl6v4XmebQNrws1m0ySsqspqt5WmLEu8Xi8AQBAEGA6HtnTWhPf7narKyWTCx+NhTkcaSzOfz6mqDIKgE4w0lOZ2u6EoCgDAdru1H+VbrYEi0gzq3W7XGWieNKvVCs65/oCz2Qyj0ag/4OVy6QwDACE/H+Gf1Rfp8p8ruZihywAAAABJRU5ErkJggg==\" id=\"image3a335c7038\" transform=\"matrix(3.5 0 0 3.5 356.556522 21.361603)\" style=\"image-rendering:crisp-edges;image-rendering:pixelated\" width=\"28\" height=\"28\"/>\n   </g>\n   <g id=\"text_4\">\n    <!-- 1 -->\n    <g transform=\"translate(401.260761 16.318125) scale(0.12 -0.12)\">\n     <defs>\n      <path id=\"DejaVuSans-31\" d=\"M 794 531 \nL 1825 531 \nL 1825 4091 \nL 703 3866 \nL 703 4441 \nL 1819 4666 \nL 2450 4666 \nL 2450 531 \nL 3481 531 \nL 3481 0 \nL 794 0 \nL 794 531 \nz\n\" transform=\"scale(0.015625)\"/>\n     </defs>\n     <use xlink:href=\"#DejaVuSans-31\"/>\n    </g>\n   </g>\n  </g>\n </g>\n <defs>\n  <clipPath id=\"p5248582b3a\">\n   <rect x=\"7.2\" y=\"22.318125\" width=\"97.043478\" height=\"97.043478\"/>\n  </clipPath>\n  <clipPath id=\"p8b563dbaca\">\n   <rect x=\"123.652174\" y=\"22.318125\" width=\"97.043478\" height=\"97.043478\"/>\n  </clipPath>\n  <clipPath id=\"p3a85479685\">\n   <rect x=\"240.104348\" y=\"22.318125\" width=\"97.043478\" height=\"97.043478\"/>\n  </clipPath>\n  <clipPath id=\"peede407fef\">\n   <rect x=\"356.556522\" y=\"22.318125\" width=\"97.043478\" height=\"97.043478\"/>\n  </clipPath>\n </defs>\n</svg>\n",
      "text/plain": [
       "<Figure size 800x200 with 4 Axes>"
      ]
     },
     "metadata": {},
     "output_type": "display_data"
    }
   ],
   "source": [
    "def plot_examples(X, y):\n",
    "  batch_size = X.shape[0]\n",
    "  _, axs = plt.subplots(1, batch_size, figsize=(batch_size*2, 2))\n",
    "  for ax, img, y in zip(axs, X, y):\n",
    "    ax.imshow(img[0], cmap='binary', interpolation='none')\n",
    "    ax.set_title(mnist_labels[y]) \n",
    "    ax.axis('off')\n",
    "\n",
    "  \n",
    "for X, y in train_iter:  # this is how we iterate over the entire training dataset\n",
    "  batch_shape = X.shape\n",
    "  print(f'Shape of batch X:\\t {batch_shape}')\n",
    "\n",
    "  data_shape = X[0].shape\n",
    "  print(f'Shape of datapoint x_i:\\t {data_shape}')\n",
    "\n",
    "  plot_examples(X, y)\n",
    "  break  # break since it would take 60000/4 = 15000 iterations to finish iterating"
   ]
  },
  {
   "attachments": {},
   "cell_type": "markdown",
   "metadata": {},
   "source": [
    "## **4) Creating a neural network**\n",
    "\n",
    "It is now time to implement a multilayer perceptron (MLP) with the following architecture:\n",
    "\n",
    "\\begin{align*}\n",
    "  \\mathbf H &= \\operatorname{ReLU}(\\mathbf X \\mathbf W^{(1)} + \\mathbf b^{(1)}) \\\\\n",
    "  \\mathbf O &= \\operatorname{softmax}(\\mathbf H \\mathbf W^{(2)} + \\mathbf b^{(2)}).\n",
    "\\end{align*}\n",
    "\n",
    "The matrix $\\mathbf X \\in \\mathbb R^{M \\times D}$ above corresponds to a minibatch of $M$ datapoints $\\mathbf x_i \\in \\mathbb R^D$. The matrix $\\mathbf H \\in \\mathbb R^{M \\times J}$ is the hidden layer. For this problem, we choose the width of the hidden layer to be $J = 256$. The $i$-th row of the output matrix $\\mathbf O \\in \\mathbb R^{M \\times K}$ corresponds to the prediction $\\hat{\\mathbf y} \\in \\mathbb R^K$ of the $i$-th datapoint. We one hot encode the labels and use a softmax on the last layer so that our MLP models a proper distribution $p(y_n|\\mathbf x_n)$. Given an image $\\mathbf x^*$, if the $k$-th entry of our output $\\hat{\\mathbf y}^*$ is the largest, then we predict class $k$. This corresponds to picking the class $y^*$ that maximizes $p(y^* | \\mathbf x)$.\n",
    "\n",
    "![](mlp.svg)\n",
    "\n",
    "The entirety of implementing this architecture is just implementing the equations above. In order to do this, you will need to\n",
    "1. **TODO:** initialize your parameters $\\mathbf W^{(1)}, \\mathbf b^{(1)}, \\mathbf W^{(2)}, \\mathbf b^{(2)}$\n",
    "2. **TODO:** implement your activation functions $\\operatorname{ReLU}$, $\\operatorname{softmax}$\n",
    "3. **TODO:** implement your forward pass $f(\\mathbf X) = \\ldots$\n",
    "\n",
    "Machine learning models can be sensitive to weight initialization. For this architecture, initialize the weights as follows:\n",
    "\\begin{align*}\n",
    "  \\mathbf {W^{(\\ell)}}_{i,k} &\\sim \\mathcal 0.01 \\, N(0, 1), \\\\\n",
    "  \\mathbf {b^{(\\ell)}}_{i}\\;\\,\\, &= 0\\,.\n",
    "\\end{align*}\n",
    "\n",
    "*Hint: we just learned initialize random tensors.*\n",
    "\n",
    "*Double hint: we are flattening each image before feeding it into the MLP. How many inputs nodes in our MLP does this mean?*\n",
    "\n",
    "*Triple hint: we are one hot encoding our labels. How many dimensions will each label have if there are 10 classes in MNIST?*"
   ]
  },
  {
   "cell_type": "code",
   "execution_count": 63,
   "metadata": {},
   "outputs": [],
   "source": [
    "\"\"\"\n",
    "We are given images of dimension 28 by 28 and we want to classify them as one of 10 classes (digits 0-9).\n",
    "At each step, we will be applying a linear transformation (W's) followed by an additive bias term (b's).\n",
    "We then apply a non-linearity (relu or softmax), which you will be implementing in the cell below.\n",
    "\"\"\"\n",
    "\n",
    "n_inputs = 784 # 28 x 28 images\n",
    "n_hiddens = 256\n",
    "n_outputs = 10\n",
    "\n",
    "W1 = 0.01 * torch.randn(size=(n_inputs, n_hiddens)) # matrix applying linear transformation\n",
    "W1.requires_grad = True\n",
    "b1 = torch.zeros(size=(1, n_hiddens)) # additive bias term\n",
    "b1.requires_grad = True\n",
    "W2 = 0.01 * torch.randn(size=(n_hiddens, n_outputs)) # matrix applying linear transformation\n",
    "W2.requires_grad = True\n",
    "b2 = torch.zeros(size=(1, n_outputs)) # additive bias term\n",
    "b2.requires_grad = True\n",
    "\n",
    "params = [W1, b1, W2, b2]"
   ]
  },
  {
   "attachments": {},
   "cell_type": "markdown",
   "metadata": {},
   "source": [
    "Activation functions are just as much an aspect of architecture as the number of hidden layers or the network width. Implement\n",
    "1. **TODO:** the ReLU function: $$\\operatorname{ReLU}(x) = \\max(0, x)$$\n",
    "2. **TODO:** the softmax function: $$\\operatorname{softmax}(\\mathbf X)_{ij} = \\frac{\\exp(\\mathbf X_{ij})}{\\sum_k \\exp \\mathbf X_{ik})}.$$\n",
    "\n",
    "*Hint: See `torch.clamp`.*"
   ]
  },
  {
   "cell_type": "code",
   "execution_count": 64,
   "metadata": {},
   "outputs": [],
   "source": [
    "def relu(x):\n",
    "  \"\"\"\n",
    "  For each element, set 0 as minimum value and nothing as maximum value. S\n",
    "  hould not change shape of x.\n",
    "\n",
    "  :param x: a 2D numpy array of output of first transformation. Shape is (batch_size, n_hiddens)\n",
    "  :return: a 2D numpy array of output of first non-linearity. Shape is (batch_size, n_hiddens)\n",
    "  \"\"\"\n",
    "  \n",
    "  torch.clamp(x, 0)\n",
    "  \n",
    "  return x\n",
    "\n",
    "def softmax(X):\n",
    "  \"\"\"\n",
    "  For each row, divide each exponentiated element by the sum of all exponentiated elements in that row. \n",
    "  Should not change shape of X.\n",
    "\n",
    "  :param X: a 2D numpy array of output of second transformation. Shape is (batch_size, n_outputs)\n",
    "  :return: a 2D numpy array of output of second non-linearity. Shape is (batch_size, n_outputs)\n",
    "  \"\"\"\n",
    "\n",
    "  batch_size = X.shape[0]\n",
    "  rowsums = torch.zeros(size=(batch_size, 1))\n",
    "\n",
    "  for i in range(batch_size):\n",
    "    rowsums[i] = torch.sum(torch.exp(X[i]))\n",
    "  return torch.div(torch.exp(X), rowsums)\n",
    "\n",
    "      "
   ]
  },
  {
   "attachments": {},
   "cell_type": "markdown",
   "metadata": {},
   "source": [
    "Now it's time to throw everything together!\n",
    "\n",
    "1. **TODO:** implement the forward pass.\n",
    "\n",
    "*Hint: The first dimension of `X` indexes over individual images in the batch. We want to flatten the rest of the dimensions.*\n",
    "\n",
    "*Double hint: Calculate $H$, then Calculate $O$.*\n",
    "\n",
    "*Triple hint: Like in NumPy, use `@` for matrix multiplication.*"
   ]
  },
  {
   "cell_type": "code",
   "execution_count": 65,
   "metadata": {},
   "outputs": [],
   "source": [
    "def net(X):\n",
    "  \"\"\"\n",
    "  Implements the forward pass of our neural network. \n",
    "  \n",
    "  :param X: a batch of images of shape (batch_size, 1, 28, 28).\n",
    "  :return: a 2D numpy array of shape (batch_size, 10) where each row is a probability vector of length 10.\n",
    "  \"\"\"\n",
    "  \n",
    "  X = X.flatten(start_dim=1) \n",
    "\n",
    "  H = relu(X @ W1 + b1)\n",
    "  O = softmax( H @ W2 + b2)\n",
    "\n",
    "  return O\n",
    "\n"
   ]
  },
  {
   "cell_type": "code",
   "execution_count": 66,
   "metadata": {},
   "outputs": [
    {
     "name": "stdout",
     "output_type": "stream",
     "text": [
      "Forward pass test passed!\n"
     ]
    }
   ],
   "source": [
    "test_forward_pass(net)"
   ]
  },
  {
   "cell_type": "markdown",
   "metadata": {},
   "source": [
    "## **5) Training a neural network**\n",
    "\n"
   ]
  },
  {
   "attachments": {},
   "cell_type": "markdown",
   "metadata": {},
   "source": [
    "We also need to be able to evaluate our model prediction $\\hat {\\mathbf y}$ with the true label $\\mathbf y$. We can do this through with cross entropy loss. If $K$ is the number of categories we have, then $\\hat {\\mathbf y}$ and $\\mathbf y$ are $K$-dimensional one hot vectors. With this representation, cross entropy loss is defined as $$\\ell(\\hat {\\mathbf y}, \\mathbf y) = -\\sum_{k=1}^K \\mathbf y_i \\log \\hat {\\mathbf y}_i.$$ Note that the way we structured our neural network, only $\\hat {\\mathbf y}$ is one hot encoded, and the labels $y$ coming from the MNIST training set are integers. This means we can much more simply write $$\\ell(\\hat {\\mathbf y}, y) = -\\log \\hat {\\mathbf y}_y.$$\n",
    "\n",
    "For any general loss function, we can implement the gradient descent update step: $$w \\leftarrow w - \\eta \\, \\nabla_w \\mathcal L$$ for every model parameter $w$ where $\\mathcal L$ is the average loss over the minibatch.\n",
    "\n",
    "1. **TODO:** Implement cross entropy loss.\n",
    "2. **TODO:** Implement gradient descent.\n",
    "\n",
    "*Hint: in gradient descent, remember to use `with torch.no_grad():` since we don't want to backpropogate through the update operations.*\n",
    "\n",
    "*Double hint: assume that the parameters come into `sgd` with their gradients. Hence, $\\nabla_w \\mathcal L$ is simply `w.grad`.*\n",
    "\n",
    "*Triple hint: we will need to reset the parameter gradients by zero-ing out at end of gradient descent.*"
   ]
  },
  {
   "cell_type": "code",
   "execution_count": 67,
   "metadata": {},
   "outputs": [],
   "source": [
    "def cross_entropy(y_hat, y):\n",
    "  \"\"\"\n",
    "  Implement cross entropy loss as defined in the formula above.\n",
    "  :param y_hat: a 2D numpy array of shape (batch_size, 10) where each row is a probability vector of length 10.\n",
    "  :param y: a 1D numpy array of shape (batch_size) where each element is a label.\n",
    "\n",
    "  :return: a 1D numpy array of shape (batch_size) representing the cross entropy losses.\n",
    "  \"\"\"\n",
    "\n",
    "  batch_size = y.shape[0]\n",
    "  results = torch.zeros(size=(batch_size,1))\n",
    "  for i in range(len(y)):\n",
    "    results[i] = (-torch.log(y_hat[i][y[i]]))\n",
    "  \n",
    "  return results\n",
    "\n",
    "\n",
    "\n",
    "def sgd(params, lr=0.1):\n",
    "  \"\"\"\n",
    "  Implements stochastic gradient descent. For each param, subtract the gradient times the learning rate.\n",
    "  The gradient for each param is stored in param.grad. After updating each param, set its gradient to zero.\n",
    "\n",
    "  :param params: a list of parameters to update.\n",
    "  :param lr: the learning rate.\n",
    "\n",
    "  :return: None\n",
    "  \"\"\"\n",
    "  \n",
    "  with torch.no_grad():\n",
    "    for param in params:\n",
    "      param -= lr * param.grad\n",
    "      param.grad.zero_()\n"
   ]
  },
  {
   "attachments": {},
   "cell_type": "markdown",
   "metadata": {},
   "source": [
    "We finally have all the pieces to train a neural network... except the training loop:\n",
    "\n",
    "```\n",
    "  For every epoch:\n",
    "      For every batch X, y in training dataset:\n",
    "          1. Calculate y_hat from X\n",
    "          2. Calculate the losses between y_hat and y\n",
    "          3. Calculate total loss (the average over all losses)\n",
    "          4. Backpropagate on the loss\n",
    "          5. Update parameters with SGD\n",
    "```\n",
    "\n",
    "1. **TODO:** Implement the training loop.\n",
    "\n",
    "*Hint: Realize that the cross entropy loss we implemented defines loss for a single prediction. The loss over an entire minibatch of size $M$ is actually the average cross entropy loss.*"
   ]
  },
  {
   "cell_type": "code",
   "execution_count": 68,
   "metadata": {},
   "outputs": [],
   "source": [
    "def train(net, params, train_iter, loss_func=cross_entropy, updater=sgd):\n",
    "  \"\"\"\n",
    "  Implements training loop as described in the 5 steps above.\n",
    "\n",
    "  :param net: the neural network.\n",
    "  :param params: the parameters of the neural network.\n",
    "  :param train_iter: the training data iterator.\n",
    "  :param loss_func: the loss function.\n",
    "  :param updater: the function that updates the gradients.\n",
    "\n",
    "  :return: None\n",
    "  \"\"\"\n",
    "  epochs = 10\n",
    "\n",
    "  for epoch in tqdm(range(epochs)):\n",
    "    for X, y in train_iter:\n",
    "      y_hat = net(X)\n",
    "      l = cross_entropy(y_hat, y).mean()\n",
    "      l.backward()\n",
    "      updater(params)"
   ]
  },
  {
   "cell_type": "markdown",
   "metadata": {},
   "source": [
    "We finished! Sure we can use the training loop above, but how will we know if we are succesfully trianing our model? Tracking training progress is crucial in understanding if changes ought to be made regarding hyperparameters or model architecture. Because of this, we expand the above training loop by adding a few lines that track various metrics such as\n",
    "1. average train loss\n",
    "2. average train accuracy\n",
    "3. average test loss\n",
    "4. average test accuracy\n",
    "\n",
    "Note that while this looks much scarier, it can be completely reduced to the much smaller trianing loop above."
   ]
  },
  {
   "cell_type": "code",
   "execution_count": 69,
   "metadata": {},
   "outputs": [],
   "source": [
    "epochs = 10\n",
    "batch_size = 128\n",
    "lr = 0.1\n",
    "train_iter, test_iter, _, _ = load_mnist(batch_size=batch_size)\n",
    "\n",
    "\n",
    "def accuracy(y_hat, y):\n",
    "  with torch.no_grad():\n",
    "    y_labels = y_hat.argmax(axis=1)\n",
    "    correct = y_labels == y\n",
    "    return correct.sum() / correct.numel()\n",
    "\n",
    "\n",
    "def train(net, params, train_iter, test_iter, loss, updater):\n",
    "  train_losses, train_accs = [], []\n",
    "  test_losses, test_accs = [], []\n",
    "  \n",
    "  for epoch in tqdm(range(epochs)):\n",
    "    train_loss, train_acc = 0.0, 0.0\n",
    "    trials = 0\n",
    "\n",
    "    for X, y in train_iter:\n",
    "      trials += 1\n",
    "      y_hat = net(X)\n",
    "      l = sum(loss(y_hat, y)) / len(y)\n",
    "      acc = accuracy(y_hat, y)\n",
    "\n",
    "      l.backward()\n",
    "      updater(params, lr)\n",
    "\n",
    "      train_loss += l\n",
    "      train_acc += acc\n",
    "\n",
    "    train_losses.append(train_loss.item() / trials)\n",
    "    train_accs.append(train_acc.item() / trials)\n",
    "\n",
    "    test_loss, test_acc = 0.0, 0.0\n",
    "    trials = 0\n",
    "\n",
    "    y_pred = []\n",
    "    y_true = []\n",
    "\n",
    "    for X, y in test_iter:\n",
    "      trials += 1\n",
    "      with torch.no_grad():\n",
    "        y_hat = net(X)\n",
    "\n",
    "        # Recording for confusion matrix\n",
    "        if epoch == epochs-1:\n",
    "          y_pred += y_hat.argmax(axis=1)\n",
    "          y_true += y\n",
    "        \n",
    "        l = loss(y_hat, y).mean()\n",
    "        acc = accuracy(y_hat, y)\n",
    "\n",
    "        test_loss += l\n",
    "        test_acc += acc\n",
    "    \n",
    "    test_losses.append(test_loss.item() / trials)\n",
    "    test_accs.append(test_acc.item() / trials)\n",
    "  \n",
    "  return train_losses, train_accs, test_losses, test_accs, y_pred, y_true"
   ]
  },
  {
   "cell_type": "markdown",
   "metadata": {},
   "source": [
    "Now, the fruit of our labor, we can train our from-scratch MLP and plot the training metrics. Great work!"
   ]
  },
  {
   "cell_type": "code",
   "execution_count": 70,
   "metadata": {},
   "outputs": [
    {
     "name": "stderr",
     "output_type": "stream",
     "text": [
      "100%|██████████| 10/10 [00:59<00:00,  5.91s/it]\n"
     ]
    }
   ],
   "source": [
    "train_losses, train_accs, test_losses, test_accs, y_pred, y_true = train(net, params, train_iter, test_iter, loss=cross_entropy, updater=sgd)"
   ]
  },
  {
   "cell_type": "code",
   "execution_count": 71,
   "metadata": {},
   "outputs": [
    {
     "data": {
      "image/svg+xml": "<?xml version=\"1.0\" encoding=\"utf-8\" standalone=\"no\"?>\n<!DOCTYPE svg PUBLIC \"-//W3C//DTD SVG 1.1//EN\"\n  \"http://www.w3.org/Graphics/SVG/1.1/DTD/svg11.dtd\">\n<svg xmlns:xlink=\"http://www.w3.org/1999/xlink\" width=\"397.604375pt\" height=\"314.667469pt\" viewBox=\"0 0 397.604375 314.667469\" xmlns=\"http://www.w3.org/2000/svg\" version=\"1.1\">\n <metadata>\n  <rdf:RDF xmlns:dc=\"http://purl.org/dc/elements/1.1/\" xmlns:cc=\"http://creativecommons.org/ns#\" xmlns:rdf=\"http://www.w3.org/1999/02/22-rdf-syntax-ns#\">\n   <cc:Work>\n    <dc:type rdf:resource=\"http://purl.org/dc/dcmitype/StillImage\"/>\n    <dc:date>2023-03-24T22:00:05.650770</dc:date>\n    <dc:format>image/svg+xml</dc:format>\n    <dc:creator>\n     <cc:Agent>\n      <dc:title>Matplotlib v3.6.3, https://matplotlib.org/</dc:title>\n     </cc:Agent>\n    </dc:creator>\n   </cc:Work>\n  </rdf:RDF>\n </metadata>\n <defs>\n  <style type=\"text/css\">*{stroke-linejoin: round; stroke-linecap: butt}</style>\n </defs>\n <g id=\"figure_1\">\n  <g id=\"patch_1\">\n   <path d=\"M 0 314.667469 \nL 397.604375 314.667469 \nL 397.604375 0 \nL 0 0 \nz\n\" style=\"fill: #ffffff\"/>\n  </g>\n  <g id=\"axes_1\">\n   <g id=\"patch_2\">\n    <path d=\"M 30.103125 277.111219 \nL 387.223125 277.111219 \nL 387.223125 10.999219 \nL 30.103125 10.999219 \nz\n\" style=\"fill: #ffffff\"/>\n   </g>\n   <g id=\"matplotlib.axis_1\">\n    <g id=\"xtick_1\">\n     <g id=\"line2d_1\">\n      <path d=\"M 30.103125 277.111219 \nL 30.103125 10.999219 \n\" clip-path=\"url(#pc2b3d3ea14)\" style=\"fill: none; stroke: #b0b0b0; stroke-width: 0.8; stroke-linecap: square\"/>\n     </g>\n     <g id=\"line2d_2\">\n      <defs>\n       <path id=\"m3c734ca026\" d=\"M 0 0 \nL 0 3.5 \n\" style=\"stroke: #000000; stroke-width: 0.8\"/>\n      </defs>\n      <g>\n       <use xlink:href=\"#m3c734ca026\" x=\"30.103125\" y=\"277.111219\" style=\"stroke: #000000; stroke-width: 0.8\"/>\n      </g>\n     </g>\n     <g id=\"text_1\">\n      <!-- 0 -->\n      <g transform=\"translate(26.921875 291.709656) scale(0.1 -0.1)\">\n       <defs>\n        <path id=\"DejaVuSans-30\" d=\"M 2034 4250 \nQ 1547 4250 1301 3770 \nQ 1056 3291 1056 2328 \nQ 1056 1369 1301 889 \nQ 1547 409 2034 409 \nQ 2525 409 2770 889 \nQ 3016 1369 3016 2328 \nQ 3016 3291 2770 3770 \nQ 2525 4250 2034 4250 \nz\nM 2034 4750 \nQ 2819 4750 3233 4129 \nQ 3647 3509 3647 2328 \nQ 3647 1150 3233 529 \nQ 2819 -91 2034 -91 \nQ 1250 -91 836 529 \nQ 422 1150 422 2328 \nQ 422 3509 836 4129 \nQ 1250 4750 2034 4750 \nz\n\" transform=\"scale(0.015625)\"/>\n       </defs>\n       <use xlink:href=\"#DejaVuSans-30\"/>\n      </g>\n     </g>\n    </g>\n    <g id=\"xtick_2\">\n     <g id=\"line2d_3\">\n      <path d=\"M 69.783125 277.111219 \nL 69.783125 10.999219 \n\" clip-path=\"url(#pc2b3d3ea14)\" style=\"fill: none; stroke: #b0b0b0; stroke-width: 0.8; stroke-linecap: square\"/>\n     </g>\n     <g id=\"line2d_4\">\n      <g>\n       <use xlink:href=\"#m3c734ca026\" x=\"69.783125\" y=\"277.111219\" style=\"stroke: #000000; stroke-width: 0.8\"/>\n      </g>\n     </g>\n     <g id=\"text_2\">\n      <!-- 1 -->\n      <g transform=\"translate(66.601875 291.709656) scale(0.1 -0.1)\">\n       <defs>\n        <path id=\"DejaVuSans-31\" d=\"M 794 531 \nL 1825 531 \nL 1825 4091 \nL 703 3866 \nL 703 4441 \nL 1819 4666 \nL 2450 4666 \nL 2450 531 \nL 3481 531 \nL 3481 0 \nL 794 0 \nL 794 531 \nz\n\" transform=\"scale(0.015625)\"/>\n       </defs>\n       <use xlink:href=\"#DejaVuSans-31\"/>\n      </g>\n     </g>\n    </g>\n    <g id=\"xtick_3\">\n     <g id=\"line2d_5\">\n      <path d=\"M 109.463125 277.111219 \nL 109.463125 10.999219 \n\" clip-path=\"url(#pc2b3d3ea14)\" style=\"fill: none; stroke: #b0b0b0; stroke-width: 0.8; stroke-linecap: square\"/>\n     </g>\n     <g id=\"line2d_6\">\n      <g>\n       <use xlink:href=\"#m3c734ca026\" x=\"109.463125\" y=\"277.111219\" style=\"stroke: #000000; stroke-width: 0.8\"/>\n      </g>\n     </g>\n     <g id=\"text_3\">\n      <!-- 2 -->\n      <g transform=\"translate(106.281875 291.709656) scale(0.1 -0.1)\">\n       <defs>\n        <path id=\"DejaVuSans-32\" d=\"M 1228 531 \nL 3431 531 \nL 3431 0 \nL 469 0 \nL 469 531 \nQ 828 903 1448 1529 \nQ 2069 2156 2228 2338 \nQ 2531 2678 2651 2914 \nQ 2772 3150 2772 3378 \nQ 2772 3750 2511 3984 \nQ 2250 4219 1831 4219 \nQ 1534 4219 1204 4116 \nQ 875 4013 500 3803 \nL 500 4441 \nQ 881 4594 1212 4672 \nQ 1544 4750 1819 4750 \nQ 2544 4750 2975 4387 \nQ 3406 4025 3406 3419 \nQ 3406 3131 3298 2873 \nQ 3191 2616 2906 2266 \nQ 2828 2175 2409 1742 \nQ 1991 1309 1228 531 \nz\n\" transform=\"scale(0.015625)\"/>\n       </defs>\n       <use xlink:href=\"#DejaVuSans-32\"/>\n      </g>\n     </g>\n    </g>\n    <g id=\"xtick_4\">\n     <g id=\"line2d_7\">\n      <path d=\"M 149.143125 277.111219 \nL 149.143125 10.999219 \n\" clip-path=\"url(#pc2b3d3ea14)\" style=\"fill: none; stroke: #b0b0b0; stroke-width: 0.8; stroke-linecap: square\"/>\n     </g>\n     <g id=\"line2d_8\">\n      <g>\n       <use xlink:href=\"#m3c734ca026\" x=\"149.143125\" y=\"277.111219\" style=\"stroke: #000000; stroke-width: 0.8\"/>\n      </g>\n     </g>\n     <g id=\"text_4\">\n      <!-- 3 -->\n      <g transform=\"translate(145.961875 291.709656) scale(0.1 -0.1)\">\n       <defs>\n        <path id=\"DejaVuSans-33\" d=\"M 2597 2516 \nQ 3050 2419 3304 2112 \nQ 3559 1806 3559 1356 \nQ 3559 666 3084 287 \nQ 2609 -91 1734 -91 \nQ 1441 -91 1130 -33 \nQ 819 25 488 141 \nL 488 750 \nQ 750 597 1062 519 \nQ 1375 441 1716 441 \nQ 2309 441 2620 675 \nQ 2931 909 2931 1356 \nQ 2931 1769 2642 2001 \nQ 2353 2234 1838 2234 \nL 1294 2234 \nL 1294 2753 \nL 1863 2753 \nQ 2328 2753 2575 2939 \nQ 2822 3125 2822 3475 \nQ 2822 3834 2567 4026 \nQ 2313 4219 1838 4219 \nQ 1578 4219 1281 4162 \nQ 984 4106 628 3988 \nL 628 4550 \nQ 988 4650 1302 4700 \nQ 1616 4750 1894 4750 \nQ 2613 4750 3031 4423 \nQ 3450 4097 3450 3541 \nQ 3450 3153 3228 2886 \nQ 3006 2619 2597 2516 \nz\n\" transform=\"scale(0.015625)\"/>\n       </defs>\n       <use xlink:href=\"#DejaVuSans-33\"/>\n      </g>\n     </g>\n    </g>\n    <g id=\"xtick_5\">\n     <g id=\"line2d_9\">\n      <path d=\"M 188.823125 277.111219 \nL 188.823125 10.999219 \n\" clip-path=\"url(#pc2b3d3ea14)\" style=\"fill: none; stroke: #b0b0b0; stroke-width: 0.8; stroke-linecap: square\"/>\n     </g>\n     <g id=\"line2d_10\">\n      <g>\n       <use xlink:href=\"#m3c734ca026\" x=\"188.823125\" y=\"277.111219\" style=\"stroke: #000000; stroke-width: 0.8\"/>\n      </g>\n     </g>\n     <g id=\"text_5\">\n      <!-- 4 -->\n      <g transform=\"translate(185.641875 291.709656) scale(0.1 -0.1)\">\n       <defs>\n        <path id=\"DejaVuSans-34\" d=\"M 2419 4116 \nL 825 1625 \nL 2419 1625 \nL 2419 4116 \nz\nM 2253 4666 \nL 3047 4666 \nL 3047 1625 \nL 3713 1625 \nL 3713 1100 \nL 3047 1100 \nL 3047 0 \nL 2419 0 \nL 2419 1100 \nL 313 1100 \nL 313 1709 \nL 2253 4666 \nz\n\" transform=\"scale(0.015625)\"/>\n       </defs>\n       <use xlink:href=\"#DejaVuSans-34\"/>\n      </g>\n     </g>\n    </g>\n    <g id=\"xtick_6\">\n     <g id=\"line2d_11\">\n      <path d=\"M 228.503125 277.111219 \nL 228.503125 10.999219 \n\" clip-path=\"url(#pc2b3d3ea14)\" style=\"fill: none; stroke: #b0b0b0; stroke-width: 0.8; stroke-linecap: square\"/>\n     </g>\n     <g id=\"line2d_12\">\n      <g>\n       <use xlink:href=\"#m3c734ca026\" x=\"228.503125\" y=\"277.111219\" style=\"stroke: #000000; stroke-width: 0.8\"/>\n      </g>\n     </g>\n     <g id=\"text_6\">\n      <!-- 5 -->\n      <g transform=\"translate(225.321875 291.709656) scale(0.1 -0.1)\">\n       <defs>\n        <path id=\"DejaVuSans-35\" d=\"M 691 4666 \nL 3169 4666 \nL 3169 4134 \nL 1269 4134 \nL 1269 2991 \nQ 1406 3038 1543 3061 \nQ 1681 3084 1819 3084 \nQ 2600 3084 3056 2656 \nQ 3513 2228 3513 1497 \nQ 3513 744 3044 326 \nQ 2575 -91 1722 -91 \nQ 1428 -91 1123 -41 \nQ 819 9 494 109 \nL 494 744 \nQ 775 591 1075 516 \nQ 1375 441 1709 441 \nQ 2250 441 2565 725 \nQ 2881 1009 2881 1497 \nQ 2881 1984 2565 2268 \nQ 2250 2553 1709 2553 \nQ 1456 2553 1204 2497 \nQ 953 2441 691 2322 \nL 691 4666 \nz\n\" transform=\"scale(0.015625)\"/>\n       </defs>\n       <use xlink:href=\"#DejaVuSans-35\"/>\n      </g>\n     </g>\n    </g>\n    <g id=\"xtick_7\">\n     <g id=\"line2d_13\">\n      <path d=\"M 268.183125 277.111219 \nL 268.183125 10.999219 \n\" clip-path=\"url(#pc2b3d3ea14)\" style=\"fill: none; stroke: #b0b0b0; stroke-width: 0.8; stroke-linecap: square\"/>\n     </g>\n     <g id=\"line2d_14\">\n      <g>\n       <use xlink:href=\"#m3c734ca026\" x=\"268.183125\" y=\"277.111219\" style=\"stroke: #000000; stroke-width: 0.8\"/>\n      </g>\n     </g>\n     <g id=\"text_7\">\n      <!-- 6 -->\n      <g transform=\"translate(265.001875 291.709656) scale(0.1 -0.1)\">\n       <defs>\n        <path id=\"DejaVuSans-36\" d=\"M 2113 2584 \nQ 1688 2584 1439 2293 \nQ 1191 2003 1191 1497 \nQ 1191 994 1439 701 \nQ 1688 409 2113 409 \nQ 2538 409 2786 701 \nQ 3034 994 3034 1497 \nQ 3034 2003 2786 2293 \nQ 2538 2584 2113 2584 \nz\nM 3366 4563 \nL 3366 3988 \nQ 3128 4100 2886 4159 \nQ 2644 4219 2406 4219 \nQ 1781 4219 1451 3797 \nQ 1122 3375 1075 2522 \nQ 1259 2794 1537 2939 \nQ 1816 3084 2150 3084 \nQ 2853 3084 3261 2657 \nQ 3669 2231 3669 1497 \nQ 3669 778 3244 343 \nQ 2819 -91 2113 -91 \nQ 1303 -91 875 529 \nQ 447 1150 447 2328 \nQ 447 3434 972 4092 \nQ 1497 4750 2381 4750 \nQ 2619 4750 2861 4703 \nQ 3103 4656 3366 4563 \nz\n\" transform=\"scale(0.015625)\"/>\n       </defs>\n       <use xlink:href=\"#DejaVuSans-36\"/>\n      </g>\n     </g>\n    </g>\n    <g id=\"xtick_8\">\n     <g id=\"line2d_15\">\n      <path d=\"M 307.863125 277.111219 \nL 307.863125 10.999219 \n\" clip-path=\"url(#pc2b3d3ea14)\" style=\"fill: none; stroke: #b0b0b0; stroke-width: 0.8; stroke-linecap: square\"/>\n     </g>\n     <g id=\"line2d_16\">\n      <g>\n       <use xlink:href=\"#m3c734ca026\" x=\"307.863125\" y=\"277.111219\" style=\"stroke: #000000; stroke-width: 0.8\"/>\n      </g>\n     </g>\n     <g id=\"text_8\">\n      <!-- 7 -->\n      <g transform=\"translate(304.681875 291.709656) scale(0.1 -0.1)\">\n       <defs>\n        <path id=\"DejaVuSans-37\" d=\"M 525 4666 \nL 3525 4666 \nL 3525 4397 \nL 1831 0 \nL 1172 0 \nL 2766 4134 \nL 525 4134 \nL 525 4666 \nz\n\" transform=\"scale(0.015625)\"/>\n       </defs>\n       <use xlink:href=\"#DejaVuSans-37\"/>\n      </g>\n     </g>\n    </g>\n    <g id=\"xtick_9\">\n     <g id=\"line2d_17\">\n      <path d=\"M 347.543125 277.111219 \nL 347.543125 10.999219 \n\" clip-path=\"url(#pc2b3d3ea14)\" style=\"fill: none; stroke: #b0b0b0; stroke-width: 0.8; stroke-linecap: square\"/>\n     </g>\n     <g id=\"line2d_18\">\n      <g>\n       <use xlink:href=\"#m3c734ca026\" x=\"347.543125\" y=\"277.111219\" style=\"stroke: #000000; stroke-width: 0.8\"/>\n      </g>\n     </g>\n     <g id=\"text_9\">\n      <!-- 8 -->\n      <g transform=\"translate(344.361875 291.709656) scale(0.1 -0.1)\">\n       <defs>\n        <path id=\"DejaVuSans-38\" d=\"M 2034 2216 \nQ 1584 2216 1326 1975 \nQ 1069 1734 1069 1313 \nQ 1069 891 1326 650 \nQ 1584 409 2034 409 \nQ 2484 409 2743 651 \nQ 3003 894 3003 1313 \nQ 3003 1734 2745 1975 \nQ 2488 2216 2034 2216 \nz\nM 1403 2484 \nQ 997 2584 770 2862 \nQ 544 3141 544 3541 \nQ 544 4100 942 4425 \nQ 1341 4750 2034 4750 \nQ 2731 4750 3128 4425 \nQ 3525 4100 3525 3541 \nQ 3525 3141 3298 2862 \nQ 3072 2584 2669 2484 \nQ 3125 2378 3379 2068 \nQ 3634 1759 3634 1313 \nQ 3634 634 3220 271 \nQ 2806 -91 2034 -91 \nQ 1263 -91 848 271 \nQ 434 634 434 1313 \nQ 434 1759 690 2068 \nQ 947 2378 1403 2484 \nz\nM 1172 3481 \nQ 1172 3119 1398 2916 \nQ 1625 2713 2034 2713 \nQ 2441 2713 2670 2916 \nQ 2900 3119 2900 3481 \nQ 2900 3844 2670 4047 \nQ 2441 4250 2034 4250 \nQ 1625 4250 1398 4047 \nQ 1172 3844 1172 3481 \nz\n\" transform=\"scale(0.015625)\"/>\n       </defs>\n       <use xlink:href=\"#DejaVuSans-38\"/>\n      </g>\n     </g>\n    </g>\n    <g id=\"xtick_10\">\n     <g id=\"line2d_19\">\n      <path d=\"M 387.223125 277.111219 \nL 387.223125 10.999219 \n\" clip-path=\"url(#pc2b3d3ea14)\" style=\"fill: none; stroke: #b0b0b0; stroke-width: 0.8; stroke-linecap: square\"/>\n     </g>\n     <g id=\"line2d_20\">\n      <g>\n       <use xlink:href=\"#m3c734ca026\" x=\"387.223125\" y=\"277.111219\" style=\"stroke: #000000; stroke-width: 0.8\"/>\n      </g>\n     </g>\n     <g id=\"text_10\">\n      <!-- 9 -->\n      <g transform=\"translate(384.041875 291.709656) scale(0.1 -0.1)\">\n       <defs>\n        <path id=\"DejaVuSans-39\" d=\"M 703 97 \nL 703 672 \nQ 941 559 1184 500 \nQ 1428 441 1663 441 \nQ 2288 441 2617 861 \nQ 2947 1281 2994 2138 \nQ 2813 1869 2534 1725 \nQ 2256 1581 1919 1581 \nQ 1219 1581 811 2004 \nQ 403 2428 403 3163 \nQ 403 3881 828 4315 \nQ 1253 4750 1959 4750 \nQ 2769 4750 3195 4129 \nQ 3622 3509 3622 2328 \nQ 3622 1225 3098 567 \nQ 2575 -91 1691 -91 \nQ 1453 -91 1209 -44 \nQ 966 3 703 97 \nz\nM 1959 2075 \nQ 2384 2075 2632 2365 \nQ 2881 2656 2881 3163 \nQ 2881 3666 2632 3958 \nQ 2384 4250 1959 4250 \nQ 1534 4250 1286 3958 \nQ 1038 3666 1038 3163 \nQ 1038 2656 1286 2365 \nQ 1534 2075 1959 2075 \nz\n\" transform=\"scale(0.015625)\"/>\n       </defs>\n       <use xlink:href=\"#DejaVuSans-39\"/>\n      </g>\n     </g>\n    </g>\n    <g id=\"text_11\">\n     <!-- epoch -->\n     <g transform=\"translate(193.435 305.387781) scale(0.1 -0.1)\">\n      <defs>\n       <path id=\"DejaVuSans-65\" d=\"M 3597 1894 \nL 3597 1613 \nL 953 1613 \nQ 991 1019 1311 708 \nQ 1631 397 2203 397 \nQ 2534 397 2845 478 \nQ 3156 559 3463 722 \nL 3463 178 \nQ 3153 47 2828 -22 \nQ 2503 -91 2169 -91 \nQ 1331 -91 842 396 \nQ 353 884 353 1716 \nQ 353 2575 817 3079 \nQ 1281 3584 2069 3584 \nQ 2775 3584 3186 3129 \nQ 3597 2675 3597 1894 \nz\nM 3022 2063 \nQ 3016 2534 2758 2815 \nQ 2500 3097 2075 3097 \nQ 1594 3097 1305 2825 \nQ 1016 2553 972 2059 \nL 3022 2063 \nz\n\" transform=\"scale(0.015625)\"/>\n       <path id=\"DejaVuSans-70\" d=\"M 1159 525 \nL 1159 -1331 \nL 581 -1331 \nL 581 3500 \nL 1159 3500 \nL 1159 2969 \nQ 1341 3281 1617 3432 \nQ 1894 3584 2278 3584 \nQ 2916 3584 3314 3078 \nQ 3713 2572 3713 1747 \nQ 3713 922 3314 415 \nQ 2916 -91 2278 -91 \nQ 1894 -91 1617 61 \nQ 1341 213 1159 525 \nz\nM 3116 1747 \nQ 3116 2381 2855 2742 \nQ 2594 3103 2138 3103 \nQ 1681 3103 1420 2742 \nQ 1159 2381 1159 1747 \nQ 1159 1113 1420 752 \nQ 1681 391 2138 391 \nQ 2594 391 2855 752 \nQ 3116 1113 3116 1747 \nz\n\" transform=\"scale(0.015625)\"/>\n       <path id=\"DejaVuSans-6f\" d=\"M 1959 3097 \nQ 1497 3097 1228 2736 \nQ 959 2375 959 1747 \nQ 959 1119 1226 758 \nQ 1494 397 1959 397 \nQ 2419 397 2687 759 \nQ 2956 1122 2956 1747 \nQ 2956 2369 2687 2733 \nQ 2419 3097 1959 3097 \nz\nM 1959 3584 \nQ 2709 3584 3137 3096 \nQ 3566 2609 3566 1747 \nQ 3566 888 3137 398 \nQ 2709 -91 1959 -91 \nQ 1206 -91 779 398 \nQ 353 888 353 1747 \nQ 353 2609 779 3096 \nQ 1206 3584 1959 3584 \nz\n\" transform=\"scale(0.015625)\"/>\n       <path id=\"DejaVuSans-63\" d=\"M 3122 3366 \nL 3122 2828 \nQ 2878 2963 2633 3030 \nQ 2388 3097 2138 3097 \nQ 1578 3097 1268 2742 \nQ 959 2388 959 1747 \nQ 959 1106 1268 751 \nQ 1578 397 2138 397 \nQ 2388 397 2633 464 \nQ 2878 531 3122 666 \nL 3122 134 \nQ 2881 22 2623 -34 \nQ 2366 -91 2075 -91 \nQ 1284 -91 818 406 \nQ 353 903 353 1747 \nQ 353 2603 823 3093 \nQ 1294 3584 2113 3584 \nQ 2378 3584 2631 3529 \nQ 2884 3475 3122 3366 \nz\n\" transform=\"scale(0.015625)\"/>\n       <path id=\"DejaVuSans-68\" d=\"M 3513 2113 \nL 3513 0 \nL 2938 0 \nL 2938 2094 \nQ 2938 2591 2744 2837 \nQ 2550 3084 2163 3084 \nQ 1697 3084 1428 2787 \nQ 1159 2491 1159 1978 \nL 1159 0 \nL 581 0 \nL 581 4863 \nL 1159 4863 \nL 1159 2956 \nQ 1366 3272 1645 3428 \nQ 1925 3584 2291 3584 \nQ 2894 3584 3203 3211 \nQ 3513 2838 3513 2113 \nz\n\" transform=\"scale(0.015625)\"/>\n      </defs>\n      <use xlink:href=\"#DejaVuSans-65\"/>\n      <use xlink:href=\"#DejaVuSans-70\" x=\"61.523438\"/>\n      <use xlink:href=\"#DejaVuSans-6f\" x=\"125\"/>\n      <use xlink:href=\"#DejaVuSans-63\" x=\"186.181641\"/>\n      <use xlink:href=\"#DejaVuSans-68\" x=\"241.162109\"/>\n     </g>\n    </g>\n   </g>\n   <g id=\"matplotlib.axis_2\">\n    <g id=\"ytick_1\">\n     <g id=\"line2d_21\">\n      <path d=\"M 30.103125 277.111219 \nL 387.223125 277.111219 \n\" clip-path=\"url(#pc2b3d3ea14)\" style=\"fill: none; stroke: #b0b0b0; stroke-width: 0.8; stroke-linecap: square\"/>\n     </g>\n     <g id=\"line2d_22\">\n      <defs>\n       <path id=\"mf8b266f7dc\" d=\"M 0 0 \nL -3.5 0 \n\" style=\"stroke: #000000; stroke-width: 0.8\"/>\n      </defs>\n      <g>\n       <use xlink:href=\"#mf8b266f7dc\" x=\"30.103125\" y=\"277.111219\" style=\"stroke: #000000; stroke-width: 0.8\"/>\n      </g>\n     </g>\n     <g id=\"text_12\">\n      <!-- 0.0 -->\n      <g transform=\"translate(7.2 280.910437) scale(0.1 -0.1)\">\n       <defs>\n        <path id=\"DejaVuSans-2e\" d=\"M 684 794 \nL 1344 794 \nL 1344 0 \nL 684 0 \nL 684 794 \nz\n\" transform=\"scale(0.015625)\"/>\n       </defs>\n       <use xlink:href=\"#DejaVuSans-30\"/>\n       <use xlink:href=\"#DejaVuSans-2e\" x=\"63.623047\"/>\n       <use xlink:href=\"#DejaVuSans-30\" x=\"95.410156\"/>\n      </g>\n     </g>\n    </g>\n    <g id=\"ytick_2\">\n     <g id=\"line2d_23\">\n      <path d=\"M 30.103125 223.888819 \nL 387.223125 223.888819 \n\" clip-path=\"url(#pc2b3d3ea14)\" style=\"fill: none; stroke: #b0b0b0; stroke-width: 0.8; stroke-linecap: square\"/>\n     </g>\n     <g id=\"line2d_24\">\n      <g>\n       <use xlink:href=\"#mf8b266f7dc\" x=\"30.103125\" y=\"223.888819\" style=\"stroke: #000000; stroke-width: 0.8\"/>\n      </g>\n     </g>\n     <g id=\"text_13\">\n      <!-- 0.2 -->\n      <g transform=\"translate(7.2 227.688037) scale(0.1 -0.1)\">\n       <use xlink:href=\"#DejaVuSans-30\"/>\n       <use xlink:href=\"#DejaVuSans-2e\" x=\"63.623047\"/>\n       <use xlink:href=\"#DejaVuSans-32\" x=\"95.410156\"/>\n      </g>\n     </g>\n    </g>\n    <g id=\"ytick_3\">\n     <g id=\"line2d_25\">\n      <path d=\"M 30.103125 170.666419 \nL 387.223125 170.666419 \n\" clip-path=\"url(#pc2b3d3ea14)\" style=\"fill: none; stroke: #b0b0b0; stroke-width: 0.8; stroke-linecap: square\"/>\n     </g>\n     <g id=\"line2d_26\">\n      <g>\n       <use xlink:href=\"#mf8b266f7dc\" x=\"30.103125\" y=\"170.666419\" style=\"stroke: #000000; stroke-width: 0.8\"/>\n      </g>\n     </g>\n     <g id=\"text_14\">\n      <!-- 0.4 -->\n      <g transform=\"translate(7.2 174.465637) scale(0.1 -0.1)\">\n       <use xlink:href=\"#DejaVuSans-30\"/>\n       <use xlink:href=\"#DejaVuSans-2e\" x=\"63.623047\"/>\n       <use xlink:href=\"#DejaVuSans-34\" x=\"95.410156\"/>\n      </g>\n     </g>\n    </g>\n    <g id=\"ytick_4\">\n     <g id=\"line2d_27\">\n      <path d=\"M 30.103125 117.444019 \nL 387.223125 117.444019 \n\" clip-path=\"url(#pc2b3d3ea14)\" style=\"fill: none; stroke: #b0b0b0; stroke-width: 0.8; stroke-linecap: square\"/>\n     </g>\n     <g id=\"line2d_28\">\n      <g>\n       <use xlink:href=\"#mf8b266f7dc\" x=\"30.103125\" y=\"117.444019\" style=\"stroke: #000000; stroke-width: 0.8\"/>\n      </g>\n     </g>\n     <g id=\"text_15\">\n      <!-- 0.6 -->\n      <g transform=\"translate(7.2 121.243237) scale(0.1 -0.1)\">\n       <use xlink:href=\"#DejaVuSans-30\"/>\n       <use xlink:href=\"#DejaVuSans-2e\" x=\"63.623047\"/>\n       <use xlink:href=\"#DejaVuSans-36\" x=\"95.410156\"/>\n      </g>\n     </g>\n    </g>\n    <g id=\"ytick_5\">\n     <g id=\"line2d_29\">\n      <path d=\"M 30.103125 64.221619 \nL 387.223125 64.221619 \n\" clip-path=\"url(#pc2b3d3ea14)\" style=\"fill: none; stroke: #b0b0b0; stroke-width: 0.8; stroke-linecap: square\"/>\n     </g>\n     <g id=\"line2d_30\">\n      <g>\n       <use xlink:href=\"#mf8b266f7dc\" x=\"30.103125\" y=\"64.221619\" style=\"stroke: #000000; stroke-width: 0.8\"/>\n      </g>\n     </g>\n     <g id=\"text_16\">\n      <!-- 0.8 -->\n      <g transform=\"translate(7.2 68.020837) scale(0.1 -0.1)\">\n       <use xlink:href=\"#DejaVuSans-30\"/>\n       <use xlink:href=\"#DejaVuSans-2e\" x=\"63.623047\"/>\n       <use xlink:href=\"#DejaVuSans-38\" x=\"95.410156\"/>\n      </g>\n     </g>\n    </g>\n    <g id=\"ytick_6\">\n     <g id=\"line2d_31\">\n      <path d=\"M 30.103125 10.999219 \nL 387.223125 10.999219 \n\" clip-path=\"url(#pc2b3d3ea14)\" style=\"fill: none; stroke: #b0b0b0; stroke-width: 0.8; stroke-linecap: square\"/>\n     </g>\n     <g id=\"line2d_32\">\n      <g>\n       <use xlink:href=\"#mf8b266f7dc\" x=\"30.103125\" y=\"10.999219\" style=\"stroke: #000000; stroke-width: 0.8\"/>\n      </g>\n     </g>\n     <g id=\"text_17\">\n      <!-- 1.0 -->\n      <g transform=\"translate(7.2 14.798437) scale(0.1 -0.1)\">\n       <use xlink:href=\"#DejaVuSans-31\"/>\n       <use xlink:href=\"#DejaVuSans-2e\" x=\"63.623047\"/>\n       <use xlink:href=\"#DejaVuSans-30\" x=\"95.410156\"/>\n      </g>\n     </g>\n    </g>\n   </g>\n   <g id=\"line2d_33\">\n    <path d=\"M 30.103125 100.752352 \nL 69.783125 189.531283 \nL 109.463125 195.982306 \nL 149.143125 199.045119 \nL 188.823125 201.139919 \nL 228.503125 202.296578 \nL 268.183125 203.459305 \nL 307.863125 204.285518 \nL 347.543125 205.035023 \nL 387.223125 205.712874 \n\" clip-path=\"url(#pc2b3d3ea14)\" style=\"fill: none; stroke: #dc143c; stroke-width: 1.5; stroke-linecap: square\"/>\n   </g>\n   <g id=\"line2d_34\">\n    <path d=\"M 30.103125 53.888377 \nL 69.783125 35.957556 \nL 109.463125 34.033706 \nL 149.143125 32.940284 \nL 188.823125 32.408344 \nL 228.503125 31.962099 \nL 268.183125 31.728631 \nL 307.863125 31.328204 \nL 347.543125 31.211478 \nL 387.223125 30.765234 \n\" clip-path=\"url(#pc2b3d3ea14)\" style=\"fill: none; stroke-dasharray: 5.55,2.4; stroke-dashoffset: 0; stroke: #dc143c; stroke-width: 1.5\"/>\n   </g>\n   <g id=\"line2d_35\">\n    <path d=\"M 30.103125 188.617735 \nL 69.783125 197.705021 \nL 109.463125 199.009144 \nL 149.143125 202.199731 \nL 188.823125 199.882361 \nL 228.503125 203.554399 \nL 268.183125 204.670979 \nL 307.863125 204.278455 \nL 347.543125 204.055928 \nL 387.223125 205.855997 \n\" clip-path=\"url(#pc2b3d3ea14)\" style=\"fill: none; stroke: #000080; stroke-width: 1.5; stroke-linecap: square\"/>\n   </g>\n   <g id=\"line2d_36\">\n    <path d=\"M 30.103125 36.368282 \nL 69.783125 33.499788 \nL 109.463125 33.315573 \nL 149.143125 31.762902 \nL 188.823125 32.368181 \nL 228.503125 32.157649 \nL 268.183125 31.447105 \nL 307.863125 31.473421 \nL 347.543125 31.473421 \nL 387.223125 31.394472 \n\" clip-path=\"url(#pc2b3d3ea14)\" style=\"fill: none; stroke-dasharray: 5.55,2.4; stroke-dashoffset: 0; stroke: #000080; stroke-width: 1.5\"/>\n   </g>\n   <g id=\"patch_3\">\n    <path d=\"M 30.103125 277.111219 \nL 30.103125 10.999219 \n\" style=\"fill: none; stroke: #000000; stroke-width: 0.8; stroke-linejoin: miter; stroke-linecap: square\"/>\n   </g>\n   <g id=\"patch_4\">\n    <path d=\"M 387.223125 277.111219 \nL 387.223125 10.999219 \n\" style=\"fill: none; stroke: #000000; stroke-width: 0.8; stroke-linejoin: miter; stroke-linecap: square\"/>\n   </g>\n   <g id=\"patch_5\">\n    <path d=\"M 30.103125 277.111219 \nL 387.223125 277.111219 \n\" style=\"fill: none; stroke: #000000; stroke-width: 0.8; stroke-linejoin: miter; stroke-linecap: square\"/>\n   </g>\n   <g id=\"patch_6\">\n    <path d=\"M 30.103125 10.999219 \nL 387.223125 10.999219 \n\" style=\"fill: none; stroke: #000000; stroke-width: 0.8; stroke-linejoin: miter; stroke-linecap: square\"/>\n   </g>\n   <g id=\"legend_1\">\n    <g id=\"patch_7\">\n     <path d=\"M 37.103125 272.111219 \nL 114.871875 272.111219 \nQ 116.871875 272.111219 116.871875 270.111219 \nL 116.871875 212.398719 \nQ 116.871875 210.398719 114.871875 210.398719 \nL 37.103125 210.398719 \nQ 35.103125 210.398719 35.103125 212.398719 \nL 35.103125 270.111219 \nQ 35.103125 272.111219 37.103125 272.111219 \nz\n\" style=\"fill: #ffffff; opacity: 0.8; stroke: #cccccc; stroke-linejoin: miter\"/>\n    </g>\n    <g id=\"line2d_37\">\n     <path d=\"M 39.103125 218.497156 \nL 49.103125 218.497156 \nL 59.103125 218.497156 \n\" style=\"fill: none; stroke: #dc143c; stroke-width: 1.5; stroke-linecap: square\"/>\n    </g>\n    <g id=\"text_18\">\n     <!-- train loss -->\n     <g transform=\"translate(67.103125 221.997156) scale(0.1 -0.1)\">\n      <defs>\n       <path id=\"DejaVuSans-74\" d=\"M 1172 4494 \nL 1172 3500 \nL 2356 3500 \nL 2356 3053 \nL 1172 3053 \nL 1172 1153 \nQ 1172 725 1289 603 \nQ 1406 481 1766 481 \nL 2356 481 \nL 2356 0 \nL 1766 0 \nQ 1100 0 847 248 \nQ 594 497 594 1153 \nL 594 3053 \nL 172 3053 \nL 172 3500 \nL 594 3500 \nL 594 4494 \nL 1172 4494 \nz\n\" transform=\"scale(0.015625)\"/>\n       <path id=\"DejaVuSans-72\" d=\"M 2631 2963 \nQ 2534 3019 2420 3045 \nQ 2306 3072 2169 3072 \nQ 1681 3072 1420 2755 \nQ 1159 2438 1159 1844 \nL 1159 0 \nL 581 0 \nL 581 3500 \nL 1159 3500 \nL 1159 2956 \nQ 1341 3275 1631 3429 \nQ 1922 3584 2338 3584 \nQ 2397 3584 2469 3576 \nQ 2541 3569 2628 3553 \nL 2631 2963 \nz\n\" transform=\"scale(0.015625)\"/>\n       <path id=\"DejaVuSans-61\" d=\"M 2194 1759 \nQ 1497 1759 1228 1600 \nQ 959 1441 959 1056 \nQ 959 750 1161 570 \nQ 1363 391 1709 391 \nQ 2188 391 2477 730 \nQ 2766 1069 2766 1631 \nL 2766 1759 \nL 2194 1759 \nz\nM 3341 1997 \nL 3341 0 \nL 2766 0 \nL 2766 531 \nQ 2569 213 2275 61 \nQ 1981 -91 1556 -91 \nQ 1019 -91 701 211 \nQ 384 513 384 1019 \nQ 384 1609 779 1909 \nQ 1175 2209 1959 2209 \nL 2766 2209 \nL 2766 2266 \nQ 2766 2663 2505 2880 \nQ 2244 3097 1772 3097 \nQ 1472 3097 1187 3025 \nQ 903 2953 641 2809 \nL 641 3341 \nQ 956 3463 1253 3523 \nQ 1550 3584 1831 3584 \nQ 2591 3584 2966 3190 \nQ 3341 2797 3341 1997 \nz\n\" transform=\"scale(0.015625)\"/>\n       <path id=\"DejaVuSans-69\" d=\"M 603 3500 \nL 1178 3500 \nL 1178 0 \nL 603 0 \nL 603 3500 \nz\nM 603 4863 \nL 1178 4863 \nL 1178 4134 \nL 603 4134 \nL 603 4863 \nz\n\" transform=\"scale(0.015625)\"/>\n       <path id=\"DejaVuSans-6e\" d=\"M 3513 2113 \nL 3513 0 \nL 2938 0 \nL 2938 2094 \nQ 2938 2591 2744 2837 \nQ 2550 3084 2163 3084 \nQ 1697 3084 1428 2787 \nQ 1159 2491 1159 1978 \nL 1159 0 \nL 581 0 \nL 581 3500 \nL 1159 3500 \nL 1159 2956 \nQ 1366 3272 1645 3428 \nQ 1925 3584 2291 3584 \nQ 2894 3584 3203 3211 \nQ 3513 2838 3513 2113 \nz\n\" transform=\"scale(0.015625)\"/>\n       <path id=\"DejaVuSans-20\" transform=\"scale(0.015625)\"/>\n       <path id=\"DejaVuSans-6c\" d=\"M 603 4863 \nL 1178 4863 \nL 1178 0 \nL 603 0 \nL 603 4863 \nz\n\" transform=\"scale(0.015625)\"/>\n       <path id=\"DejaVuSans-73\" d=\"M 2834 3397 \nL 2834 2853 \nQ 2591 2978 2328 3040 \nQ 2066 3103 1784 3103 \nQ 1356 3103 1142 2972 \nQ 928 2841 928 2578 \nQ 928 2378 1081 2264 \nQ 1234 2150 1697 2047 \nL 1894 2003 \nQ 2506 1872 2764 1633 \nQ 3022 1394 3022 966 \nQ 3022 478 2636 193 \nQ 2250 -91 1575 -91 \nQ 1294 -91 989 -36 \nQ 684 19 347 128 \nL 347 722 \nQ 666 556 975 473 \nQ 1284 391 1588 391 \nQ 1994 391 2212 530 \nQ 2431 669 2431 922 \nQ 2431 1156 2273 1281 \nQ 2116 1406 1581 1522 \nL 1381 1569 \nQ 847 1681 609 1914 \nQ 372 2147 372 2553 \nQ 372 3047 722 3315 \nQ 1072 3584 1716 3584 \nQ 2034 3584 2315 3537 \nQ 2597 3491 2834 3397 \nz\n\" transform=\"scale(0.015625)\"/>\n      </defs>\n      <use xlink:href=\"#DejaVuSans-74\"/>\n      <use xlink:href=\"#DejaVuSans-72\" x=\"39.208984\"/>\n      <use xlink:href=\"#DejaVuSans-61\" x=\"80.322266\"/>\n      <use xlink:href=\"#DejaVuSans-69\" x=\"141.601562\"/>\n      <use xlink:href=\"#DejaVuSans-6e\" x=\"169.384766\"/>\n      <use xlink:href=\"#DejaVuSans-20\" x=\"232.763672\"/>\n      <use xlink:href=\"#DejaVuSans-6c\" x=\"264.550781\"/>\n      <use xlink:href=\"#DejaVuSans-6f\" x=\"292.333984\"/>\n      <use xlink:href=\"#DejaVuSans-73\" x=\"353.515625\"/>\n      <use xlink:href=\"#DejaVuSans-73\" x=\"405.615234\"/>\n     </g>\n    </g>\n    <g id=\"line2d_38\">\n     <path d=\"M 39.103125 233.175281 \nL 49.103125 233.175281 \nL 59.103125 233.175281 \n\" style=\"fill: none; stroke-dasharray: 5.55,2.4; stroke-dashoffset: 0; stroke: #dc143c; stroke-width: 1.5\"/>\n    </g>\n    <g id=\"text_19\">\n     <!-- train acc -->\n     <g transform=\"translate(67.103125 236.675281) scale(0.1 -0.1)\">\n      <use xlink:href=\"#DejaVuSans-74\"/>\n      <use xlink:href=\"#DejaVuSans-72\" x=\"39.208984\"/>\n      <use xlink:href=\"#DejaVuSans-61\" x=\"80.322266\"/>\n      <use xlink:href=\"#DejaVuSans-69\" x=\"141.601562\"/>\n      <use xlink:href=\"#DejaVuSans-6e\" x=\"169.384766\"/>\n      <use xlink:href=\"#DejaVuSans-20\" x=\"232.763672\"/>\n      <use xlink:href=\"#DejaVuSans-61\" x=\"264.550781\"/>\n      <use xlink:href=\"#DejaVuSans-63\" x=\"325.830078\"/>\n      <use xlink:href=\"#DejaVuSans-63\" x=\"380.810547\"/>\n     </g>\n    </g>\n    <g id=\"line2d_39\">\n     <path d=\"M 39.103125 247.853406 \nL 49.103125 247.853406 \nL 59.103125 247.853406 \n\" style=\"fill: none; stroke: #000080; stroke-width: 1.5; stroke-linecap: square\"/>\n    </g>\n    <g id=\"text_20\">\n     <!-- test loss -->\n     <g transform=\"translate(67.103125 251.353406) scale(0.1 -0.1)\">\n      <use xlink:href=\"#DejaVuSans-74\"/>\n      <use xlink:href=\"#DejaVuSans-65\" x=\"39.208984\"/>\n      <use xlink:href=\"#DejaVuSans-73\" x=\"100.732422\"/>\n      <use xlink:href=\"#DejaVuSans-74\" x=\"152.832031\"/>\n      <use xlink:href=\"#DejaVuSans-20\" x=\"192.041016\"/>\n      <use xlink:href=\"#DejaVuSans-6c\" x=\"223.828125\"/>\n      <use xlink:href=\"#DejaVuSans-6f\" x=\"251.611328\"/>\n      <use xlink:href=\"#DejaVuSans-73\" x=\"312.792969\"/>\n      <use xlink:href=\"#DejaVuSans-73\" x=\"364.892578\"/>\n     </g>\n    </g>\n    <g id=\"line2d_40\">\n     <path d=\"M 39.103125 262.531531 \nL 49.103125 262.531531 \nL 59.103125 262.531531 \n\" style=\"fill: none; stroke-dasharray: 5.55,2.4; stroke-dashoffset: 0; stroke: #000080; stroke-width: 1.5\"/>\n    </g>\n    <g id=\"text_21\">\n     <!-- test acc -->\n     <g transform=\"translate(67.103125 266.031531) scale(0.1 -0.1)\">\n      <use xlink:href=\"#DejaVuSans-74\"/>\n      <use xlink:href=\"#DejaVuSans-65\" x=\"39.208984\"/>\n      <use xlink:href=\"#DejaVuSans-73\" x=\"100.732422\"/>\n      <use xlink:href=\"#DejaVuSans-74\" x=\"152.832031\"/>\n      <use xlink:href=\"#DejaVuSans-20\" x=\"192.041016\"/>\n      <use xlink:href=\"#DejaVuSans-61\" x=\"223.828125\"/>\n      <use xlink:href=\"#DejaVuSans-63\" x=\"285.107422\"/>\n      <use xlink:href=\"#DejaVuSans-63\" x=\"340.087891\"/>\n     </g>\n    </g>\n   </g>\n  </g>\n </g>\n <defs>\n  <clipPath id=\"pc2b3d3ea14\">\n   <rect x=\"30.103125\" y=\"10.999219\" width=\"357.12\" height=\"266.112\"/>\n  </clipPath>\n </defs>\n</svg>\n",
      "text/plain": [
       "<Figure size 640x480 with 1 Axes>"
      ]
     },
     "metadata": {},
     "output_type": "display_data"
    }
   ],
   "source": [
    "plt.plot(train_losses, c='crimson', label='train loss')\n",
    "plt.plot(train_accs, '--', c='crimson', label='train acc')\n",
    "plt.plot(test_losses, c='navy', label='test loss')\n",
    "plt.plot(test_accs, '--', c='navy', label='test acc')\n",
    "\n",
    "plt.xlabel('epoch')\n",
    "plt.grid()\n",
    "plt.ylim(0, 1)\n",
    "plt.xlim(0, epochs-1)\n",
    "plt.legend()\n",
    "plt.savefig('final_plot.pdf')\n",
    "plt.show()"
   ]
  },
  {
   "cell_type": "code",
   "execution_count": 72,
   "metadata": {},
   "outputs": [
    {
     "data": {
      "image/svg+xml": "<?xml version=\"1.0\" encoding=\"utf-8\" standalone=\"no\"?>\n<!DOCTYPE svg PUBLIC \"-//W3C//DTD SVG 1.1//EN\"\n  \"http://www.w3.org/Graphics/SVG/1.1/DTD/svg11.dtd\">\n<svg xmlns:xlink=\"http://www.w3.org/1999/xlink\" width=\"642.54525pt\" height=\"419.158125pt\" viewBox=\"0 0 642.54525 419.158125\" xmlns=\"http://www.w3.org/2000/svg\" version=\"1.1\">\n <metadata>\n  <rdf:RDF xmlns:dc=\"http://purl.org/dc/elements/1.1/\" xmlns:cc=\"http://creativecommons.org/ns#\" xmlns:rdf=\"http://www.w3.org/1999/02/22-rdf-syntax-ns#\">\n   <cc:Work>\n    <dc:type rdf:resource=\"http://purl.org/dc/dcmitype/StillImage\"/>\n    <dc:date>2023-03-24T22:00:06.816701</dc:date>\n    <dc:format>image/svg+xml</dc:format>\n    <dc:creator>\n     <cc:Agent>\n      <dc:title>Matplotlib v3.6.3, https://matplotlib.org/</dc:title>\n     </cc:Agent>\n    </dc:creator>\n   </cc:Work>\n  </rdf:RDF>\n </metadata>\n <defs>\n  <style type=\"text/css\">*{stroke-linejoin: round; stroke-linecap: butt}</style>\n </defs>\n <g id=\"figure_1\">\n  <g id=\"patch_1\">\n   <path d=\"M 0 419.158125 \nL 642.54525 419.158125 \nL 642.54525 0 \nL 0 0 \nz\n\" style=\"fill: #ffffff\"/>\n  </g>\n  <g id=\"axes_1\">\n   <g id=\"patch_2\">\n    <path d=\"M 23.878125 395.28 \nL 559.558125 395.28 \nL 559.558125 7.2 \nL 23.878125 7.2 \nz\n\" style=\"fill: #ffffff\"/>\n   </g>\n   <g id=\"QuadMesh_1\">\n    <path d=\"M 23.878125 7.2 \nL 77.446125 7.2 \nL 77.446125 46.008 \nL 23.878125 46.008 \nL 23.878125 7.2 \n\" clip-path=\"url(#p7bba965886)\" style=\"fill: #fae6d6\"/>\n    <path d=\"M 77.446125 7.2 \nL 131.014125 7.2 \nL 131.014125 46.008 \nL 77.446125 46.008 \nL 77.446125 7.2 \n\" clip-path=\"url(#p7bba965886)\" style=\"fill: #03051a\"/>\n    <path d=\"M 131.014125 7.2 \nL 184.582125 7.2 \nL 184.582125 46.008 \nL 131.014125 46.008 \nL 131.014125 7.2 \n\" clip-path=\"url(#p7bba965886)\" style=\"fill: #03051a\"/>\n    <path d=\"M 184.582125 7.2 \nL 238.150125 7.2 \nL 238.150125 46.008 \nL 184.582125 46.008 \nL 184.582125 7.2 \n\" clip-path=\"url(#p7bba965886)\" style=\"fill: #04051a\"/>\n    <path d=\"M 238.150125 7.2 \nL 291.718125 7.2 \nL 291.718125 46.008 \nL 238.150125 46.008 \nL 238.150125 7.2 \n\" clip-path=\"url(#p7bba965886)\" style=\"fill: #03051a\"/>\n    <path d=\"M 291.718125 7.2 \nL 345.286125 7.2 \nL 345.286125 46.008 \nL 291.718125 46.008 \nL 291.718125 7.2 \n\" clip-path=\"url(#p7bba965886)\" style=\"fill: #05061b\"/>\n    <path d=\"M 345.286125 7.2 \nL 398.854125 7.2 \nL 398.854125 46.008 \nL 345.286125 46.008 \nL 345.286125 7.2 \n\" clip-path=\"url(#p7bba965886)\" style=\"fill: #05061b\"/>\n    <path d=\"M 398.854125 7.2 \nL 452.422125 7.2 \nL 452.422125 46.008 \nL 398.854125 46.008 \nL 398.854125 7.2 \n\" clip-path=\"url(#p7bba965886)\" style=\"fill: #03051a\"/>\n    <path d=\"M 452.422125 7.2 \nL 505.990125 7.2 \nL 505.990125 46.008 \nL 452.422125 46.008 \nL 452.422125 7.2 \n\" clip-path=\"url(#p7bba965886)\" style=\"fill: #03051a\"/>\n    <path d=\"M 505.990125 7.2 \nL 559.558125 7.2 \nL 559.558125 46.008 \nL 505.990125 46.008 \nL 505.990125 7.2 \n\" clip-path=\"url(#p7bba965886)\" style=\"fill: #03051a\"/>\n    <path d=\"M 23.878125 46.008 \nL 77.446125 46.008 \nL 77.446125 84.816 \nL 23.878125 84.816 \nL 23.878125 46.008 \n\" clip-path=\"url(#p7bba965886)\" style=\"fill: #03051a\"/>\n    <path d=\"M 77.446125 46.008 \nL 131.014125 46.008 \nL 131.014125 84.816 \nL 77.446125 84.816 \nL 77.446125 46.008 \n\" clip-path=\"url(#p7bba965886)\" style=\"fill: #faebdd\"/>\n    <path d=\"M 131.014125 46.008 \nL 184.582125 46.008 \nL 184.582125 84.816 \nL 131.014125 84.816 \nL 131.014125 46.008 \n\" clip-path=\"url(#p7bba965886)\" style=\"fill: #03051a\"/>\n    <path d=\"M 184.582125 46.008 \nL 238.150125 46.008 \nL 238.150125 84.816 \nL 184.582125 84.816 \nL 184.582125 46.008 \n\" clip-path=\"url(#p7bba965886)\" style=\"fill: #03051a\"/>\n    <path d=\"M 238.150125 46.008 \nL 291.718125 46.008 \nL 291.718125 84.816 \nL 238.150125 84.816 \nL 238.150125 46.008 \n\" clip-path=\"url(#p7bba965886)\" style=\"fill: #03051a\"/>\n    <path d=\"M 291.718125 46.008 \nL 345.286125 46.008 \nL 345.286125 84.816 \nL 291.718125 84.816 \nL 291.718125 46.008 \n\" clip-path=\"url(#p7bba965886)\" style=\"fill: #03051a\"/>\n    <path d=\"M 345.286125 46.008 \nL 398.854125 46.008 \nL 398.854125 84.816 \nL 345.286125 84.816 \nL 345.286125 46.008 \n\" clip-path=\"url(#p7bba965886)\" style=\"fill: #04051a\"/>\n    <path d=\"M 398.854125 46.008 \nL 452.422125 46.008 \nL 452.422125 84.816 \nL 398.854125 84.816 \nL 398.854125 46.008 \n\" clip-path=\"url(#p7bba965886)\" style=\"fill: #03051a\"/>\n    <path d=\"M 452.422125 46.008 \nL 505.990125 46.008 \nL 505.990125 84.816 \nL 452.422125 84.816 \nL 452.422125 46.008 \n\" clip-path=\"url(#p7bba965886)\" style=\"fill: #05061b\"/>\n    <path d=\"M 505.990125 46.008 \nL 559.558125 46.008 \nL 559.558125 84.816 \nL 505.990125 84.816 \nL 505.990125 46.008 \n\" clip-path=\"url(#p7bba965886)\" style=\"fill: #03051a\"/>\n    <path d=\"M 23.878125 84.816 \nL 77.446125 84.816 \nL 77.446125 123.624 \nL 23.878125 123.624 \nL 23.878125 84.816 \n\" clip-path=\"url(#p7bba965886)\" style=\"fill: #03051a\"/>\n    <path d=\"M 77.446125 84.816 \nL 131.014125 84.816 \nL 131.014125 123.624 \nL 77.446125 123.624 \nL 77.446125 84.816 \n\" clip-path=\"url(#p7bba965886)\" style=\"fill: #05061b\"/>\n    <path d=\"M 131.014125 84.816 \nL 184.582125 84.816 \nL 184.582125 123.624 \nL 131.014125 123.624 \nL 131.014125 84.816 \n\" clip-path=\"url(#p7bba965886)\" style=\"fill: #f7c7a8\"/>\n    <path d=\"M 184.582125 84.816 \nL 238.150125 84.816 \nL 238.150125 123.624 \nL 184.582125 123.624 \nL 184.582125 84.816 \n\" clip-path=\"url(#p7bba965886)\" style=\"fill: #07071d\"/>\n    <path d=\"M 238.150125 84.816 \nL 291.718125 84.816 \nL 291.718125 123.624 \nL 238.150125 123.624 \nL 238.150125 84.816 \n\" clip-path=\"url(#p7bba965886)\" style=\"fill: #05061b\"/>\n    <path d=\"M 291.718125 84.816 \nL 345.286125 84.816 \nL 345.286125 123.624 \nL 291.718125 123.624 \nL 291.718125 84.816 \n\" clip-path=\"url(#p7bba965886)\" style=\"fill: #04051a\"/>\n    <path d=\"M 345.286125 84.816 \nL 398.854125 84.816 \nL 398.854125 123.624 \nL 345.286125 123.624 \nL 345.286125 84.816 \n\" clip-path=\"url(#p7bba965886)\" style=\"fill: #06071c\"/>\n    <path d=\"M 398.854125 84.816 \nL 452.422125 84.816 \nL 452.422125 123.624 \nL 398.854125 123.624 \nL 398.854125 84.816 \n\" clip-path=\"url(#p7bba965886)\" style=\"fill: #05061b\"/>\n    <path d=\"M 452.422125 84.816 \nL 505.990125 84.816 \nL 505.990125 123.624 \nL 452.422125 123.624 \nL 452.422125 84.816 \n\" clip-path=\"url(#p7bba965886)\" style=\"fill: #100b23\"/>\n    <path d=\"M 505.990125 84.816 \nL 559.558125 84.816 \nL 559.558125 123.624 \nL 505.990125 123.624 \nL 505.990125 84.816 \n\" clip-path=\"url(#p7bba965886)\" style=\"fill: #04051a\"/>\n    <path d=\"M 23.878125 123.624 \nL 77.446125 123.624 \nL 77.446125 162.432 \nL 23.878125 162.432 \nL 23.878125 123.624 \n\" clip-path=\"url(#p7bba965886)\" style=\"fill: #03051a\"/>\n    <path d=\"M 77.446125 123.624 \nL 131.014125 123.624 \nL 131.014125 162.432 \nL 77.446125 162.432 \nL 77.446125 123.624 \n\" clip-path=\"url(#p7bba965886)\" style=\"fill: #03051a\"/>\n    <path d=\"M 131.014125 123.624 \nL 184.582125 123.624 \nL 184.582125 162.432 \nL 131.014125 162.432 \nL 131.014125 123.624 \n\" clip-path=\"url(#p7bba965886)\" style=\"fill: #07071d\"/>\n    <path d=\"M 184.582125 123.624 \nL 238.150125 123.624 \nL 238.150125 162.432 \nL 184.582125 162.432 \nL 184.582125 123.624 \n\" clip-path=\"url(#p7bba965886)\" style=\"fill: #f8d3ba\"/>\n    <path d=\"M 238.150125 123.624 \nL 291.718125 123.624 \nL 291.718125 162.432 \nL 238.150125 162.432 \nL 238.150125 123.624 \n\" clip-path=\"url(#p7bba965886)\" style=\"fill: #03051a\"/>\n    <path d=\"M 291.718125 123.624 \nL 345.286125 123.624 \nL 345.286125 162.432 \nL 291.718125 162.432 \nL 291.718125 123.624 \n\" clip-path=\"url(#p7bba965886)\" style=\"fill: #0a091f\"/>\n    <path d=\"M 345.286125 123.624 \nL 398.854125 123.624 \nL 398.854125 162.432 \nL 345.286125 162.432 \nL 345.286125 123.624 \n\" clip-path=\"url(#p7bba965886)\" style=\"fill: #03051a\"/>\n    <path d=\"M 398.854125 123.624 \nL 452.422125 123.624 \nL 452.422125 162.432 \nL 398.854125 162.432 \nL 398.854125 123.624 \n\" clip-path=\"url(#p7bba965886)\" style=\"fill: #05061b\"/>\n    <path d=\"M 452.422125 123.624 \nL 505.990125 123.624 \nL 505.990125 162.432 \nL 452.422125 162.432 \nL 452.422125 123.624 \n\" clip-path=\"url(#p7bba965886)\" style=\"fill: #0a091f\"/>\n    <path d=\"M 505.990125 123.624 \nL 559.558125 123.624 \nL 559.558125 162.432 \nL 505.990125 162.432 \nL 505.990125 123.624 \n\" clip-path=\"url(#p7bba965886)\" style=\"fill: #04051a\"/>\n    <path d=\"M 23.878125 162.432 \nL 77.446125 162.432 \nL 77.446125 201.24 \nL 23.878125 201.24 \nL 23.878125 162.432 \n\" clip-path=\"url(#p7bba965886)\" style=\"fill: #03051a\"/>\n    <path d=\"M 77.446125 162.432 \nL 131.014125 162.432 \nL 131.014125 201.24 \nL 77.446125 201.24 \nL 77.446125 162.432 \n\" clip-path=\"url(#p7bba965886)\" style=\"fill: #03051a\"/>\n    <path d=\"M 131.014125 162.432 \nL 184.582125 162.432 \nL 184.582125 201.24 \nL 131.014125 201.24 \nL 131.014125 162.432 \n\" clip-path=\"url(#p7bba965886)\" style=\"fill: #04051a\"/>\n    <path d=\"M 184.582125 162.432 \nL 238.150125 162.432 \nL 238.150125 201.24 \nL 184.582125 201.24 \nL 184.582125 162.432 \n\" clip-path=\"url(#p7bba965886)\" style=\"fill: #03051a\"/>\n    <path d=\"M 238.150125 162.432 \nL 291.718125 162.432 \nL 291.718125 201.24 \nL 238.150125 201.24 \nL 238.150125 162.432 \n\" clip-path=\"url(#p7bba965886)\" style=\"fill: #f8d9c3\"/>\n    <path d=\"M 291.718125 162.432 \nL 345.286125 162.432 \nL 345.286125 201.24 \nL 291.718125 201.24 \nL 291.718125 162.432 \n\" clip-path=\"url(#p7bba965886)\" style=\"fill: #03051a\"/>\n    <path d=\"M 345.286125 162.432 \nL 398.854125 162.432 \nL 398.854125 201.24 \nL 345.286125 201.24 \nL 345.286125 162.432 \n\" clip-path=\"url(#p7bba965886)\" style=\"fill: #05061b\"/>\n    <path d=\"M 398.854125 162.432 \nL 452.422125 162.432 \nL 452.422125 201.24 \nL 398.854125 201.24 \nL 398.854125 162.432 \n\" clip-path=\"url(#p7bba965886)\" style=\"fill: #04051a\"/>\n    <path d=\"M 452.422125 162.432 \nL 505.990125 162.432 \nL 505.990125 201.24 \nL 452.422125 201.24 \nL 452.422125 162.432 \n\" clip-path=\"url(#p7bba965886)\" style=\"fill: #05061b\"/>\n    <path d=\"M 505.990125 162.432 \nL 559.558125 162.432 \nL 559.558125 201.24 \nL 505.990125 201.24 \nL 505.990125 162.432 \n\" clip-path=\"url(#p7bba965886)\" style=\"fill: #0b0920\"/>\n    <path d=\"M 23.878125 201.24 \nL 77.446125 201.24 \nL 77.446125 240.048 \nL 23.878125 240.048 \nL 23.878125 201.24 \n\" clip-path=\"url(#p7bba965886)\" style=\"fill: #05061b\"/>\n    <path d=\"M 77.446125 201.24 \nL 131.014125 201.24 \nL 131.014125 240.048 \nL 77.446125 240.048 \nL 77.446125 201.24 \n\" clip-path=\"url(#p7bba965886)\" style=\"fill: #03051a\"/>\n    <path d=\"M 131.014125 201.24 \nL 184.582125 201.24 \nL 184.582125 240.048 \nL 131.014125 240.048 \nL 131.014125 201.24 \n\" clip-path=\"url(#p7bba965886)\" style=\"fill: #03051a\"/>\n    <path d=\"M 184.582125 201.24 \nL 238.150125 201.24 \nL 238.150125 240.048 \nL 184.582125 240.048 \nL 184.582125 201.24 \n\" clip-path=\"url(#p7bba965886)\" style=\"fill: #0e0b22\"/>\n    <path d=\"M 238.150125 201.24 \nL 291.718125 201.24 \nL 291.718125 240.048 \nL 238.150125 240.048 \nL 238.150125 201.24 \n\" clip-path=\"url(#p7bba965886)\" style=\"fill: #05061b\"/>\n    <path d=\"M 291.718125 201.24 \nL 345.286125 201.24 \nL 345.286125 240.048 \nL 291.718125 240.048 \nL 291.718125 201.24 \n\" clip-path=\"url(#p7bba965886)\" style=\"fill: #f6bf9d\"/>\n    <path d=\"M 345.286125 201.24 \nL 398.854125 201.24 \nL 398.854125 240.048 \nL 345.286125 240.048 \nL 345.286125 201.24 \n\" clip-path=\"url(#p7bba965886)\" style=\"fill: #07071d\"/>\n    <path d=\"M 398.854125 201.24 \nL 452.422125 201.24 \nL 452.422125 240.048 \nL 398.854125 240.048 \nL 398.854125 201.24 \n\" clip-path=\"url(#p7bba965886)\" style=\"fill: #04051a\"/>\n    <path d=\"M 452.422125 201.24 \nL 505.990125 201.24 \nL 505.990125 240.048 \nL 452.422125 240.048 \nL 452.422125 201.24 \n\" clip-path=\"url(#p7bba965886)\" style=\"fill: #0d0a21\"/>\n    <path d=\"M 505.990125 201.24 \nL 559.558125 201.24 \nL 559.558125 240.048 \nL 505.990125 240.048 \nL 505.990125 201.24 \n\" clip-path=\"url(#p7bba965886)\" style=\"fill: #04051a\"/>\n    <path d=\"M 23.878125 240.048 \nL 77.446125 240.048 \nL 77.446125 278.856 \nL 23.878125 278.856 \nL 23.878125 240.048 \n\" clip-path=\"url(#p7bba965886)\" style=\"fill: #05061b\"/>\n    <path d=\"M 77.446125 240.048 \nL 131.014125 240.048 \nL 131.014125 278.856 \nL 77.446125 278.856 \nL 77.446125 240.048 \n\" clip-path=\"url(#p7bba965886)\" style=\"fill: #03051a\"/>\n    <path d=\"M 131.014125 240.048 \nL 184.582125 240.048 \nL 184.582125 278.856 \nL 131.014125 278.856 \nL 131.014125 240.048 \n\" clip-path=\"url(#p7bba965886)\" style=\"fill: #04051a\"/>\n    <path d=\"M 184.582125 240.048 \nL 238.150125 240.048 \nL 238.150125 278.856 \nL 184.582125 278.856 \nL 184.582125 240.048 \n\" clip-path=\"url(#p7bba965886)\" style=\"fill: #03051a\"/>\n    <path d=\"M 238.150125 240.048 \nL 291.718125 240.048 \nL 291.718125 278.856 \nL 238.150125 278.856 \nL 238.150125 240.048 \n\" clip-path=\"url(#p7bba965886)\" style=\"fill: #05061b\"/>\n    <path d=\"M 291.718125 240.048 \nL 345.286125 240.048 \nL 345.286125 278.856 \nL 291.718125 278.856 \nL 291.718125 240.048 \n\" clip-path=\"url(#p7bba965886)\" style=\"fill: #07071d\"/>\n    <path d=\"M 345.286125 240.048 \nL 398.854125 240.048 \nL 398.854125 278.856 \nL 345.286125 278.856 \nL 345.286125 240.048 \n\" clip-path=\"url(#p7bba965886)\" style=\"fill: #f9dfcb\"/>\n    <path d=\"M 398.854125 240.048 \nL 452.422125 240.048 \nL 452.422125 278.856 \nL 398.854125 278.856 \nL 398.854125 240.048 \n\" clip-path=\"url(#p7bba965886)\" style=\"fill: #03051a\"/>\n    <path d=\"M 452.422125 240.048 \nL 505.990125 240.048 \nL 505.990125 278.856 \nL 452.422125 278.856 \nL 452.422125 240.048 \n\" clip-path=\"url(#p7bba965886)\" style=\"fill: #03051a\"/>\n    <path d=\"M 505.990125 240.048 \nL 559.558125 240.048 \nL 559.558125 278.856 \nL 505.990125 278.856 \nL 505.990125 240.048 \n\" clip-path=\"url(#p7bba965886)\" style=\"fill: #03051a\"/>\n    <path d=\"M 23.878125 278.856 \nL 77.446125 278.856 \nL 77.446125 317.664 \nL 23.878125 317.664 \nL 23.878125 278.856 \n\" clip-path=\"url(#p7bba965886)\" style=\"fill: #03051a\"/>\n    <path d=\"M 77.446125 278.856 \nL 131.014125 278.856 \nL 131.014125 317.664 \nL 77.446125 317.664 \nL 77.446125 278.856 \n\" clip-path=\"url(#p7bba965886)\" style=\"fill: #04051a\"/>\n    <path d=\"M 131.014125 278.856 \nL 184.582125 278.856 \nL 184.582125 317.664 \nL 131.014125 317.664 \nL 131.014125 278.856 \n\" clip-path=\"url(#p7bba965886)\" style=\"fill: #08081e\"/>\n    <path d=\"M 184.582125 278.856 \nL 238.150125 278.856 \nL 238.150125 317.664 \nL 184.582125 317.664 \nL 184.582125 278.856 \n\" clip-path=\"url(#p7bba965886)\" style=\"fill: #05061b\"/>\n    <path d=\"M 238.150125 278.856 \nL 291.718125 278.856 \nL 291.718125 317.664 \nL 238.150125 317.664 \nL 238.150125 278.856 \n\" clip-path=\"url(#p7bba965886)\" style=\"fill: #04051a\"/>\n    <path d=\"M 291.718125 278.856 \nL 345.286125 278.856 \nL 345.286125 317.664 \nL 291.718125 317.664 \nL 291.718125 278.856 \n\" clip-path=\"url(#p7bba965886)\" style=\"fill: #03051a\"/>\n    <path d=\"M 345.286125 278.856 \nL 398.854125 278.856 \nL 398.854125 317.664 \nL 345.286125 317.664 \nL 345.286125 278.856 \n\" clip-path=\"url(#p7bba965886)\" style=\"fill: #03051a\"/>\n    <path d=\"M 398.854125 278.856 \nL 452.422125 278.856 \nL 452.422125 317.664 \nL 398.854125 317.664 \nL 398.854125 278.856 \n\" clip-path=\"url(#p7bba965886)\" style=\"fill: #f8d6be\"/>\n    <path d=\"M 452.422125 278.856 \nL 505.990125 278.856 \nL 505.990125 317.664 \nL 452.422125 317.664 \nL 452.422125 278.856 \n\" clip-path=\"url(#p7bba965886)\" style=\"fill: #03051a\"/>\n    <path d=\"M 505.990125 278.856 \nL 559.558125 278.856 \nL 559.558125 317.664 \nL 505.990125 317.664 \nL 505.990125 278.856 \n\" clip-path=\"url(#p7bba965886)\" style=\"fill: #0a091f\"/>\n    <path d=\"M 23.878125 317.664 \nL 77.446125 317.664 \nL 77.446125 356.472 \nL 23.878125 356.472 \nL 23.878125 317.664 \n\" clip-path=\"url(#p7bba965886)\" style=\"fill: #03051a\"/>\n    <path d=\"M 77.446125 317.664 \nL 131.014125 317.664 \nL 131.014125 356.472 \nL 77.446125 356.472 \nL 77.446125 317.664 \n\" clip-path=\"url(#p7bba965886)\" style=\"fill: #05061b\"/>\n    <path d=\"M 131.014125 317.664 \nL 184.582125 317.664 \nL 184.582125 356.472 \nL 131.014125 356.472 \nL 131.014125 317.664 \n\" clip-path=\"url(#p7bba965886)\" style=\"fill: #04051a\"/>\n    <path d=\"M 184.582125 317.664 \nL 238.150125 317.664 \nL 238.150125 356.472 \nL 184.582125 356.472 \nL 184.582125 317.664 \n\" clip-path=\"url(#p7bba965886)\" style=\"fill: #0a091f\"/>\n    <path d=\"M 238.150125 317.664 \nL 291.718125 317.664 \nL 291.718125 356.472 \nL 238.150125 356.472 \nL 238.150125 317.664 \n\" clip-path=\"url(#p7bba965886)\" style=\"fill: #05061b\"/>\n    <path d=\"M 291.718125 317.664 \nL 345.286125 317.664 \nL 345.286125 356.472 \nL 291.718125 356.472 \nL 291.718125 317.664 \n\" clip-path=\"url(#p7bba965886)\" style=\"fill: #0e0b22\"/>\n    <path d=\"M 345.286125 317.664 \nL 398.854125 317.664 \nL 398.854125 356.472 \nL 345.286125 356.472 \nL 345.286125 317.664 \n\" clip-path=\"url(#p7bba965886)\" style=\"fill: #05061b\"/>\n    <path d=\"M 398.854125 317.664 \nL 452.422125 317.664 \nL 452.422125 356.472 \nL 398.854125 356.472 \nL 398.854125 317.664 \n\" clip-path=\"url(#p7bba965886)\" style=\"fill: #06071c\"/>\n    <path d=\"M 452.422125 317.664 \nL 505.990125 317.664 \nL 505.990125 356.472 \nL 452.422125 356.472 \nL 452.422125 317.664 \n\" clip-path=\"url(#p7bba965886)\" style=\"fill: #f7c6a6\"/>\n    <path d=\"M 505.990125 317.664 \nL 559.558125 317.664 \nL 559.558125 356.472 \nL 505.990125 356.472 \nL 505.990125 317.664 \n\" clip-path=\"url(#p7bba965886)\" style=\"fill: #04051a\"/>\n    <path d=\"M 23.878125 356.472 \nL 77.446125 356.472 \nL 77.446125 395.28 \nL 23.878125 395.28 \nL 23.878125 356.472 \n\" clip-path=\"url(#p7bba965886)\" style=\"fill: #04051a\"/>\n    <path d=\"M 77.446125 356.472 \nL 131.014125 356.472 \nL 131.014125 395.28 \nL 77.446125 395.28 \nL 77.446125 356.472 \n\" clip-path=\"url(#p7bba965886)\" style=\"fill: #04051a\"/>\n    <path d=\"M 131.014125 356.472 \nL 184.582125 356.472 \nL 184.582125 395.28 \nL 131.014125 395.28 \nL 131.014125 356.472 \n\" clip-path=\"url(#p7bba965886)\" style=\"fill: #03051a\"/>\n    <path d=\"M 184.582125 356.472 \nL 238.150125 356.472 \nL 238.150125 395.28 \nL 184.582125 395.28 \nL 184.582125 356.472 \n\" clip-path=\"url(#p7bba965886)\" style=\"fill: #05061b\"/>\n    <path d=\"M 238.150125 356.472 \nL 291.718125 356.472 \nL 291.718125 395.28 \nL 238.150125 395.28 \nL 238.150125 356.472 \n\" clip-path=\"url(#p7bba965886)\" style=\"fill: #100b23\"/>\n    <path d=\"M 291.718125 356.472 \nL 345.286125 356.472 \nL 345.286125 395.28 \nL 291.718125 395.28 \nL 291.718125 356.472 \n\" clip-path=\"url(#p7bba965886)\" style=\"fill: #05061b\"/>\n    <path d=\"M 345.286125 356.472 \nL 398.854125 356.472 \nL 398.854125 395.28 \nL 345.286125 395.28 \nL 345.286125 356.472 \n\" clip-path=\"url(#p7bba965886)\" style=\"fill: #03051a\"/>\n    <path d=\"M 398.854125 356.472 \nL 452.422125 356.472 \nL 452.422125 395.28 \nL 398.854125 395.28 \nL 398.854125 356.472 \n\" clip-path=\"url(#p7bba965886)\" style=\"fill: #0a091f\"/>\n    <path d=\"M 452.422125 356.472 \nL 505.990125 356.472 \nL 505.990125 395.28 \nL 452.422125 395.28 \nL 452.422125 356.472 \n\" clip-path=\"url(#p7bba965886)\" style=\"fill: #05061b\"/>\n    <path d=\"M 505.990125 356.472 \nL 559.558125 356.472 \nL 559.558125 395.28 \nL 505.990125 395.28 \nL 505.990125 356.472 \n\" clip-path=\"url(#p7bba965886)\" style=\"fill: #f7c7a8\"/>\n   </g>\n   <g id=\"matplotlib.axis_1\">\n    <g id=\"xtick_1\">\n     <g id=\"line2d_1\">\n      <defs>\n       <path id=\"m63254ceda2\" d=\"M 0 0 \nL 0 3.5 \n\" style=\"stroke: #000000; stroke-width: 0.8\"/>\n      </defs>\n      <g>\n       <use xlink:href=\"#m63254ceda2\" x=\"50.662125\" y=\"395.28\" style=\"stroke: #000000; stroke-width: 0.8\"/>\n      </g>\n     </g>\n     <g id=\"text_1\">\n      <!-- 0 -->\n      <g transform=\"translate(47.480875 409.878437) scale(0.1 -0.1)\">\n       <defs>\n        <path id=\"DejaVuSans-30\" d=\"M 2034 4250 \nQ 1547 4250 1301 3770 \nQ 1056 3291 1056 2328 \nQ 1056 1369 1301 889 \nQ 1547 409 2034 409 \nQ 2525 409 2770 889 \nQ 3016 1369 3016 2328 \nQ 3016 3291 2770 3770 \nQ 2525 4250 2034 4250 \nz\nM 2034 4750 \nQ 2819 4750 3233 4129 \nQ 3647 3509 3647 2328 \nQ 3647 1150 3233 529 \nQ 2819 -91 2034 -91 \nQ 1250 -91 836 529 \nQ 422 1150 422 2328 \nQ 422 3509 836 4129 \nQ 1250 4750 2034 4750 \nz\n\" transform=\"scale(0.015625)\"/>\n       </defs>\n       <use xlink:href=\"#DejaVuSans-30\"/>\n      </g>\n     </g>\n    </g>\n    <g id=\"xtick_2\">\n     <g id=\"line2d_2\">\n      <g>\n       <use xlink:href=\"#m63254ceda2\" x=\"104.230125\" y=\"395.28\" style=\"stroke: #000000; stroke-width: 0.8\"/>\n      </g>\n     </g>\n     <g id=\"text_2\">\n      <!-- 1 -->\n      <g transform=\"translate(101.048875 409.878437) scale(0.1 -0.1)\">\n       <defs>\n        <path id=\"DejaVuSans-31\" d=\"M 794 531 \nL 1825 531 \nL 1825 4091 \nL 703 3866 \nL 703 4441 \nL 1819 4666 \nL 2450 4666 \nL 2450 531 \nL 3481 531 \nL 3481 0 \nL 794 0 \nL 794 531 \nz\n\" transform=\"scale(0.015625)\"/>\n       </defs>\n       <use xlink:href=\"#DejaVuSans-31\"/>\n      </g>\n     </g>\n    </g>\n    <g id=\"xtick_3\">\n     <g id=\"line2d_3\">\n      <g>\n       <use xlink:href=\"#m63254ceda2\" x=\"157.798125\" y=\"395.28\" style=\"stroke: #000000; stroke-width: 0.8\"/>\n      </g>\n     </g>\n     <g id=\"text_3\">\n      <!-- 2 -->\n      <g transform=\"translate(154.616875 409.878437) scale(0.1 -0.1)\">\n       <defs>\n        <path id=\"DejaVuSans-32\" d=\"M 1228 531 \nL 3431 531 \nL 3431 0 \nL 469 0 \nL 469 531 \nQ 828 903 1448 1529 \nQ 2069 2156 2228 2338 \nQ 2531 2678 2651 2914 \nQ 2772 3150 2772 3378 \nQ 2772 3750 2511 3984 \nQ 2250 4219 1831 4219 \nQ 1534 4219 1204 4116 \nQ 875 4013 500 3803 \nL 500 4441 \nQ 881 4594 1212 4672 \nQ 1544 4750 1819 4750 \nQ 2544 4750 2975 4387 \nQ 3406 4025 3406 3419 \nQ 3406 3131 3298 2873 \nQ 3191 2616 2906 2266 \nQ 2828 2175 2409 1742 \nQ 1991 1309 1228 531 \nz\n\" transform=\"scale(0.015625)\"/>\n       </defs>\n       <use xlink:href=\"#DejaVuSans-32\"/>\n      </g>\n     </g>\n    </g>\n    <g id=\"xtick_4\">\n     <g id=\"line2d_4\">\n      <g>\n       <use xlink:href=\"#m63254ceda2\" x=\"211.366125\" y=\"395.28\" style=\"stroke: #000000; stroke-width: 0.8\"/>\n      </g>\n     </g>\n     <g id=\"text_4\">\n      <!-- 3 -->\n      <g transform=\"translate(208.184875 409.878437) scale(0.1 -0.1)\">\n       <defs>\n        <path id=\"DejaVuSans-33\" d=\"M 2597 2516 \nQ 3050 2419 3304 2112 \nQ 3559 1806 3559 1356 \nQ 3559 666 3084 287 \nQ 2609 -91 1734 -91 \nQ 1441 -91 1130 -33 \nQ 819 25 488 141 \nL 488 750 \nQ 750 597 1062 519 \nQ 1375 441 1716 441 \nQ 2309 441 2620 675 \nQ 2931 909 2931 1356 \nQ 2931 1769 2642 2001 \nQ 2353 2234 1838 2234 \nL 1294 2234 \nL 1294 2753 \nL 1863 2753 \nQ 2328 2753 2575 2939 \nQ 2822 3125 2822 3475 \nQ 2822 3834 2567 4026 \nQ 2313 4219 1838 4219 \nQ 1578 4219 1281 4162 \nQ 984 4106 628 3988 \nL 628 4550 \nQ 988 4650 1302 4700 \nQ 1616 4750 1894 4750 \nQ 2613 4750 3031 4423 \nQ 3450 4097 3450 3541 \nQ 3450 3153 3228 2886 \nQ 3006 2619 2597 2516 \nz\n\" transform=\"scale(0.015625)\"/>\n       </defs>\n       <use xlink:href=\"#DejaVuSans-33\"/>\n      </g>\n     </g>\n    </g>\n    <g id=\"xtick_5\">\n     <g id=\"line2d_5\">\n      <g>\n       <use xlink:href=\"#m63254ceda2\" x=\"264.934125\" y=\"395.28\" style=\"stroke: #000000; stroke-width: 0.8\"/>\n      </g>\n     </g>\n     <g id=\"text_5\">\n      <!-- 4 -->\n      <g transform=\"translate(261.752875 409.878437) scale(0.1 -0.1)\">\n       <defs>\n        <path id=\"DejaVuSans-34\" d=\"M 2419 4116 \nL 825 1625 \nL 2419 1625 \nL 2419 4116 \nz\nM 2253 4666 \nL 3047 4666 \nL 3047 1625 \nL 3713 1625 \nL 3713 1100 \nL 3047 1100 \nL 3047 0 \nL 2419 0 \nL 2419 1100 \nL 313 1100 \nL 313 1709 \nL 2253 4666 \nz\n\" transform=\"scale(0.015625)\"/>\n       </defs>\n       <use xlink:href=\"#DejaVuSans-34\"/>\n      </g>\n     </g>\n    </g>\n    <g id=\"xtick_6\">\n     <g id=\"line2d_6\">\n      <g>\n       <use xlink:href=\"#m63254ceda2\" x=\"318.502125\" y=\"395.28\" style=\"stroke: #000000; stroke-width: 0.8\"/>\n      </g>\n     </g>\n     <g id=\"text_6\">\n      <!-- 5 -->\n      <g transform=\"translate(315.320875 409.878437) scale(0.1 -0.1)\">\n       <defs>\n        <path id=\"DejaVuSans-35\" d=\"M 691 4666 \nL 3169 4666 \nL 3169 4134 \nL 1269 4134 \nL 1269 2991 \nQ 1406 3038 1543 3061 \nQ 1681 3084 1819 3084 \nQ 2600 3084 3056 2656 \nQ 3513 2228 3513 1497 \nQ 3513 744 3044 326 \nQ 2575 -91 1722 -91 \nQ 1428 -91 1123 -41 \nQ 819 9 494 109 \nL 494 744 \nQ 775 591 1075 516 \nQ 1375 441 1709 441 \nQ 2250 441 2565 725 \nQ 2881 1009 2881 1497 \nQ 2881 1984 2565 2268 \nQ 2250 2553 1709 2553 \nQ 1456 2553 1204 2497 \nQ 953 2441 691 2322 \nL 691 4666 \nz\n\" transform=\"scale(0.015625)\"/>\n       </defs>\n       <use xlink:href=\"#DejaVuSans-35\"/>\n      </g>\n     </g>\n    </g>\n    <g id=\"xtick_7\">\n     <g id=\"line2d_7\">\n      <g>\n       <use xlink:href=\"#m63254ceda2\" x=\"372.070125\" y=\"395.28\" style=\"stroke: #000000; stroke-width: 0.8\"/>\n      </g>\n     </g>\n     <g id=\"text_7\">\n      <!-- 6 -->\n      <g transform=\"translate(368.888875 409.878437) scale(0.1 -0.1)\">\n       <defs>\n        <path id=\"DejaVuSans-36\" d=\"M 2113 2584 \nQ 1688 2584 1439 2293 \nQ 1191 2003 1191 1497 \nQ 1191 994 1439 701 \nQ 1688 409 2113 409 \nQ 2538 409 2786 701 \nQ 3034 994 3034 1497 \nQ 3034 2003 2786 2293 \nQ 2538 2584 2113 2584 \nz\nM 3366 4563 \nL 3366 3988 \nQ 3128 4100 2886 4159 \nQ 2644 4219 2406 4219 \nQ 1781 4219 1451 3797 \nQ 1122 3375 1075 2522 \nQ 1259 2794 1537 2939 \nQ 1816 3084 2150 3084 \nQ 2853 3084 3261 2657 \nQ 3669 2231 3669 1497 \nQ 3669 778 3244 343 \nQ 2819 -91 2113 -91 \nQ 1303 -91 875 529 \nQ 447 1150 447 2328 \nQ 447 3434 972 4092 \nQ 1497 4750 2381 4750 \nQ 2619 4750 2861 4703 \nQ 3103 4656 3366 4563 \nz\n\" transform=\"scale(0.015625)\"/>\n       </defs>\n       <use xlink:href=\"#DejaVuSans-36\"/>\n      </g>\n     </g>\n    </g>\n    <g id=\"xtick_8\">\n     <g id=\"line2d_8\">\n      <g>\n       <use xlink:href=\"#m63254ceda2\" x=\"425.638125\" y=\"395.28\" style=\"stroke: #000000; stroke-width: 0.8\"/>\n      </g>\n     </g>\n     <g id=\"text_8\">\n      <!-- 7 -->\n      <g transform=\"translate(422.456875 409.878437) scale(0.1 -0.1)\">\n       <defs>\n        <path id=\"DejaVuSans-37\" d=\"M 525 4666 \nL 3525 4666 \nL 3525 4397 \nL 1831 0 \nL 1172 0 \nL 2766 4134 \nL 525 4134 \nL 525 4666 \nz\n\" transform=\"scale(0.015625)\"/>\n       </defs>\n       <use xlink:href=\"#DejaVuSans-37\"/>\n      </g>\n     </g>\n    </g>\n    <g id=\"xtick_9\">\n     <g id=\"line2d_9\">\n      <g>\n       <use xlink:href=\"#m63254ceda2\" x=\"479.206125\" y=\"395.28\" style=\"stroke: #000000; stroke-width: 0.8\"/>\n      </g>\n     </g>\n     <g id=\"text_9\">\n      <!-- 8 -->\n      <g transform=\"translate(476.024875 409.878437) scale(0.1 -0.1)\">\n       <defs>\n        <path id=\"DejaVuSans-38\" d=\"M 2034 2216 \nQ 1584 2216 1326 1975 \nQ 1069 1734 1069 1313 \nQ 1069 891 1326 650 \nQ 1584 409 2034 409 \nQ 2484 409 2743 651 \nQ 3003 894 3003 1313 \nQ 3003 1734 2745 1975 \nQ 2488 2216 2034 2216 \nz\nM 1403 2484 \nQ 997 2584 770 2862 \nQ 544 3141 544 3541 \nQ 544 4100 942 4425 \nQ 1341 4750 2034 4750 \nQ 2731 4750 3128 4425 \nQ 3525 4100 3525 3541 \nQ 3525 3141 3298 2862 \nQ 3072 2584 2669 2484 \nQ 3125 2378 3379 2068 \nQ 3634 1759 3634 1313 \nQ 3634 634 3220 271 \nQ 2806 -91 2034 -91 \nQ 1263 -91 848 271 \nQ 434 634 434 1313 \nQ 434 1759 690 2068 \nQ 947 2378 1403 2484 \nz\nM 1172 3481 \nQ 1172 3119 1398 2916 \nQ 1625 2713 2034 2713 \nQ 2441 2713 2670 2916 \nQ 2900 3119 2900 3481 \nQ 2900 3844 2670 4047 \nQ 2441 4250 2034 4250 \nQ 1625 4250 1398 4047 \nQ 1172 3844 1172 3481 \nz\n\" transform=\"scale(0.015625)\"/>\n       </defs>\n       <use xlink:href=\"#DejaVuSans-38\"/>\n      </g>\n     </g>\n    </g>\n    <g id=\"xtick_10\">\n     <g id=\"line2d_10\">\n      <g>\n       <use xlink:href=\"#m63254ceda2\" x=\"532.774125\" y=\"395.28\" style=\"stroke: #000000; stroke-width: 0.8\"/>\n      </g>\n     </g>\n     <g id=\"text_10\">\n      <!-- 9 -->\n      <g transform=\"translate(529.592875 409.878437) scale(0.1 -0.1)\">\n       <defs>\n        <path id=\"DejaVuSans-39\" d=\"M 703 97 \nL 703 672 \nQ 941 559 1184 500 \nQ 1428 441 1663 441 \nQ 2288 441 2617 861 \nQ 2947 1281 2994 2138 \nQ 2813 1869 2534 1725 \nQ 2256 1581 1919 1581 \nQ 1219 1581 811 2004 \nQ 403 2428 403 3163 \nQ 403 3881 828 4315 \nQ 1253 4750 1959 4750 \nQ 2769 4750 3195 4129 \nQ 3622 3509 3622 2328 \nQ 3622 1225 3098 567 \nQ 2575 -91 1691 -91 \nQ 1453 -91 1209 -44 \nQ 966 3 703 97 \nz\nM 1959 2075 \nQ 2384 2075 2632 2365 \nQ 2881 2656 2881 3163 \nQ 2881 3666 2632 3958 \nQ 2384 4250 1959 4250 \nQ 1534 4250 1286 3958 \nQ 1038 3666 1038 3163 \nQ 1038 2656 1286 2365 \nQ 1534 2075 1959 2075 \nz\n\" transform=\"scale(0.015625)\"/>\n       </defs>\n       <use xlink:href=\"#DejaVuSans-39\"/>\n      </g>\n     </g>\n    </g>\n   </g>\n   <g id=\"matplotlib.axis_2\">\n    <g id=\"ytick_1\">\n     <g id=\"line2d_11\">\n      <defs>\n       <path id=\"m4e63d5a95e\" d=\"M 0 0 \nL -3.5 0 \n\" style=\"stroke: #000000; stroke-width: 0.8\"/>\n      </defs>\n      <g>\n       <use xlink:href=\"#m4e63d5a95e\" x=\"23.878125\" y=\"26.604\" style=\"stroke: #000000; stroke-width: 0.8\"/>\n      </g>\n     </g>\n     <g id=\"text_11\">\n      <!-- 0 -->\n      <g transform=\"translate(14.798438 29.78525) rotate(-90) scale(0.1 -0.1)\">\n       <use xlink:href=\"#DejaVuSans-30\"/>\n      </g>\n     </g>\n    </g>\n    <g id=\"ytick_2\">\n     <g id=\"line2d_12\">\n      <g>\n       <use xlink:href=\"#m4e63d5a95e\" x=\"23.878125\" y=\"65.412\" style=\"stroke: #000000; stroke-width: 0.8\"/>\n      </g>\n     </g>\n     <g id=\"text_12\">\n      <!-- 1 -->\n      <g transform=\"translate(14.798438 68.59325) rotate(-90) scale(0.1 -0.1)\">\n       <use xlink:href=\"#DejaVuSans-31\"/>\n      </g>\n     </g>\n    </g>\n    <g id=\"ytick_3\">\n     <g id=\"line2d_13\">\n      <g>\n       <use xlink:href=\"#m4e63d5a95e\" x=\"23.878125\" y=\"104.22\" style=\"stroke: #000000; stroke-width: 0.8\"/>\n      </g>\n     </g>\n     <g id=\"text_13\">\n      <!-- 2 -->\n      <g transform=\"translate(14.798438 107.40125) rotate(-90) scale(0.1 -0.1)\">\n       <use xlink:href=\"#DejaVuSans-32\"/>\n      </g>\n     </g>\n    </g>\n    <g id=\"ytick_4\">\n     <g id=\"line2d_14\">\n      <g>\n       <use xlink:href=\"#m4e63d5a95e\" x=\"23.878125\" y=\"143.028\" style=\"stroke: #000000; stroke-width: 0.8\"/>\n      </g>\n     </g>\n     <g id=\"text_14\">\n      <!-- 3 -->\n      <g transform=\"translate(14.798438 146.20925) rotate(-90) scale(0.1 -0.1)\">\n       <use xlink:href=\"#DejaVuSans-33\"/>\n      </g>\n     </g>\n    </g>\n    <g id=\"ytick_5\">\n     <g id=\"line2d_15\">\n      <g>\n       <use xlink:href=\"#m4e63d5a95e\" x=\"23.878125\" y=\"181.836\" style=\"stroke: #000000; stroke-width: 0.8\"/>\n      </g>\n     </g>\n     <g id=\"text_15\">\n      <!-- 4 -->\n      <g transform=\"translate(14.798438 185.01725) rotate(-90) scale(0.1 -0.1)\">\n       <use xlink:href=\"#DejaVuSans-34\"/>\n      </g>\n     </g>\n    </g>\n    <g id=\"ytick_6\">\n     <g id=\"line2d_16\">\n      <g>\n       <use xlink:href=\"#m4e63d5a95e\" x=\"23.878125\" y=\"220.644\" style=\"stroke: #000000; stroke-width: 0.8\"/>\n      </g>\n     </g>\n     <g id=\"text_16\">\n      <!-- 5 -->\n      <g transform=\"translate(14.798438 223.82525) rotate(-90) scale(0.1 -0.1)\">\n       <use xlink:href=\"#DejaVuSans-35\"/>\n      </g>\n     </g>\n    </g>\n    <g id=\"ytick_7\">\n     <g id=\"line2d_17\">\n      <g>\n       <use xlink:href=\"#m4e63d5a95e\" x=\"23.878125\" y=\"259.452\" style=\"stroke: #000000; stroke-width: 0.8\"/>\n      </g>\n     </g>\n     <g id=\"text_17\">\n      <!-- 6 -->\n      <g transform=\"translate(14.798438 262.63325) rotate(-90) scale(0.1 -0.1)\">\n       <use xlink:href=\"#DejaVuSans-36\"/>\n      </g>\n     </g>\n    </g>\n    <g id=\"ytick_8\">\n     <g id=\"line2d_18\">\n      <g>\n       <use xlink:href=\"#m4e63d5a95e\" x=\"23.878125\" y=\"298.26\" style=\"stroke: #000000; stroke-width: 0.8\"/>\n      </g>\n     </g>\n     <g id=\"text_18\">\n      <!-- 7 -->\n      <g transform=\"translate(14.798438 301.44125) rotate(-90) scale(0.1 -0.1)\">\n       <use xlink:href=\"#DejaVuSans-37\"/>\n      </g>\n     </g>\n    </g>\n    <g id=\"ytick_9\">\n     <g id=\"line2d_19\">\n      <g>\n       <use xlink:href=\"#m4e63d5a95e\" x=\"23.878125\" y=\"337.068\" style=\"stroke: #000000; stroke-width: 0.8\"/>\n      </g>\n     </g>\n     <g id=\"text_19\">\n      <!-- 8 -->\n      <g transform=\"translate(14.798438 340.24925) rotate(-90) scale(0.1 -0.1)\">\n       <use xlink:href=\"#DejaVuSans-38\"/>\n      </g>\n     </g>\n    </g>\n    <g id=\"ytick_10\">\n     <g id=\"line2d_20\">\n      <g>\n       <use xlink:href=\"#m4e63d5a95e\" x=\"23.878125\" y=\"375.876\" style=\"stroke: #000000; stroke-width: 0.8\"/>\n      </g>\n     </g>\n     <g id=\"text_20\">\n      <!-- 9 -->\n      <g transform=\"translate(14.798438 379.05725) rotate(-90) scale(0.1 -0.1)\">\n       <use xlink:href=\"#DejaVuSans-39\"/>\n      </g>\n     </g>\n    </g>\n   </g>\n   <g id=\"text_21\">\n    <!-- 0.97 -->\n    <g style=\"fill: #262626\" transform=\"translate(39.529313 29.363375) scale(0.1 -0.1)\">\n     <defs>\n      <path id=\"DejaVuSans-2e\" d=\"M 684 794 \nL 1344 794 \nL 1344 0 \nL 684 0 \nL 684 794 \nz\n\" transform=\"scale(0.015625)\"/>\n     </defs>\n     <use xlink:href=\"#DejaVuSans-30\"/>\n     <use xlink:href=\"#DejaVuSans-2e\" x=\"63.623047\"/>\n     <use xlink:href=\"#DejaVuSans-39\" x=\"95.410156\"/>\n     <use xlink:href=\"#DejaVuSans-37\" x=\"159.033203\"/>\n    </g>\n   </g>\n   <g id=\"text_22\">\n    <!-- 0 -->\n    <g style=\"fill: #ffffff\" transform=\"translate(101.048875 29.363375) scale(0.1 -0.1)\">\n     <use xlink:href=\"#DejaVuSans-30\"/>\n    </g>\n   </g>\n   <g id=\"text_23\">\n    <!-- 0.0029 -->\n    <g style=\"fill: #ffffff\" transform=\"translate(140.302813 29.363375) scale(0.1 -0.1)\">\n     <use xlink:href=\"#DejaVuSans-30\"/>\n     <use xlink:href=\"#DejaVuSans-2e\" x=\"63.623047\"/>\n     <use xlink:href=\"#DejaVuSans-30\" x=\"95.410156\"/>\n     <use xlink:href=\"#DejaVuSans-30\" x=\"159.033203\"/>\n     <use xlink:href=\"#DejaVuSans-32\" x=\"222.65625\"/>\n     <use xlink:href=\"#DejaVuSans-39\" x=\"286.279297\"/>\n    </g>\n   </g>\n   <g id=\"text_24\">\n    <!-- 0.004 -->\n    <g style=\"fill: #ffffff\" transform=\"translate(197.052063 29.363375) scale(0.1 -0.1)\">\n     <use xlink:href=\"#DejaVuSans-30\"/>\n     <use xlink:href=\"#DejaVuSans-2e\" x=\"63.623047\"/>\n     <use xlink:href=\"#DejaVuSans-30\" x=\"95.410156\"/>\n     <use xlink:href=\"#DejaVuSans-30\" x=\"159.033203\"/>\n     <use xlink:href=\"#DejaVuSans-34\" x=\"222.65625\"/>\n    </g>\n   </g>\n   <g id=\"text_25\">\n    <!-- 0 -->\n    <g style=\"fill: #ffffff\" transform=\"translate(261.752875 29.363375) scale(0.1 -0.1)\">\n     <use xlink:href=\"#DejaVuSans-30\"/>\n    </g>\n   </g>\n   <g id=\"text_26\">\n    <!-- 0.009 -->\n    <g style=\"fill: #ffffff\" transform=\"translate(304.188063 29.363375) scale(0.1 -0.1)\">\n     <use xlink:href=\"#DejaVuSans-30\"/>\n     <use xlink:href=\"#DejaVuSans-2e\" x=\"63.623047\"/>\n     <use xlink:href=\"#DejaVuSans-30\" x=\"95.410156\"/>\n     <use xlink:href=\"#DejaVuSans-30\" x=\"159.033203\"/>\n     <use xlink:href=\"#DejaVuSans-39\" x=\"222.65625\"/>\n    </g>\n   </g>\n   <g id=\"text_27\">\n    <!-- 0.0094 -->\n    <g style=\"fill: #ffffff\" transform=\"translate(354.574813 29.363375) scale(0.1 -0.1)\">\n     <use xlink:href=\"#DejaVuSans-30\"/>\n     <use xlink:href=\"#DejaVuSans-2e\" x=\"63.623047\"/>\n     <use xlink:href=\"#DejaVuSans-30\" x=\"95.410156\"/>\n     <use xlink:href=\"#DejaVuSans-30\" x=\"159.033203\"/>\n     <use xlink:href=\"#DejaVuSans-39\" x=\"222.65625\"/>\n     <use xlink:href=\"#DejaVuSans-34\" x=\"286.279297\"/>\n    </g>\n   </g>\n   <g id=\"text_28\">\n    <!-- 0.0029 -->\n    <g style=\"fill: #ffffff\" transform=\"translate(408.142813 29.363375) scale(0.1 -0.1)\">\n     <use xlink:href=\"#DejaVuSans-30\"/>\n     <use xlink:href=\"#DejaVuSans-2e\" x=\"63.623047\"/>\n     <use xlink:href=\"#DejaVuSans-30\" x=\"95.410156\"/>\n     <use xlink:href=\"#DejaVuSans-30\" x=\"159.033203\"/>\n     <use xlink:href=\"#DejaVuSans-32\" x=\"222.65625\"/>\n     <use xlink:href=\"#DejaVuSans-39\" x=\"286.279297\"/>\n    </g>\n   </g>\n   <g id=\"text_29\">\n    <!-- 0.0031 -->\n    <g style=\"fill: #ffffff\" transform=\"translate(461.710813 29.363375) scale(0.1 -0.1)\">\n     <use xlink:href=\"#DejaVuSans-30\"/>\n     <use xlink:href=\"#DejaVuSans-2e\" x=\"63.623047\"/>\n     <use xlink:href=\"#DejaVuSans-30\" x=\"95.410156\"/>\n     <use xlink:href=\"#DejaVuSans-30\" x=\"159.033203\"/>\n     <use xlink:href=\"#DejaVuSans-33\" x=\"222.65625\"/>\n     <use xlink:href=\"#DejaVuSans-31\" x=\"286.279297\"/>\n    </g>\n   </g>\n   <g id=\"text_30\">\n    <!-- 0.00099 -->\n    <g style=\"fill: #ffffff\" transform=\"translate(512.097563 29.363375) scale(0.1 -0.1)\">\n     <use xlink:href=\"#DejaVuSans-30\"/>\n     <use xlink:href=\"#DejaVuSans-2e\" x=\"63.623047\"/>\n     <use xlink:href=\"#DejaVuSans-30\" x=\"95.410156\"/>\n     <use xlink:href=\"#DejaVuSans-30\" x=\"159.033203\"/>\n     <use xlink:href=\"#DejaVuSans-30\" x=\"222.65625\"/>\n     <use xlink:href=\"#DejaVuSans-39\" x=\"286.279297\"/>\n     <use xlink:href=\"#DejaVuSans-39\" x=\"349.902344\"/>\n    </g>\n   </g>\n   <g id=\"text_31\">\n    <!-- 0 -->\n    <g style=\"fill: #ffffff\" transform=\"translate(47.480875 68.171375) scale(0.1 -0.1)\">\n     <use xlink:href=\"#DejaVuSans-30\"/>\n    </g>\n   </g>\n   <g id=\"text_32\">\n    <!-- 0.98 -->\n    <g style=\"fill: #262626\" transform=\"translate(93.097313 68.171375) scale(0.1 -0.1)\">\n     <use xlink:href=\"#DejaVuSans-30\"/>\n     <use xlink:href=\"#DejaVuSans-2e\" x=\"63.623047\"/>\n     <use xlink:href=\"#DejaVuSans-39\" x=\"95.410156\"/>\n     <use xlink:href=\"#DejaVuSans-38\" x=\"159.033203\"/>\n    </g>\n   </g>\n   <g id=\"text_33\">\n    <!-- 0.0019 -->\n    <g style=\"fill: #ffffff\" transform=\"translate(140.302813 68.171375) scale(0.1 -0.1)\">\n     <use xlink:href=\"#DejaVuSans-30\"/>\n     <use xlink:href=\"#DejaVuSans-2e\" x=\"63.623047\"/>\n     <use xlink:href=\"#DejaVuSans-30\" x=\"95.410156\"/>\n     <use xlink:href=\"#DejaVuSans-30\" x=\"159.033203\"/>\n     <use xlink:href=\"#DejaVuSans-31\" x=\"222.65625\"/>\n     <use xlink:href=\"#DejaVuSans-39\" x=\"286.279297\"/>\n    </g>\n   </g>\n   <g id=\"text_34\">\n    <!-- 0.002 -->\n    <g style=\"fill: #ffffff\" transform=\"translate(197.052063 68.171375) scale(0.1 -0.1)\">\n     <use xlink:href=\"#DejaVuSans-30\"/>\n     <use xlink:href=\"#DejaVuSans-2e\" x=\"63.623047\"/>\n     <use xlink:href=\"#DejaVuSans-30\" x=\"95.410156\"/>\n     <use xlink:href=\"#DejaVuSans-30\" x=\"159.033203\"/>\n     <use xlink:href=\"#DejaVuSans-32\" x=\"222.65625\"/>\n    </g>\n   </g>\n   <g id=\"text_35\">\n    <!-- 0 -->\n    <g style=\"fill: #ffffff\" transform=\"translate(261.752875 68.171375) scale(0.1 -0.1)\">\n     <use xlink:href=\"#DejaVuSans-30\"/>\n    </g>\n   </g>\n   <g id=\"text_36\">\n    <!-- 0.0022 -->\n    <g style=\"fill: #ffffff\" transform=\"translate(301.006813 68.171375) scale(0.1 -0.1)\">\n     <use xlink:href=\"#DejaVuSans-30\"/>\n     <use xlink:href=\"#DejaVuSans-2e\" x=\"63.623047\"/>\n     <use xlink:href=\"#DejaVuSans-30\" x=\"95.410156\"/>\n     <use xlink:href=\"#DejaVuSans-30\" x=\"159.033203\"/>\n     <use xlink:href=\"#DejaVuSans-32\" x=\"222.65625\"/>\n     <use xlink:href=\"#DejaVuSans-32\" x=\"286.279297\"/>\n    </g>\n   </g>\n   <g id=\"text_37\">\n    <!-- 0.0042 -->\n    <g style=\"fill: #ffffff\" transform=\"translate(354.574813 68.171375) scale(0.1 -0.1)\">\n     <use xlink:href=\"#DejaVuSans-30\"/>\n     <use xlink:href=\"#DejaVuSans-2e\" x=\"63.623047\"/>\n     <use xlink:href=\"#DejaVuSans-30\" x=\"95.410156\"/>\n     <use xlink:href=\"#DejaVuSans-30\" x=\"159.033203\"/>\n     <use xlink:href=\"#DejaVuSans-34\" x=\"222.65625\"/>\n     <use xlink:href=\"#DejaVuSans-32\" x=\"286.279297\"/>\n    </g>\n   </g>\n   <g id=\"text_38\">\n    <!-- 0.0019 -->\n    <g style=\"fill: #ffffff\" transform=\"translate(408.142813 68.171375) scale(0.1 -0.1)\">\n     <use xlink:href=\"#DejaVuSans-30\"/>\n     <use xlink:href=\"#DejaVuSans-2e\" x=\"63.623047\"/>\n     <use xlink:href=\"#DejaVuSans-30\" x=\"95.410156\"/>\n     <use xlink:href=\"#DejaVuSans-30\" x=\"159.033203\"/>\n     <use xlink:href=\"#DejaVuSans-31\" x=\"222.65625\"/>\n     <use xlink:href=\"#DejaVuSans-39\" x=\"286.279297\"/>\n    </g>\n   </g>\n   <g id=\"text_39\">\n    <!-- 0.0082 -->\n    <g style=\"fill: #ffffff\" transform=\"translate(461.710813 68.171375) scale(0.1 -0.1)\">\n     <use xlink:href=\"#DejaVuSans-30\"/>\n     <use xlink:href=\"#DejaVuSans-2e\" x=\"63.623047\"/>\n     <use xlink:href=\"#DejaVuSans-30\" x=\"95.410156\"/>\n     <use xlink:href=\"#DejaVuSans-30\" x=\"159.033203\"/>\n     <use xlink:href=\"#DejaVuSans-38\" x=\"222.65625\"/>\n     <use xlink:href=\"#DejaVuSans-32\" x=\"286.279297\"/>\n    </g>\n   </g>\n   <g id=\"text_40\">\n    <!-- 0 -->\n    <g style=\"fill: #ffffff\" transform=\"translate(529.592875 68.171375) scale(0.1 -0.1)\">\n     <use xlink:href=\"#DejaVuSans-30\"/>\n    </g>\n   </g>\n   <g id=\"text_41\">\n    <!-- 0.0031 -->\n    <g style=\"fill: #ffffff\" transform=\"translate(33.166813 106.979375) scale(0.1 -0.1)\">\n     <use xlink:href=\"#DejaVuSans-30\"/>\n     <use xlink:href=\"#DejaVuSans-2e\" x=\"63.623047\"/>\n     <use xlink:href=\"#DejaVuSans-30\" x=\"95.410156\"/>\n     <use xlink:href=\"#DejaVuSans-30\" x=\"159.033203\"/>\n     <use xlink:href=\"#DejaVuSans-33\" x=\"222.65625\"/>\n     <use xlink:href=\"#DejaVuSans-31\" x=\"286.279297\"/>\n    </g>\n   </g>\n   <g id=\"text_42\">\n    <!-- 0.011 -->\n    <g style=\"fill: #ffffff\" transform=\"translate(89.916063 106.979375) scale(0.1 -0.1)\">\n     <use xlink:href=\"#DejaVuSans-30\"/>\n     <use xlink:href=\"#DejaVuSans-2e\" x=\"63.623047\"/>\n     <use xlink:href=\"#DejaVuSans-30\" x=\"95.410156\"/>\n     <use xlink:href=\"#DejaVuSans-31\" x=\"159.033203\"/>\n     <use xlink:href=\"#DejaVuSans-31\" x=\"222.65625\"/>\n    </g>\n   </g>\n   <g id=\"text_43\">\n    <!-- 0.89 -->\n    <g style=\"fill: #262626\" transform=\"translate(146.665313 106.979375) scale(0.1 -0.1)\">\n     <use xlink:href=\"#DejaVuSans-30\"/>\n     <use xlink:href=\"#DejaVuSans-2e\" x=\"63.623047\"/>\n     <use xlink:href=\"#DejaVuSans-38\" x=\"95.410156\"/>\n     <use xlink:href=\"#DejaVuSans-39\" x=\"159.033203\"/>\n    </g>\n   </g>\n   <g id=\"text_44\">\n    <!-- 0.018 -->\n    <g style=\"fill: #ffffff\" transform=\"translate(197.052063 106.979375) scale(0.1 -0.1)\">\n     <use xlink:href=\"#DejaVuSans-30\"/>\n     <use xlink:href=\"#DejaVuSans-2e\" x=\"63.623047\"/>\n     <use xlink:href=\"#DejaVuSans-30\" x=\"95.410156\"/>\n     <use xlink:href=\"#DejaVuSans-31\" x=\"159.033203\"/>\n     <use xlink:href=\"#DejaVuSans-38\" x=\"222.65625\"/>\n    </g>\n   </g>\n   <g id=\"text_45\">\n    <!-- 0.0081 -->\n    <g style=\"fill: #ffffff\" transform=\"translate(247.438813 106.979375) scale(0.1 -0.1)\">\n     <use xlink:href=\"#DejaVuSans-30\"/>\n     <use xlink:href=\"#DejaVuSans-2e\" x=\"63.623047\"/>\n     <use xlink:href=\"#DejaVuSans-30\" x=\"95.410156\"/>\n     <use xlink:href=\"#DejaVuSans-30\" x=\"159.033203\"/>\n     <use xlink:href=\"#DejaVuSans-38\" x=\"222.65625\"/>\n     <use xlink:href=\"#DejaVuSans-31\" x=\"286.279297\"/>\n    </g>\n   </g>\n   <g id=\"text_46\">\n    <!-- 0.0045 -->\n    <g style=\"fill: #ffffff\" transform=\"translate(301.006813 106.979375) scale(0.1 -0.1)\">\n     <use xlink:href=\"#DejaVuSans-30\"/>\n     <use xlink:href=\"#DejaVuSans-2e\" x=\"63.623047\"/>\n     <use xlink:href=\"#DejaVuSans-30\" x=\"95.410156\"/>\n     <use xlink:href=\"#DejaVuSans-30\" x=\"159.033203\"/>\n     <use xlink:href=\"#DejaVuSans-34\" x=\"222.65625\"/>\n     <use xlink:href=\"#DejaVuSans-35\" x=\"286.279297\"/>\n    </g>\n   </g>\n   <g id=\"text_47\">\n    <!-- 0.014 -->\n    <g style=\"fill: #ffffff\" transform=\"translate(357.756063 106.979375) scale(0.1 -0.1)\">\n     <use xlink:href=\"#DejaVuSans-30\"/>\n     <use xlink:href=\"#DejaVuSans-2e\" x=\"63.623047\"/>\n     <use xlink:href=\"#DejaVuSans-30\" x=\"95.410156\"/>\n     <use xlink:href=\"#DejaVuSans-31\" x=\"159.033203\"/>\n     <use xlink:href=\"#DejaVuSans-34\" x=\"222.65625\"/>\n    </g>\n   </g>\n   <g id=\"text_48\">\n    <!-- 0.0078 -->\n    <g style=\"fill: #ffffff\" transform=\"translate(408.142813 106.979375) scale(0.1 -0.1)\">\n     <use xlink:href=\"#DejaVuSans-30\"/>\n     <use xlink:href=\"#DejaVuSans-2e\" x=\"63.623047\"/>\n     <use xlink:href=\"#DejaVuSans-30\" x=\"95.410156\"/>\n     <use xlink:href=\"#DejaVuSans-30\" x=\"159.033203\"/>\n     <use xlink:href=\"#DejaVuSans-37\" x=\"222.65625\"/>\n     <use xlink:href=\"#DejaVuSans-38\" x=\"286.279297\"/>\n    </g>\n   </g>\n   <g id=\"text_49\">\n    <!-- 0.042 -->\n    <g style=\"fill: #ffffff\" transform=\"translate(464.892063 106.979375) scale(0.1 -0.1)\">\n     <use xlink:href=\"#DejaVuSans-30\"/>\n     <use xlink:href=\"#DejaVuSans-2e\" x=\"63.623047\"/>\n     <use xlink:href=\"#DejaVuSans-30\" x=\"95.410156\"/>\n     <use xlink:href=\"#DejaVuSans-34\" x=\"159.033203\"/>\n     <use xlink:href=\"#DejaVuSans-32\" x=\"222.65625\"/>\n    </g>\n   </g>\n   <g id=\"text_50\">\n    <!-- 0.0069 -->\n    <g style=\"fill: #ffffff\" transform=\"translate(515.278813 106.979375) scale(0.1 -0.1)\">\n     <use xlink:href=\"#DejaVuSans-30\"/>\n     <use xlink:href=\"#DejaVuSans-2e\" x=\"63.623047\"/>\n     <use xlink:href=\"#DejaVuSans-30\" x=\"95.410156\"/>\n     <use xlink:href=\"#DejaVuSans-30\" x=\"159.033203\"/>\n     <use xlink:href=\"#DejaVuSans-36\" x=\"222.65625\"/>\n     <use xlink:href=\"#DejaVuSans-39\" x=\"286.279297\"/>\n    </g>\n   </g>\n   <g id=\"text_51\">\n    <!-- 0.001 -->\n    <g style=\"fill: #ffffff\" transform=\"translate(36.348063 145.787375) scale(0.1 -0.1)\">\n     <use xlink:href=\"#DejaVuSans-30\"/>\n     <use xlink:href=\"#DejaVuSans-2e\" x=\"63.623047\"/>\n     <use xlink:href=\"#DejaVuSans-30\" x=\"95.410156\"/>\n     <use xlink:href=\"#DejaVuSans-30\" x=\"159.033203\"/>\n     <use xlink:href=\"#DejaVuSans-31\" x=\"222.65625\"/>\n    </g>\n   </g>\n   <g id=\"text_52\">\n    <!-- 0.00088 -->\n    <g style=\"fill: #ffffff\" transform=\"translate(83.553563 145.787375) scale(0.1 -0.1)\">\n     <use xlink:href=\"#DejaVuSans-30\"/>\n     <use xlink:href=\"#DejaVuSans-2e\" x=\"63.623047\"/>\n     <use xlink:href=\"#DejaVuSans-30\" x=\"95.410156\"/>\n     <use xlink:href=\"#DejaVuSans-30\" x=\"159.033203\"/>\n     <use xlink:href=\"#DejaVuSans-30\" x=\"222.65625\"/>\n     <use xlink:href=\"#DejaVuSans-38\" x=\"286.279297\"/>\n     <use xlink:href=\"#DejaVuSans-38\" x=\"349.902344\"/>\n    </g>\n   </g>\n   <g id=\"text_53\">\n    <!-- 0.016 -->\n    <g style=\"fill: #ffffff\" transform=\"translate(143.484063 145.787375) scale(0.1 -0.1)\">\n     <use xlink:href=\"#DejaVuSans-30\"/>\n     <use xlink:href=\"#DejaVuSans-2e\" x=\"63.623047\"/>\n     <use xlink:href=\"#DejaVuSans-30\" x=\"95.410156\"/>\n     <use xlink:href=\"#DejaVuSans-31\" x=\"159.033203\"/>\n     <use xlink:href=\"#DejaVuSans-36\" x=\"222.65625\"/>\n    </g>\n   </g>\n   <g id=\"text_54\">\n    <!-- 0.92 -->\n    <g style=\"fill: #262626\" transform=\"translate(200.233313 145.787375) scale(0.1 -0.1)\">\n     <use xlink:href=\"#DejaVuSans-30\"/>\n     <use xlink:href=\"#DejaVuSans-2e\" x=\"63.623047\"/>\n     <use xlink:href=\"#DejaVuSans-39\" x=\"95.410156\"/>\n     <use xlink:href=\"#DejaVuSans-32\" x=\"159.033203\"/>\n    </g>\n   </g>\n   <g id=\"text_55\">\n    <!-- 0 -->\n    <g style=\"fill: #ffffff\" transform=\"translate(261.752875 145.787375) scale(0.1 -0.1)\">\n     <use xlink:href=\"#DejaVuSans-30\"/>\n    </g>\n   </g>\n   <g id=\"text_56\">\n    <!-- 0.025 -->\n    <g style=\"fill: #ffffff\" transform=\"translate(304.188063 145.787375) scale(0.1 -0.1)\">\n     <use xlink:href=\"#DejaVuSans-30\"/>\n     <use xlink:href=\"#DejaVuSans-2e\" x=\"63.623047\"/>\n     <use xlink:href=\"#DejaVuSans-30\" x=\"95.410156\"/>\n     <use xlink:href=\"#DejaVuSans-32\" x=\"159.033203\"/>\n     <use xlink:href=\"#DejaVuSans-35\" x=\"222.65625\"/>\n    </g>\n   </g>\n   <g id=\"text_57\">\n    <!-- 0.0031 -->\n    <g style=\"fill: #ffffff\" transform=\"translate(354.574813 145.787375) scale(0.1 -0.1)\">\n     <use xlink:href=\"#DejaVuSans-30\"/>\n     <use xlink:href=\"#DejaVuSans-2e\" x=\"63.623047\"/>\n     <use xlink:href=\"#DejaVuSans-30\" x=\"95.410156\"/>\n     <use xlink:href=\"#DejaVuSans-30\" x=\"159.033203\"/>\n     <use xlink:href=\"#DejaVuSans-33\" x=\"222.65625\"/>\n     <use xlink:href=\"#DejaVuSans-31\" x=\"286.279297\"/>\n    </g>\n   </g>\n   <g id=\"text_58\">\n    <!-- 0.0097 -->\n    <g style=\"fill: #ffffff\" transform=\"translate(408.142813 145.787375) scale(0.1 -0.1)\">\n     <use xlink:href=\"#DejaVuSans-30\"/>\n     <use xlink:href=\"#DejaVuSans-2e\" x=\"63.623047\"/>\n     <use xlink:href=\"#DejaVuSans-30\" x=\"95.410156\"/>\n     <use xlink:href=\"#DejaVuSans-30\" x=\"159.033203\"/>\n     <use xlink:href=\"#DejaVuSans-39\" x=\"222.65625\"/>\n     <use xlink:href=\"#DejaVuSans-37\" x=\"286.279297\"/>\n    </g>\n   </g>\n   <g id=\"text_59\">\n    <!-- 0.025 -->\n    <g style=\"fill: #ffffff\" transform=\"translate(464.892063 145.787375) scale(0.1 -0.1)\">\n     <use xlink:href=\"#DejaVuSans-30\"/>\n     <use xlink:href=\"#DejaVuSans-2e\" x=\"63.623047\"/>\n     <use xlink:href=\"#DejaVuSans-30\" x=\"95.410156\"/>\n     <use xlink:href=\"#DejaVuSans-32\" x=\"159.033203\"/>\n     <use xlink:href=\"#DejaVuSans-35\" x=\"222.65625\"/>\n    </g>\n   </g>\n   <g id=\"text_60\">\n    <!-- 0.004 -->\n    <g style=\"fill: #ffffff\" transform=\"translate(518.460063 145.787375) scale(0.1 -0.1)\">\n     <use xlink:href=\"#DejaVuSans-30\"/>\n     <use xlink:href=\"#DejaVuSans-2e\" x=\"63.623047\"/>\n     <use xlink:href=\"#DejaVuSans-30\" x=\"95.410156\"/>\n     <use xlink:href=\"#DejaVuSans-30\" x=\"159.033203\"/>\n     <use xlink:href=\"#DejaVuSans-34\" x=\"222.65625\"/>\n    </g>\n   </g>\n   <g id=\"text_61\">\n    <!-- 0.001 -->\n    <g style=\"fill: #ffffff\" transform=\"translate(36.348063 184.595375) scale(0.1 -0.1)\">\n     <use xlink:href=\"#DejaVuSans-30\"/>\n     <use xlink:href=\"#DejaVuSans-2e\" x=\"63.623047\"/>\n     <use xlink:href=\"#DejaVuSans-30\" x=\"95.410156\"/>\n     <use xlink:href=\"#DejaVuSans-30\" x=\"159.033203\"/>\n     <use xlink:href=\"#DejaVuSans-31\" x=\"222.65625\"/>\n    </g>\n   </g>\n   <g id=\"text_62\">\n    <!-- 0.0026 -->\n    <g style=\"fill: #ffffff\" transform=\"translate(86.734813 184.595375) scale(0.1 -0.1)\">\n     <use xlink:href=\"#DejaVuSans-30\"/>\n     <use xlink:href=\"#DejaVuSans-2e\" x=\"63.623047\"/>\n     <use xlink:href=\"#DejaVuSans-30\" x=\"95.410156\"/>\n     <use xlink:href=\"#DejaVuSans-30\" x=\"159.033203\"/>\n     <use xlink:href=\"#DejaVuSans-32\" x=\"222.65625\"/>\n     <use xlink:href=\"#DejaVuSans-36\" x=\"286.279297\"/>\n    </g>\n   </g>\n   <g id=\"text_63\">\n    <!-- 0.0048 -->\n    <g style=\"fill: #ffffff\" transform=\"translate(140.302813 184.595375) scale(0.1 -0.1)\">\n     <use xlink:href=\"#DejaVuSans-30\"/>\n     <use xlink:href=\"#DejaVuSans-2e\" x=\"63.623047\"/>\n     <use xlink:href=\"#DejaVuSans-30\" x=\"95.410156\"/>\n     <use xlink:href=\"#DejaVuSans-30\" x=\"159.033203\"/>\n     <use xlink:href=\"#DejaVuSans-34\" x=\"222.65625\"/>\n     <use xlink:href=\"#DejaVuSans-38\" x=\"286.279297\"/>\n    </g>\n   </g>\n   <g id=\"text_64\">\n    <!-- 0.002 -->\n    <g style=\"fill: #ffffff\" transform=\"translate(197.052063 184.595375) scale(0.1 -0.1)\">\n     <use xlink:href=\"#DejaVuSans-30\"/>\n     <use xlink:href=\"#DejaVuSans-2e\" x=\"63.623047\"/>\n     <use xlink:href=\"#DejaVuSans-30\" x=\"95.410156\"/>\n     <use xlink:href=\"#DejaVuSans-30\" x=\"159.033203\"/>\n     <use xlink:href=\"#DejaVuSans-32\" x=\"222.65625\"/>\n    </g>\n   </g>\n   <g id=\"text_65\">\n    <!-- 0.94 -->\n    <g style=\"fill: #262626\" transform=\"translate(253.801313 184.595375) scale(0.1 -0.1)\">\n     <use xlink:href=\"#DejaVuSans-30\"/>\n     <use xlink:href=\"#DejaVuSans-2e\" x=\"63.623047\"/>\n     <use xlink:href=\"#DejaVuSans-39\" x=\"95.410156\"/>\n     <use xlink:href=\"#DejaVuSans-34\" x=\"159.033203\"/>\n    </g>\n   </g>\n   <g id=\"text_66\">\n    <!-- 0 -->\n    <g style=\"fill: #ffffff\" transform=\"translate(315.320875 184.595375) scale(0.1 -0.1)\">\n     <use xlink:href=\"#DejaVuSans-30\"/>\n    </g>\n   </g>\n   <g id=\"text_67\">\n    <!-- 0.01 -->\n    <g style=\"fill: #ffffff\" transform=\"translate(360.937313 184.595375) scale(0.1 -0.1)\">\n     <use xlink:href=\"#DejaVuSans-30\"/>\n     <use xlink:href=\"#DejaVuSans-2e\" x=\"63.623047\"/>\n     <use xlink:href=\"#DejaVuSans-30\" x=\"95.410156\"/>\n     <use xlink:href=\"#DejaVuSans-31\" x=\"159.033203\"/>\n    </g>\n   </g>\n   <g id=\"text_68\">\n    <!-- 0.0039 -->\n    <g style=\"fill: #ffffff\" transform=\"translate(408.142813 184.595375) scale(0.1 -0.1)\">\n     <use xlink:href=\"#DejaVuSans-30\"/>\n     <use xlink:href=\"#DejaVuSans-2e\" x=\"63.623047\"/>\n     <use xlink:href=\"#DejaVuSans-30\" x=\"95.410156\"/>\n     <use xlink:href=\"#DejaVuSans-30\" x=\"159.033203\"/>\n     <use xlink:href=\"#DejaVuSans-33\" x=\"222.65625\"/>\n     <use xlink:href=\"#DejaVuSans-39\" x=\"286.279297\"/>\n    </g>\n   </g>\n   <g id=\"text_69\">\n    <!-- 0.01 -->\n    <g style=\"fill: #ffffff\" transform=\"translate(468.073313 184.595375) scale(0.1 -0.1)\">\n     <use xlink:href=\"#DejaVuSans-30\"/>\n     <use xlink:href=\"#DejaVuSans-2e\" x=\"63.623047\"/>\n     <use xlink:href=\"#DejaVuSans-30\" x=\"95.410156\"/>\n     <use xlink:href=\"#DejaVuSans-31\" x=\"159.033203\"/>\n    </g>\n   </g>\n   <g id=\"text_70\">\n    <!-- 0.028 -->\n    <g style=\"fill: #ffffff\" transform=\"translate(518.460063 184.595375) scale(0.1 -0.1)\">\n     <use xlink:href=\"#DejaVuSans-30\"/>\n     <use xlink:href=\"#DejaVuSans-2e\" x=\"63.623047\"/>\n     <use xlink:href=\"#DejaVuSans-30\" x=\"95.410156\"/>\n     <use xlink:href=\"#DejaVuSans-32\" x=\"159.033203\"/>\n     <use xlink:href=\"#DejaVuSans-38\" x=\"222.65625\"/>\n    </g>\n   </g>\n   <g id=\"text_71\">\n    <!-- 0.0082 -->\n    <g style=\"fill: #ffffff\" transform=\"translate(33.166813 223.403375) scale(0.1 -0.1)\">\n     <use xlink:href=\"#DejaVuSans-30\"/>\n     <use xlink:href=\"#DejaVuSans-2e\" x=\"63.623047\"/>\n     <use xlink:href=\"#DejaVuSans-30\" x=\"95.410156\"/>\n     <use xlink:href=\"#DejaVuSans-30\" x=\"159.033203\"/>\n     <use xlink:href=\"#DejaVuSans-38\" x=\"222.65625\"/>\n     <use xlink:href=\"#DejaVuSans-32\" x=\"286.279297\"/>\n    </g>\n   </g>\n   <g id=\"text_72\">\n    <!-- 0.0018 -->\n    <g style=\"fill: #ffffff\" transform=\"translate(86.734813 223.403375) scale(0.1 -0.1)\">\n     <use xlink:href=\"#DejaVuSans-30\"/>\n     <use xlink:href=\"#DejaVuSans-2e\" x=\"63.623047\"/>\n     <use xlink:href=\"#DejaVuSans-30\" x=\"95.410156\"/>\n     <use xlink:href=\"#DejaVuSans-30\" x=\"159.033203\"/>\n     <use xlink:href=\"#DejaVuSans-31\" x=\"222.65625\"/>\n     <use xlink:href=\"#DejaVuSans-38\" x=\"286.279297\"/>\n    </g>\n   </g>\n   <g id=\"text_73\">\n    <!-- 0.0029 -->\n    <g style=\"fill: #ffffff\" transform=\"translate(140.302813 223.403375) scale(0.1 -0.1)\">\n     <use xlink:href=\"#DejaVuSans-30\"/>\n     <use xlink:href=\"#DejaVuSans-2e\" x=\"63.623047\"/>\n     <use xlink:href=\"#DejaVuSans-30\" x=\"95.410156\"/>\n     <use xlink:href=\"#DejaVuSans-30\" x=\"159.033203\"/>\n     <use xlink:href=\"#DejaVuSans-32\" x=\"222.65625\"/>\n     <use xlink:href=\"#DejaVuSans-39\" x=\"286.279297\"/>\n    </g>\n   </g>\n   <g id=\"text_74\">\n    <!-- 0.035 -->\n    <g style=\"fill: #ffffff\" transform=\"translate(197.052063 223.403375) scale(0.1 -0.1)\">\n     <use xlink:href=\"#DejaVuSans-30\"/>\n     <use xlink:href=\"#DejaVuSans-2e\" x=\"63.623047\"/>\n     <use xlink:href=\"#DejaVuSans-30\" x=\"95.410156\"/>\n     <use xlink:href=\"#DejaVuSans-33\" x=\"159.033203\"/>\n     <use xlink:href=\"#DejaVuSans-35\" x=\"222.65625\"/>\n    </g>\n   </g>\n   <g id=\"text_75\">\n    <!-- 0.011 -->\n    <g style=\"fill: #ffffff\" transform=\"translate(250.620063 223.403375) scale(0.1 -0.1)\">\n     <use xlink:href=\"#DejaVuSans-30\"/>\n     <use xlink:href=\"#DejaVuSans-2e\" x=\"63.623047\"/>\n     <use xlink:href=\"#DejaVuSans-30\" x=\"95.410156\"/>\n     <use xlink:href=\"#DejaVuSans-31\" x=\"159.033203\"/>\n     <use xlink:href=\"#DejaVuSans-31\" x=\"222.65625\"/>\n    </g>\n   </g>\n   <g id=\"text_76\">\n    <!-- 0.87 -->\n    <g style=\"fill: #262626\" transform=\"translate(307.369313 223.403375) scale(0.1 -0.1)\">\n     <use xlink:href=\"#DejaVuSans-30\"/>\n     <use xlink:href=\"#DejaVuSans-2e\" x=\"63.623047\"/>\n     <use xlink:href=\"#DejaVuSans-38\" x=\"95.410156\"/>\n     <use xlink:href=\"#DejaVuSans-37\" x=\"159.033203\"/>\n    </g>\n   </g>\n   <g id=\"text_77\">\n    <!-- 0.016 -->\n    <g style=\"fill: #ffffff\" transform=\"translate(357.756063 223.403375) scale(0.1 -0.1)\">\n     <use xlink:href=\"#DejaVuSans-30\"/>\n     <use xlink:href=\"#DejaVuSans-2e\" x=\"63.623047\"/>\n     <use xlink:href=\"#DejaVuSans-30\" x=\"95.410156\"/>\n     <use xlink:href=\"#DejaVuSans-31\" x=\"159.033203\"/>\n     <use xlink:href=\"#DejaVuSans-36\" x=\"222.65625\"/>\n    </g>\n   </g>\n   <g id=\"text_78\">\n    <!-- 0.0049 -->\n    <g style=\"fill: #ffffff\" transform=\"translate(408.142813 223.403375) scale(0.1 -0.1)\">\n     <use xlink:href=\"#DejaVuSans-30\"/>\n     <use xlink:href=\"#DejaVuSans-2e\" x=\"63.623047\"/>\n     <use xlink:href=\"#DejaVuSans-30\" x=\"95.410156\"/>\n     <use xlink:href=\"#DejaVuSans-30\" x=\"159.033203\"/>\n     <use xlink:href=\"#DejaVuSans-34\" x=\"222.65625\"/>\n     <use xlink:href=\"#DejaVuSans-39\" x=\"286.279297\"/>\n    </g>\n   </g>\n   <g id=\"text_79\">\n    <!-- 0.034 -->\n    <g style=\"fill: #ffffff\" transform=\"translate(464.892063 223.403375) scale(0.1 -0.1)\">\n     <use xlink:href=\"#DejaVuSans-30\"/>\n     <use xlink:href=\"#DejaVuSans-2e\" x=\"63.623047\"/>\n     <use xlink:href=\"#DejaVuSans-30\" x=\"95.410156\"/>\n     <use xlink:href=\"#DejaVuSans-33\" x=\"159.033203\"/>\n     <use xlink:href=\"#DejaVuSans-34\" x=\"222.65625\"/>\n    </g>\n   </g>\n   <g id=\"text_80\">\n    <!-- 0.005 -->\n    <g style=\"fill: #ffffff\" transform=\"translate(518.460063 223.403375) scale(0.1 -0.1)\">\n     <use xlink:href=\"#DejaVuSans-30\"/>\n     <use xlink:href=\"#DejaVuSans-2e\" x=\"63.623047\"/>\n     <use xlink:href=\"#DejaVuSans-30\" x=\"95.410156\"/>\n     <use xlink:href=\"#DejaVuSans-30\" x=\"159.033203\"/>\n     <use xlink:href=\"#DejaVuSans-35\" x=\"222.65625\"/>\n    </g>\n   </g>\n   <g id=\"text_81\">\n    <!-- 0.0082 -->\n    <g style=\"fill: #ffffff\" transform=\"translate(33.166813 262.211375) scale(0.1 -0.1)\">\n     <use xlink:href=\"#DejaVuSans-30\"/>\n     <use xlink:href=\"#DejaVuSans-2e\" x=\"63.623047\"/>\n     <use xlink:href=\"#DejaVuSans-30\" x=\"95.410156\"/>\n     <use xlink:href=\"#DejaVuSans-30\" x=\"159.033203\"/>\n     <use xlink:href=\"#DejaVuSans-38\" x=\"222.65625\"/>\n     <use xlink:href=\"#DejaVuSans-32\" x=\"286.279297\"/>\n    </g>\n   </g>\n   <g id=\"text_82\">\n    <!-- 0.0026 -->\n    <g style=\"fill: #ffffff\" transform=\"translate(86.734813 262.211375) scale(0.1 -0.1)\">\n     <use xlink:href=\"#DejaVuSans-30\"/>\n     <use xlink:href=\"#DejaVuSans-2e\" x=\"63.623047\"/>\n     <use xlink:href=\"#DejaVuSans-30\" x=\"95.410156\"/>\n     <use xlink:href=\"#DejaVuSans-30\" x=\"159.033203\"/>\n     <use xlink:href=\"#DejaVuSans-32\" x=\"222.65625\"/>\n     <use xlink:href=\"#DejaVuSans-36\" x=\"286.279297\"/>\n    </g>\n   </g>\n   <g id=\"text_83\">\n    <!-- 0.0058 -->\n    <g style=\"fill: #ffffff\" transform=\"translate(140.302813 262.211375) scale(0.1 -0.1)\">\n     <use xlink:href=\"#DejaVuSans-30\"/>\n     <use xlink:href=\"#DejaVuSans-2e\" x=\"63.623047\"/>\n     <use xlink:href=\"#DejaVuSans-30\" x=\"95.410156\"/>\n     <use xlink:href=\"#DejaVuSans-30\" x=\"159.033203\"/>\n     <use xlink:href=\"#DejaVuSans-35\" x=\"222.65625\"/>\n     <use xlink:href=\"#DejaVuSans-38\" x=\"286.279297\"/>\n    </g>\n   </g>\n   <g id=\"text_84\">\n    <!-- 0.00099 -->\n    <g style=\"fill: #ffffff\" transform=\"translate(190.689563 262.211375) scale(0.1 -0.1)\">\n     <use xlink:href=\"#DejaVuSans-30\"/>\n     <use xlink:href=\"#DejaVuSans-2e\" x=\"63.623047\"/>\n     <use xlink:href=\"#DejaVuSans-30\" x=\"95.410156\"/>\n     <use xlink:href=\"#DejaVuSans-30\" x=\"159.033203\"/>\n     <use xlink:href=\"#DejaVuSans-30\" x=\"222.65625\"/>\n     <use xlink:href=\"#DejaVuSans-39\" x=\"286.279297\"/>\n     <use xlink:href=\"#DejaVuSans-39\" x=\"349.902344\"/>\n    </g>\n   </g>\n   <g id=\"text_85\">\n    <!-- 0.0092 -->\n    <g style=\"fill: #ffffff\" transform=\"translate(247.438813 262.211375) scale(0.1 -0.1)\">\n     <use xlink:href=\"#DejaVuSans-30\"/>\n     <use xlink:href=\"#DejaVuSans-2e\" x=\"63.623047\"/>\n     <use xlink:href=\"#DejaVuSans-30\" x=\"95.410156\"/>\n     <use xlink:href=\"#DejaVuSans-30\" x=\"159.033203\"/>\n     <use xlink:href=\"#DejaVuSans-39\" x=\"222.65625\"/>\n     <use xlink:href=\"#DejaVuSans-32\" x=\"286.279297\"/>\n    </g>\n   </g>\n   <g id=\"text_86\">\n    <!-- 0.016 -->\n    <g style=\"fill: #ffffff\" transform=\"translate(304.188063 262.211375) scale(0.1 -0.1)\">\n     <use xlink:href=\"#DejaVuSans-30\"/>\n     <use xlink:href=\"#DejaVuSans-2e\" x=\"63.623047\"/>\n     <use xlink:href=\"#DejaVuSans-30\" x=\"95.410156\"/>\n     <use xlink:href=\"#DejaVuSans-31\" x=\"159.033203\"/>\n     <use xlink:href=\"#DejaVuSans-36\" x=\"222.65625\"/>\n    </g>\n   </g>\n   <g id=\"text_87\">\n    <!-- 0.95 -->\n    <g style=\"fill: #262626\" transform=\"translate(360.937313 262.211375) scale(0.1 -0.1)\">\n     <use xlink:href=\"#DejaVuSans-30\"/>\n     <use xlink:href=\"#DejaVuSans-2e\" x=\"63.623047\"/>\n     <use xlink:href=\"#DejaVuSans-39\" x=\"95.410156\"/>\n     <use xlink:href=\"#DejaVuSans-35\" x=\"159.033203\"/>\n    </g>\n   </g>\n   <g id=\"text_88\">\n    <!-- 0.0029 -->\n    <g style=\"fill: #ffffff\" transform=\"translate(408.142813 262.211375) scale(0.1 -0.1)\">\n     <use xlink:href=\"#DejaVuSans-30\"/>\n     <use xlink:href=\"#DejaVuSans-2e\" x=\"63.623047\"/>\n     <use xlink:href=\"#DejaVuSans-30\" x=\"95.410156\"/>\n     <use xlink:href=\"#DejaVuSans-30\" x=\"159.033203\"/>\n     <use xlink:href=\"#DejaVuSans-32\" x=\"222.65625\"/>\n     <use xlink:href=\"#DejaVuSans-39\" x=\"286.279297\"/>\n    </g>\n   </g>\n   <g id=\"text_89\">\n    <!-- 0.0031 -->\n    <g style=\"fill: #ffffff\" transform=\"translate(461.710813 262.211375) scale(0.1 -0.1)\">\n     <use xlink:href=\"#DejaVuSans-30\"/>\n     <use xlink:href=\"#DejaVuSans-2e\" x=\"63.623047\"/>\n     <use xlink:href=\"#DejaVuSans-30\" x=\"95.410156\"/>\n     <use xlink:href=\"#DejaVuSans-30\" x=\"159.033203\"/>\n     <use xlink:href=\"#DejaVuSans-33\" x=\"222.65625\"/>\n     <use xlink:href=\"#DejaVuSans-31\" x=\"286.279297\"/>\n    </g>\n   </g>\n   <g id=\"text_90\">\n    <!-- 0 -->\n    <g style=\"fill: #ffffff\" transform=\"translate(529.592875 262.211375) scale(0.1 -0.1)\">\n     <use xlink:href=\"#DejaVuSans-30\"/>\n    </g>\n   </g>\n   <g id=\"text_91\">\n    <!-- 0.001 -->\n    <g style=\"fill: #ffffff\" transform=\"translate(36.348063 301.019375) scale(0.1 -0.1)\">\n     <use xlink:href=\"#DejaVuSans-30\"/>\n     <use xlink:href=\"#DejaVuSans-2e\" x=\"63.623047\"/>\n     <use xlink:href=\"#DejaVuSans-30\" x=\"95.410156\"/>\n     <use xlink:href=\"#DejaVuSans-30\" x=\"159.033203\"/>\n     <use xlink:href=\"#DejaVuSans-31\" x=\"222.65625\"/>\n    </g>\n   </g>\n   <g id=\"text_92\">\n    <!-- 0.007 -->\n    <g style=\"fill: #ffffff\" transform=\"translate(89.916063 301.019375) scale(0.1 -0.1)\">\n     <use xlink:href=\"#DejaVuSans-30\"/>\n     <use xlink:href=\"#DejaVuSans-2e\" x=\"63.623047\"/>\n     <use xlink:href=\"#DejaVuSans-30\" x=\"95.410156\"/>\n     <use xlink:href=\"#DejaVuSans-30\" x=\"159.033203\"/>\n     <use xlink:href=\"#DejaVuSans-37\" x=\"222.65625\"/>\n    </g>\n   </g>\n   <g id=\"text_93\">\n    <!-- 0.022 -->\n    <g style=\"fill: #ffffff\" transform=\"translate(143.484063 301.019375) scale(0.1 -0.1)\">\n     <use xlink:href=\"#DejaVuSans-30\"/>\n     <use xlink:href=\"#DejaVuSans-2e\" x=\"63.623047\"/>\n     <use xlink:href=\"#DejaVuSans-30\" x=\"95.410156\"/>\n     <use xlink:href=\"#DejaVuSans-32\" x=\"159.033203\"/>\n     <use xlink:href=\"#DejaVuSans-32\" x=\"222.65625\"/>\n    </g>\n   </g>\n   <g id=\"text_94\">\n    <!-- 0.0099 -->\n    <g style=\"fill: #ffffff\" transform=\"translate(193.870813 301.019375) scale(0.1 -0.1)\">\n     <use xlink:href=\"#DejaVuSans-30\"/>\n     <use xlink:href=\"#DejaVuSans-2e\" x=\"63.623047\"/>\n     <use xlink:href=\"#DejaVuSans-30\" x=\"95.410156\"/>\n     <use xlink:href=\"#DejaVuSans-30\" x=\"159.033203\"/>\n     <use xlink:href=\"#DejaVuSans-39\" x=\"222.65625\"/>\n     <use xlink:href=\"#DejaVuSans-39\" x=\"286.279297\"/>\n    </g>\n   </g>\n   <g id=\"text_95\">\n    <!-- 0.0071 -->\n    <g style=\"fill: #ffffff\" transform=\"translate(247.438813 301.019375) scale(0.1 -0.1)\">\n     <use xlink:href=\"#DejaVuSans-30\"/>\n     <use xlink:href=\"#DejaVuSans-2e\" x=\"63.623047\"/>\n     <use xlink:href=\"#DejaVuSans-30\" x=\"95.410156\"/>\n     <use xlink:href=\"#DejaVuSans-30\" x=\"159.033203\"/>\n     <use xlink:href=\"#DejaVuSans-37\" x=\"222.65625\"/>\n     <use xlink:href=\"#DejaVuSans-31\" x=\"286.279297\"/>\n    </g>\n   </g>\n   <g id=\"text_96\">\n    <!-- 0.0011 -->\n    <g style=\"fill: #ffffff\" transform=\"translate(301.006813 301.019375) scale(0.1 -0.1)\">\n     <use xlink:href=\"#DejaVuSans-30\"/>\n     <use xlink:href=\"#DejaVuSans-2e\" x=\"63.623047\"/>\n     <use xlink:href=\"#DejaVuSans-30\" x=\"95.410156\"/>\n     <use xlink:href=\"#DejaVuSans-30\" x=\"159.033203\"/>\n     <use xlink:href=\"#DejaVuSans-31\" x=\"222.65625\"/>\n     <use xlink:href=\"#DejaVuSans-31\" x=\"286.279297\"/>\n    </g>\n   </g>\n   <g id=\"text_97\">\n    <!-- 0 -->\n    <g style=\"fill: #ffffff\" transform=\"translate(368.888875 301.019375) scale(0.1 -0.1)\">\n     <use xlink:href=\"#DejaVuSans-30\"/>\n    </g>\n   </g>\n   <g id=\"text_98\">\n    <!-- 0.93 -->\n    <g style=\"fill: #262626\" transform=\"translate(414.505313 301.019375) scale(0.1 -0.1)\">\n     <use xlink:href=\"#DejaVuSans-30\"/>\n     <use xlink:href=\"#DejaVuSans-2e\" x=\"63.623047\"/>\n     <use xlink:href=\"#DejaVuSans-39\" x=\"95.410156\"/>\n     <use xlink:href=\"#DejaVuSans-33\" x=\"159.033203\"/>\n    </g>\n   </g>\n   <g id=\"text_99\">\n    <!-- 0.0031 -->\n    <g style=\"fill: #ffffff\" transform=\"translate(461.710813 301.019375) scale(0.1 -0.1)\">\n     <use xlink:href=\"#DejaVuSans-30\"/>\n     <use xlink:href=\"#DejaVuSans-2e\" x=\"63.623047\"/>\n     <use xlink:href=\"#DejaVuSans-30\" x=\"95.410156\"/>\n     <use xlink:href=\"#DejaVuSans-30\" x=\"159.033203\"/>\n     <use xlink:href=\"#DejaVuSans-33\" x=\"222.65625\"/>\n     <use xlink:href=\"#DejaVuSans-31\" x=\"286.279297\"/>\n    </g>\n   </g>\n   <g id=\"text_100\">\n    <!-- 0.024 -->\n    <g style=\"fill: #ffffff\" transform=\"translate(518.460063 301.019375) scale(0.1 -0.1)\">\n     <use xlink:href=\"#DejaVuSans-30\"/>\n     <use xlink:href=\"#DejaVuSans-2e\" x=\"63.623047\"/>\n     <use xlink:href=\"#DejaVuSans-30\" x=\"95.410156\"/>\n     <use xlink:href=\"#DejaVuSans-32\" x=\"159.033203\"/>\n     <use xlink:href=\"#DejaVuSans-34\" x=\"222.65625\"/>\n    </g>\n   </g>\n   <g id=\"text_101\">\n    <!-- 0.0031 -->\n    <g style=\"fill: #ffffff\" transform=\"translate(33.166813 339.827375) scale(0.1 -0.1)\">\n     <use xlink:href=\"#DejaVuSans-30\"/>\n     <use xlink:href=\"#DejaVuSans-2e\" x=\"63.623047\"/>\n     <use xlink:href=\"#DejaVuSans-30\" x=\"95.410156\"/>\n     <use xlink:href=\"#DejaVuSans-30\" x=\"159.033203\"/>\n     <use xlink:href=\"#DejaVuSans-33\" x=\"222.65625\"/>\n     <use xlink:href=\"#DejaVuSans-31\" x=\"286.279297\"/>\n    </g>\n   </g>\n   <g id=\"text_102\">\n    <!-- 0.011 -->\n    <g style=\"fill: #ffffff\" transform=\"translate(89.916063 339.827375) scale(0.1 -0.1)\">\n     <use xlink:href=\"#DejaVuSans-30\"/>\n     <use xlink:href=\"#DejaVuSans-2e\" x=\"63.623047\"/>\n     <use xlink:href=\"#DejaVuSans-30\" x=\"95.410156\"/>\n     <use xlink:href=\"#DejaVuSans-31\" x=\"159.033203\"/>\n     <use xlink:href=\"#DejaVuSans-31\" x=\"222.65625\"/>\n    </g>\n   </g>\n   <g id=\"text_103\">\n    <!-- 0.0048 -->\n    <g style=\"fill: #ffffff\" transform=\"translate(140.302813 339.827375) scale(0.1 -0.1)\">\n     <use xlink:href=\"#DejaVuSans-30\"/>\n     <use xlink:href=\"#DejaVuSans-2e\" x=\"63.623047\"/>\n     <use xlink:href=\"#DejaVuSans-30\" x=\"95.410156\"/>\n     <use xlink:href=\"#DejaVuSans-30\" x=\"159.033203\"/>\n     <use xlink:href=\"#DejaVuSans-34\" x=\"222.65625\"/>\n     <use xlink:href=\"#DejaVuSans-38\" x=\"286.279297\"/>\n    </g>\n   </g>\n   <g id=\"text_104\">\n    <!-- 0.025 -->\n    <g style=\"fill: #ffffff\" transform=\"translate(197.052063 339.827375) scale(0.1 -0.1)\">\n     <use xlink:href=\"#DejaVuSans-30\"/>\n     <use xlink:href=\"#DejaVuSans-2e\" x=\"63.623047\"/>\n     <use xlink:href=\"#DejaVuSans-30\" x=\"95.410156\"/>\n     <use xlink:href=\"#DejaVuSans-32\" x=\"159.033203\"/>\n     <use xlink:href=\"#DejaVuSans-35\" x=\"222.65625\"/>\n    </g>\n   </g>\n   <g id=\"text_105\">\n    <!-- 0.0081 -->\n    <g style=\"fill: #ffffff\" transform=\"translate(247.438813 339.827375) scale(0.1 -0.1)\">\n     <use xlink:href=\"#DejaVuSans-30\"/>\n     <use xlink:href=\"#DejaVuSans-2e\" x=\"63.623047\"/>\n     <use xlink:href=\"#DejaVuSans-30\" x=\"95.410156\"/>\n     <use xlink:href=\"#DejaVuSans-30\" x=\"159.033203\"/>\n     <use xlink:href=\"#DejaVuSans-38\" x=\"222.65625\"/>\n     <use xlink:href=\"#DejaVuSans-31\" x=\"286.279297\"/>\n    </g>\n   </g>\n   <g id=\"text_106\">\n    <!-- 0.037 -->\n    <g style=\"fill: #ffffff\" transform=\"translate(304.188063 339.827375) scale(0.1 -0.1)\">\n     <use xlink:href=\"#DejaVuSans-30\"/>\n     <use xlink:href=\"#DejaVuSans-2e\" x=\"63.623047\"/>\n     <use xlink:href=\"#DejaVuSans-30\" x=\"95.410156\"/>\n     <use xlink:href=\"#DejaVuSans-33\" x=\"159.033203\"/>\n     <use xlink:href=\"#DejaVuSans-37\" x=\"222.65625\"/>\n    </g>\n   </g>\n   <g id=\"text_107\">\n    <!-- 0.01 -->\n    <g style=\"fill: #ffffff\" transform=\"translate(360.937313 339.827375) scale(0.1 -0.1)\">\n     <use xlink:href=\"#DejaVuSans-30\"/>\n     <use xlink:href=\"#DejaVuSans-2e\" x=\"63.623047\"/>\n     <use xlink:href=\"#DejaVuSans-30\" x=\"95.410156\"/>\n     <use xlink:href=\"#DejaVuSans-31\" x=\"159.033203\"/>\n    </g>\n   </g>\n   <g id=\"text_108\">\n    <!-- 0.012 -->\n    <g style=\"fill: #ffffff\" transform=\"translate(411.324063 339.827375) scale(0.1 -0.1)\">\n     <use xlink:href=\"#DejaVuSans-30\"/>\n     <use xlink:href=\"#DejaVuSans-2e\" x=\"63.623047\"/>\n     <use xlink:href=\"#DejaVuSans-30\" x=\"95.410156\"/>\n     <use xlink:href=\"#DejaVuSans-31\" x=\"159.033203\"/>\n     <use xlink:href=\"#DejaVuSans-32\" x=\"222.65625\"/>\n    </g>\n   </g>\n   <g id=\"text_109\">\n    <!-- 0.88 -->\n    <g style=\"fill: #262626\" transform=\"translate(468.073313 339.827375) scale(0.1 -0.1)\">\n     <use xlink:href=\"#DejaVuSans-30\"/>\n     <use xlink:href=\"#DejaVuSans-2e\" x=\"63.623047\"/>\n     <use xlink:href=\"#DejaVuSans-38\" x=\"95.410156\"/>\n     <use xlink:href=\"#DejaVuSans-38\" x=\"159.033203\"/>\n    </g>\n   </g>\n   <g id=\"text_110\">\n    <!-- 0.004 -->\n    <g style=\"fill: #ffffff\" transform=\"translate(518.460063 339.827375) scale(0.1 -0.1)\">\n     <use xlink:href=\"#DejaVuSans-30\"/>\n     <use xlink:href=\"#DejaVuSans-2e\" x=\"63.623047\"/>\n     <use xlink:href=\"#DejaVuSans-30\" x=\"95.410156\"/>\n     <use xlink:href=\"#DejaVuSans-30\" x=\"159.033203\"/>\n     <use xlink:href=\"#DejaVuSans-34\" x=\"222.65625\"/>\n    </g>\n   </g>\n   <g id=\"text_111\">\n    <!-- 0.0071 -->\n    <g style=\"fill: #ffffff\" transform=\"translate(33.166813 378.635375) scale(0.1 -0.1)\">\n     <use xlink:href=\"#DejaVuSans-30\"/>\n     <use xlink:href=\"#DejaVuSans-2e\" x=\"63.623047\"/>\n     <use xlink:href=\"#DejaVuSans-30\" x=\"95.410156\"/>\n     <use xlink:href=\"#DejaVuSans-30\" x=\"159.033203\"/>\n     <use xlink:href=\"#DejaVuSans-37\" x=\"222.65625\"/>\n     <use xlink:href=\"#DejaVuSans-31\" x=\"286.279297\"/>\n    </g>\n   </g>\n   <g id=\"text_112\">\n    <!-- 0.007 -->\n    <g style=\"fill: #ffffff\" transform=\"translate(89.916063 378.635375) scale(0.1 -0.1)\">\n     <use xlink:href=\"#DejaVuSans-30\"/>\n     <use xlink:href=\"#DejaVuSans-2e\" x=\"63.623047\"/>\n     <use xlink:href=\"#DejaVuSans-30\" x=\"95.410156\"/>\n     <use xlink:href=\"#DejaVuSans-30\" x=\"159.033203\"/>\n     <use xlink:href=\"#DejaVuSans-37\" x=\"222.65625\"/>\n    </g>\n   </g>\n   <g id=\"text_113\">\n    <!-- 0.00097 -->\n    <g style=\"fill: #ffffff\" transform=\"translate(137.121563 378.635375) scale(0.1 -0.1)\">\n     <use xlink:href=\"#DejaVuSans-30\"/>\n     <use xlink:href=\"#DejaVuSans-2e\" x=\"63.623047\"/>\n     <use xlink:href=\"#DejaVuSans-30\" x=\"95.410156\"/>\n     <use xlink:href=\"#DejaVuSans-30\" x=\"159.033203\"/>\n     <use xlink:href=\"#DejaVuSans-30\" x=\"222.65625\"/>\n     <use xlink:href=\"#DejaVuSans-39\" x=\"286.279297\"/>\n     <use xlink:href=\"#DejaVuSans-37\" x=\"349.902344\"/>\n    </g>\n   </g>\n   <g id=\"text_114\">\n    <!-- 0.011 -->\n    <g style=\"fill: #ffffff\" transform=\"translate(197.052063 378.635375) scale(0.1 -0.1)\">\n     <use xlink:href=\"#DejaVuSans-30\"/>\n     <use xlink:href=\"#DejaVuSans-2e\" x=\"63.623047\"/>\n     <use xlink:href=\"#DejaVuSans-30\" x=\"95.410156\"/>\n     <use xlink:href=\"#DejaVuSans-31\" x=\"159.033203\"/>\n     <use xlink:href=\"#DejaVuSans-31\" x=\"222.65625\"/>\n    </g>\n   </g>\n   <g id=\"text_115\">\n    <!-- 0.039 -->\n    <g style=\"fill: #ffffff\" transform=\"translate(250.620063 378.635375) scale(0.1 -0.1)\">\n     <use xlink:href=\"#DejaVuSans-30\"/>\n     <use xlink:href=\"#DejaVuSans-2e\" x=\"63.623047\"/>\n     <use xlink:href=\"#DejaVuSans-30\" x=\"95.410156\"/>\n     <use xlink:href=\"#DejaVuSans-33\" x=\"159.033203\"/>\n     <use xlink:href=\"#DejaVuSans-39\" x=\"222.65625\"/>\n    </g>\n   </g>\n   <g id=\"text_116\">\n    <!-- 0.01 -->\n    <g style=\"fill: #ffffff\" transform=\"translate(307.369313 378.635375) scale(0.1 -0.1)\">\n     <use xlink:href=\"#DejaVuSans-30\"/>\n     <use xlink:href=\"#DejaVuSans-2e\" x=\"63.623047\"/>\n     <use xlink:href=\"#DejaVuSans-30\" x=\"95.410156\"/>\n     <use xlink:href=\"#DejaVuSans-31\" x=\"159.033203\"/>\n    </g>\n   </g>\n   <g id=\"text_117\">\n    <!-- 0.001 -->\n    <g style=\"fill: #ffffff\" transform=\"translate(357.756063 378.635375) scale(0.1 -0.1)\">\n     <use xlink:href=\"#DejaVuSans-30\"/>\n     <use xlink:href=\"#DejaVuSans-2e\" x=\"63.623047\"/>\n     <use xlink:href=\"#DejaVuSans-30\" x=\"95.410156\"/>\n     <use xlink:href=\"#DejaVuSans-30\" x=\"159.033203\"/>\n     <use xlink:href=\"#DejaVuSans-31\" x=\"222.65625\"/>\n    </g>\n   </g>\n   <g id=\"text_118\">\n    <!-- 0.026 -->\n    <g style=\"fill: #ffffff\" transform=\"translate(411.324063 378.635375) scale(0.1 -0.1)\">\n     <use xlink:href=\"#DejaVuSans-30\"/>\n     <use xlink:href=\"#DejaVuSans-2e\" x=\"63.623047\"/>\n     <use xlink:href=\"#DejaVuSans-30\" x=\"95.410156\"/>\n     <use xlink:href=\"#DejaVuSans-32\" x=\"159.033203\"/>\n     <use xlink:href=\"#DejaVuSans-36\" x=\"222.65625\"/>\n    </g>\n   </g>\n   <g id=\"text_119\">\n    <!-- 0.01 -->\n    <g style=\"fill: #ffffff\" transform=\"translate(468.073313 378.635375) scale(0.1 -0.1)\">\n     <use xlink:href=\"#DejaVuSans-30\"/>\n     <use xlink:href=\"#DejaVuSans-2e\" x=\"63.623047\"/>\n     <use xlink:href=\"#DejaVuSans-30\" x=\"95.410156\"/>\n     <use xlink:href=\"#DejaVuSans-31\" x=\"159.033203\"/>\n    </g>\n   </g>\n   <g id=\"text_120\">\n    <!-- 0.89 -->\n    <g style=\"fill: #262626\" transform=\"translate(521.641313 378.635375) scale(0.1 -0.1)\">\n     <use xlink:href=\"#DejaVuSans-30\"/>\n     <use xlink:href=\"#DejaVuSans-2e\" x=\"63.623047\"/>\n     <use xlink:href=\"#DejaVuSans-38\" x=\"95.410156\"/>\n     <use xlink:href=\"#DejaVuSans-39\" x=\"159.033203\"/>\n    </g>\n   </g>\n  </g>\n  <g id=\"axes_2\">\n   <g id=\"patch_3\">\n    <path d=\"M 593.038125 395.28 \nL 612.442125 395.28 \nL 612.442125 7.2 \nL 593.038125 7.2 \nz\n\" style=\"fill: #ffffff\"/>\n   </g>\n   <g id=\"patch_4\">\n    <path clip-path=\"url(#p9b7ec88699)\" style=\"fill: #ffffff; stroke: #ffffff; stroke-width: 0.01; stroke-linejoin: miter\"/>\n   </g>\n   <image xlink:href=\"data:image/png;base64,\niVBORw0KGgoAAAANSUhEUgAAABsAAAIbCAYAAAAaS+V8AAACgElEQVR4nO2di23DUBDD/NLXJbr/nu0QJQSYIBc4yNJ96hTJ+fr++X1GfFaFnud57hkWGys7O20pe1+xex7pY/QG5H60yrxpFHumVfbRplHsmVVZAUGoqRE6CxC840qcxiYIQZ4h3HN29cwHjzYg4hWTZwB5hpBnCHmG4PWsuxGhWx8hzxC846o0IuQZgliZ9n94uogRWjEIrRgEs2daZctq9RmCt89qagRxU2ujrx5XO5ogCOI+K40EpfF9xbyvk8RveBpXBHmGkGcILU8E7z4rIAjipm4QEzSuEJogCKURoTQiiA+eok8wVjb7mqaaGkLdZzuaIAilEUF8FnhXTNEnSBlCfYZQGhHEyo62z7Se9RgRWjEIpRGhNCKs07gzrTQieCdITY1wP7/aph4WK40IrRiEdRq1ng2Lpex9xYo+Qp4hmJfn8OIpjQjmCTL8FGHdZ1Zl2j+ZCghCTY2w9mxXrDQilEaE0ojgTeM4IMO3mzU1gtozqzLtuLrDX7cqjQzqCbIrlmfvK+Z9jEUfoeWJoF6eu2L1GYLYs8faZwUEIWUI46bWKsszgjxDUHtm/eYTrWcFBMEbkPtoPSuNBKURQZ3GlP0f81mg/e0RbUDUynb18gyh5Ymw/hChPvs/KXtfsXtaMQCNKwSzZ/UZQH2GIPZMu88KCEJNjdDyRLiP+H2j1jOxMm0axVNfqqzXtghFHyFlCB08CE0QBLNnVmWNKwRvQMzKGsQAeYaQZwh5huBVVvQRvAHJM4Q8QxB7ds7XrFieIXiVNa4QvAFRe6YdxGLPtMq0nnXwEJTG9xUrIAidBQhqz6zKTp4B1GcI3tlYQBDETd0gJqjPELyD+A8x2y/1UHxA+AAAAABJRU5ErkJggg==\" id=\"imageceda0f3c37\" transform=\"scale(1 -1) translate(0 -388.08)\" x=\"593.28\" y=\"-7.2\" width=\"19.44\" height=\"388.08\"/>\n   <g id=\"matplotlib.axis_3\"/>\n   <g id=\"matplotlib.axis_4\">\n    <g id=\"ytick_11\">\n     <g id=\"line2d_21\">\n      <defs>\n       <path id=\"m117cfe7b11\" d=\"M 0 0 \nL 3.5 0 \n\" style=\"stroke: #000000; stroke-width: 0.8\"/>\n      </defs>\n      <g>\n       <use xlink:href=\"#m117cfe7b11\" x=\"612.442125\" y=\"395.28\" style=\"stroke: #000000; stroke-width: 0.8\"/>\n      </g>\n     </g>\n     <g id=\"text_121\">\n      <!-- 0.0 -->\n      <g transform=\"translate(619.442125 399.079219) scale(0.1 -0.1)\">\n       <use xlink:href=\"#DejaVuSans-30\"/>\n       <use xlink:href=\"#DejaVuSans-2e\" x=\"63.623047\"/>\n       <use xlink:href=\"#DejaVuSans-30\" x=\"95.410156\"/>\n      </g>\n     </g>\n    </g>\n    <g id=\"ytick_12\">\n     <g id=\"line2d_22\">\n      <g>\n       <use xlink:href=\"#m117cfe7b11\" x=\"612.442125\" y=\"316.271785\" style=\"stroke: #000000; stroke-width: 0.8\"/>\n      </g>\n     </g>\n     <g id=\"text_122\">\n      <!-- 0.2 -->\n      <g transform=\"translate(619.442125 320.071004) scale(0.1 -0.1)\">\n       <use xlink:href=\"#DejaVuSans-30\"/>\n       <use xlink:href=\"#DejaVuSans-2e\" x=\"63.623047\"/>\n       <use xlink:href=\"#DejaVuSans-32\" x=\"95.410156\"/>\n      </g>\n     </g>\n    </g>\n    <g id=\"ytick_13\">\n     <g id=\"line2d_23\">\n      <g>\n       <use xlink:href=\"#m117cfe7b11\" x=\"612.442125\" y=\"237.26357\" style=\"stroke: #000000; stroke-width: 0.8\"/>\n      </g>\n     </g>\n     <g id=\"text_123\">\n      <!-- 0.4 -->\n      <g transform=\"translate(619.442125 241.062788) scale(0.1 -0.1)\">\n       <use xlink:href=\"#DejaVuSans-30\"/>\n       <use xlink:href=\"#DejaVuSans-2e\" x=\"63.623047\"/>\n       <use xlink:href=\"#DejaVuSans-34\" x=\"95.410156\"/>\n      </g>\n     </g>\n    </g>\n    <g id=\"ytick_14\">\n     <g id=\"line2d_24\">\n      <g>\n       <use xlink:href=\"#m117cfe7b11\" x=\"612.442125\" y=\"158.255354\" style=\"stroke: #000000; stroke-width: 0.8\"/>\n      </g>\n     </g>\n     <g id=\"text_124\">\n      <!-- 0.6 -->\n      <g transform=\"translate(619.442125 162.054573) scale(0.1 -0.1)\">\n       <use xlink:href=\"#DejaVuSans-30\"/>\n       <use xlink:href=\"#DejaVuSans-2e\" x=\"63.623047\"/>\n       <use xlink:href=\"#DejaVuSans-36\" x=\"95.410156\"/>\n      </g>\n     </g>\n    </g>\n    <g id=\"ytick_15\">\n     <g id=\"line2d_25\">\n      <g>\n       <use xlink:href=\"#m117cfe7b11\" x=\"612.442125\" y=\"79.247139\" style=\"stroke: #000000; stroke-width: 0.8\"/>\n      </g>\n     </g>\n     <g id=\"text_125\">\n      <!-- 0.8 -->\n      <g transform=\"translate(619.442125 83.046358) scale(0.1 -0.1)\">\n       <use xlink:href=\"#DejaVuSans-30\"/>\n       <use xlink:href=\"#DejaVuSans-2e\" x=\"63.623047\"/>\n       <use xlink:href=\"#DejaVuSans-38\" x=\"95.410156\"/>\n      </g>\n     </g>\n    </g>\n   </g>\n   <g id=\"LineCollection_1\"/>\n   <g id=\"patch_5\">\n    <path d=\"M 593.038125 395.28 \nL 602.740125 395.28 \nL 612.442125 395.28 \nL 612.442125 7.2 \nL 602.740125 7.2 \nL 593.038125 7.2 \nL 593.038125 395.28 \nz\n\" style=\"fill: none\"/>\n   </g>\n  </g>\n </g>\n <defs>\n  <clipPath id=\"p7bba965886\">\n   <rect x=\"23.878125\" y=\"7.2\" width=\"535.68\" height=\"388.08\"/>\n  </clipPath>\n  <clipPath id=\"p9b7ec88699\">\n   <rect x=\"593.038125\" y=\"7.2\" width=\"19.404\" height=\"388.08\"/>\n  </clipPath>\n </defs>\n</svg>\n",
      "text/plain": [
       "<Figure size 1200x700 with 2 Axes>"
      ]
     },
     "metadata": {},
     "output_type": "display_data"
    }
   ],
   "source": [
    "from sklearn.metrics import confusion_matrix\n",
    "import seaborn as sn\n",
    "import pandas as pd\n",
    "import numpy as np\n",
    "\n",
    "cf_matrix = confusion_matrix(y_true, y_pred)\n",
    "df_cm = pd.DataFrame(cf_matrix / np.sum(cf_matrix, axis=1), index = [i for i in mnist_labels],\n",
    "                     columns = [i for i in mnist_labels])\n",
    "plt.figure(figsize = (12,7))\n",
    "sn.heatmap(df_cm, annot=True)\n",
    "plt.savefig('confusion_matrix.png')"
   ]
  },
  {
   "attachments": {},
   "cell_type": "markdown",
   "metadata": {},
   "source": [
    "# Out of Distribution (OOD) Analysis"
   ]
  },
  {
   "cell_type": "code",
   "execution_count": 164,
   "metadata": {},
   "outputs": [],
   "source": [
    "trainset = torchvision.datasets.MNIST(root=\"./data\", train=True, transform=torchvision.transforms.ToTensor(), download=True)\n",
    "testset = torchvision.datasets.MNIST(root=\"./data\", train=False, transform=torchvision.transforms.ToTensor(), download=True)"
   ]
  },
  {
   "cell_type": "code",
   "execution_count": 165,
   "metadata": {},
   "outputs": [],
   "source": [
    "# Constructing our train data to be full of just 1's and 6's\n",
    "new_train_set = []\n",
    "for X, y in trainset:\n",
    "    if y == 1 or y == 6:\n",
    "        new_train_set.append((X, y))\n",
    "\n",
    "# Constructing our in-distribution test data to be full of just 1's and 6's\n",
    "in_test_set = []\n",
    "for X, y in testset:\n",
    "    if y == 1 or y == 6:\n",
    "        in_test_set.append((X, y))\n",
    "\n",
    "# Constructing our out-of-distribution test data to be full of just 3's\n",
    "out_test_set = []\n",
    "for X, y in testset:\n",
    "    if y == 3:\n",
    "        out_test_set.append((X, y))"
   ]
  },
  {
   "cell_type": "code",
   "execution_count": 166,
   "metadata": {},
   "outputs": [],
   "source": [
    "iter_from = lambda dataset: torch.utils.data.DataLoader(dataset, batch_size, shuffle=True, num_workers=2)\n",
    "\n",
    "train_iter = iter_from(new_train_set)\n",
    "in_test_iter = iter_from(in_test_set)\n",
    "out_test_iter = iter_from(out_test_set)"
   ]
  },
  {
   "cell_type": "code",
   "execution_count": 167,
   "metadata": {},
   "outputs": [],
   "source": [
    "def new_train_test_function(net, params, train_iter, in_test, out_test, loss, updater):\n",
    "  for _ in tqdm(range(epochs)):\n",
    "    trials = 0\n",
    "\n",
    "    for X, y in train_iter:\n",
    "      trials += 1\n",
    "      y_hat = net(X)\n",
    "      l = loss(y_hat, y).mean()\n",
    "\n",
    "      l.backward()\n",
    "      updater(params, lr)\n",
    "  \n",
    "  # In distribution\n",
    "  test_acc = 0.0\n",
    "  trials = 0\n",
    "  for X, y in in_test:\n",
    "    trials += 1\n",
    "    with torch.no_grad():\n",
    "      y_hat = net(X)\n",
    "      l = loss(y_hat, y).mean()\n",
    "      acc = accuracy(y_hat, y)\n",
    "      test_acc += acc\n",
    "  \n",
    "  print(\"Test Accuracy (In Distribution): \" + str(test_acc.item() / trials))\n",
    "  \n",
    "  # Out of distribution\n",
    "  test_acc = 0.0\n",
    "  trials = 0\n",
    "  for X, y in out_test:\n",
    "    trials += 1\n",
    "    with torch.no_grad():\n",
    "      y_hat = net(X)\n",
    "      l = loss(y_hat, y).mean()\n",
    "      acc = accuracy(y_hat, y)\n",
    "\n",
    "      test_acc += acc\n",
    "  \n",
    "  print(\"Test Accuracy (Out of Distribution): \" + str(test_acc.item() / trials))"
   ]
  },
  {
   "cell_type": "code",
   "execution_count": 168,
   "metadata": {},
   "outputs": [
    {
     "name": "stderr",
     "output_type": "stream",
     "text": [
      "100%|██████████| 10/10 [00:34<00:00,  3.49s/it]\n"
     ]
    },
    {
     "name": "stdout",
     "output_type": "stream",
     "text": [
      "Test Accuracy (In Distribution): 0.9972426470588235\n",
      "Test Accuracy (Out of Distribution): 0.2127021700143814\n"
     ]
    }
   ],
   "source": [
    "new_train_test_function(net, params, train_iter, in_test_iter, out_test_iter, loss=cross_entropy, updater=sgd)"
   ]
  },
  {
   "cell_type": "code",
   "execution_count": null,
   "metadata": {},
   "outputs": [],
   "source": []
  }
 ],
 "metadata": {
  "kernelspec": {
   "display_name": "Python 3",
   "language": "python",
   "name": "python3"
  },
  "language_info": {
   "codemirror_mode": {
    "name": "ipython",
    "version": 3
   },
   "file_extension": ".py",
   "mimetype": "text/x-python",
   "name": "python",
   "nbconvert_exporter": "python",
   "pygments_lexer": "ipython3",
   "version": "3.10.1"
  },
  "orig_nbformat": 4,
  "vscode": {
   "interpreter": {
    "hash": "aee8b7b246df8f9039afb4144a1f6fd8d2ca17a180786b69acc140d282b71a49"
   }
  }
 },
 "nbformat": 4,
 "nbformat_minor": 2
}
